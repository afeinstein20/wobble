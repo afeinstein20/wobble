{
 "cells": [
  {
   "cell_type": "code",
   "execution_count": 1,
   "metadata": {
    "collapsed": false
   },
   "outputs": [
    {
     "name": "stderr",
     "output_type": "stream",
     "text": [
      "/usr/local/lib/python3.6/site-packages/h5py/__init__.py:36: FutureWarning: Conversion of the second argument of issubdtype from `float` to `np.floating` is deprecated. In future, it will be treated as `np.float64 == np.dtype(float).type`.\n",
      "  from ._conv import register_converters as _register_converters\n"
     ]
    }
   ],
   "source": [
    "from wobble.interp import interp\n",
    "import h5py\n",
    "import wobble\n",
    "import numpy as np\n",
    "import matplotlib.pyplot as plt\n",
    "from tqdm import tqdm"
   ]
  },
  {
   "cell_type": "markdown",
   "metadata": {},
   "source": [
    "## Read in data"
   ]
  },
  {
   "cell_type": "code",
   "execution_count": 2,
   "metadata": {
    "collapsed": true
   },
   "outputs": [],
   "source": [
    "starid = 'hip54287'\n",
    "filename = 'data/'+starid+'_e2ds.hdf5'\n",
    "order = 56"
   ]
  },
  {
   "cell_type": "code",
   "execution_count": 3,
   "metadata": {
    "collapsed": false
   },
   "outputs": [],
   "source": [
    "with h5py.File(filename) as f:\n",
    "    data = np.log(f['data'][order])\n",
    "    data_xs = np.log(f['xs'][order])\n",
    "    ivars = np.copy(f['ivars'][order])\n",
    "    pipeline_rvs = -1. * np.copy(f['pipeline_rvs'])\n",
    "    bervs = -1. * np.copy(f['bervs'])\n",
    "    airms = np.copy(f['airms'])"
   ]
  },
  {
   "cell_type": "code",
   "execution_count": 4,
   "metadata": {
    "collapsed": false
   },
   "outputs": [],
   "source": [
    "for n in range(len(data)):\n",
    "    data[n] -= wobble.fit_continuum(data_xs[n], data[n], ivars[n])"
   ]
  },
  {
   "cell_type": "code",
   "execution_count": 5,
   "metadata": {
    "collapsed": false
   },
   "outputs": [
    {
     "data": {
      "text/plain": [
       "[<matplotlib.lines.Line2D at 0x111d75860>]"
      ]
     },
     "execution_count": 5,
     "metadata": {},
     "output_type": "execute_result"
    },
    {
     "data": {
      "image/png": "[encoded data removed]",
      "text/plain": [
       "<Figure size 432x288 with 1 Axes>"
      ]
     },
     "metadata": {},
     "output_type": "display_data"
    }
   ],
   "source": [
    "plt.plot(data_xs[0], data[0])\n",
    "plt.plot(data_xs[5], data[5])"
   ]
  },
  {
   "cell_type": "code",
   "execution_count": 6,
   "metadata": {
    "collapsed": false
   },
   "outputs": [
    {
     "data": {
      "text/plain": [
       "75"
      ]
     },
     "execution_count": 6,
     "metadata": {},
     "output_type": "execute_result"
    }
   ],
   "source": [
    "len(data)"
   ]
  },
  {
   "cell_type": "code",
   "execution_count": 7,
   "metadata": {
    "collapsed": false
   },
   "outputs": [
    {
     "name": "stdout",
     "output_type": "stream",
     "text": [
      "initializing star model...\n",
      "initializing tellurics model...\n"
     ]
    }
   ],
   "source": [
    "a = wobble.star(starid+'_e2ds.hdf5', filepath='data/', orders=[order])\n",
    "a.initialize_model(0, 'star')\n",
    "star_model_xs, star_model_ys = a.model_xs_star[0], a.model_ys_star[0]\n",
    "a.initialize_model(0, 't')\n",
    "t_model_xs, t_model_ys = a.model_xs_t[0], a.model_ys_t[0]"
   ]
  },
  {
   "cell_type": "markdown",
   "metadata": {},
   "source": [
    "## Build wobbleflow framework"
   ]
  },
  {
   "cell_type": "code",
   "execution_count": 8,
   "metadata": {
    "collapsed": true
   },
   "outputs": [],
   "source": [
    "import tensorflow as tf"
   ]
  },
  {
   "cell_type": "code",
   "execution_count": 9,
   "metadata": {
    "collapsed": false
   },
   "outputs": [
    {
     "name": "stdout",
     "output_type": "stream",
     "text": [
      "CPU times: user 5 µs, sys: 1 µs, total: 6 µs\n",
      "Wall time: 12.2 µs\n"
     ]
    }
   ],
   "source": [
    "%time\n",
    "T = tf.float64\n",
    "data_tensor = tf.constant(data, dtype=T)\n",
    "xs_tensor = tf.constant(data_xs, dtype=T)\n",
    "ivars_tensor = tf.constant(ivars, dtype=T)"
   ]
  },
  {
   "cell_type": "code",
   "execution_count": 10,
   "metadata": {
    "collapsed": true
   },
   "outputs": [],
   "source": [
    "starting_rvs = pipeline_rvs + np.random.normal(0., 100., len(pipeline_rvs))"
   ]
  },
  {
   "cell_type": "code",
   "execution_count": 11,
   "metadata": {
    "collapsed": true
   },
   "outputs": [],
   "source": [
    "speed_of_light = 2.99792458e8   # m/s\n",
    "\n",
    "def doppler(v):\n",
    "    frac = (1. - v/speed_of_light) / (1. + v/speed_of_light)\n",
    "    return tf.sqrt(frac)"
   ]
  },
  {
   "cell_type": "code",
   "execution_count": 12,
   "metadata": {},
   "outputs": [],
   "source": [
    "#setup a data object that functions like wobble.Data:\n",
    "class Data(object):\n",
    "    def __init__(self):\n",
    "        self.N = len(pipeline_rvs)\n",
    "        self.R = 1\n",
    "        self.ys = data\n",
    "        self.xs = data_xs\n",
    "        self.ivars = ivars\n",
    "        self.pipeline_rvs = pipeline_rvs\n",
    "        self.bervs = bervs\n",
    "        \n",
    "    def make_tensors(self):\n",
    "        self.ys_tensor = [tf.constant(y, dtype=T) for y in self.ys]\n",
    "        self.xs_tensor = [tf.constant(x, dtype=T) for x in self.xs]\n",
    "        self.ivars_tensor = [tf.constant(i, dtype=T) for i in self.ivars]\n",
    "        \n",
    "data = Data()"
   ]
  },
  {
   "cell_type": "code",
   "execution_count": 13,
   "metadata": {},
   "outputs": [],
   "source": [
    "#setup a model object that functions like wobble.Model:\n",
    "class Model(object):\n",
    "    \"\"\"\n",
    "    Keeps track of all components in the model.\n",
    "    \"\"\"\n",
    "    def __init__(self, data):\n",
    "        self.components = []\n",
    "        self.data = data\n",
    "        \n",
    "    def add_star(self, name):\n",
    "        name = Star(self.data)\n",
    "        self.components.append(name)\n",
    "        \n",
    "    def add_telluric(self, name):\n",
    "        name = Telluric(self.data)\n",
    "        self.components.append(name)\n",
    "        \n",
    "class Component(object):\n",
    "    \"\"\"\n",
    "    Generic class for an additive component in the spectral model.\n",
    "    \"\"\"\n",
    "    def __init__(self, data):\n",
    "        self.rvs_block = [np.zeros(data.N) for r in range(data.R)]\n",
    "        self.model_xs = [np.zeros(100) for r in range(data.R)]\n",
    "        self.model_ys = [np.zeros(100) for r in range(data.R)]\n",
    "        \n",
    "        \n",
    "    def make_tensors(self):\n",
    "        \"\"\"\n",
    "        Convert attributes to TensorFlow variables in preparation for optimizing.\n",
    "        \"\"\"\n",
    "        self.rvs_block_tensor = [tf.Variable(v, dtype=T) for v in self.rvs_block]\n",
    "        self.model_ys_tensor = [tf.Variable(m, dtype=T) for m in self.model_ys]\n",
    "        self.model_xs_tensor = [tf.Variable(m, dtype=T) for m in self.model_xs]\n",
    "        \n",
    "    def shift_and_interp(self, r, xs, rv):\n",
    "        \"\"\"\n",
    "        Apply a Doppler shift to the model at order r and output interpolated values at xs.\n",
    "        \"\"\"\n",
    "        shifted_xs = xs + tf.log(doppler(rv))\n",
    "        return interp(shifted_xs, self.model_xs_tensor[r], self.model_ys_tensor[r])        \n",
    "\n",
    "class Star(Component):\n",
    "    \"\"\"\n",
    "    A star (or generic celestial object)\n",
    "    \"\"\"\n",
    "    def __init__(self, data):\n",
    "        Component.__init__(self, data)\n",
    "        self.rvs_block = [starting_rvs for r in range(data.R)]\n",
    "        self.initialize_model(data)\n",
    "    \n",
    "    def initialize_model(self, data):\n",
    "        # hackety fucking hack\n",
    "        self.model_xs = [star_model_xs]\n",
    "        self.model_ys = [star_model_ys]       \n",
    "\n",
    "class Telluric(Component):\n",
    "    \"\"\"\n",
    "    Sky absorption\n",
    "    \"\"\"\n",
    "    def __init__(self, data):\n",
    "        Component.__init__(self, data)\n",
    "        self.initialize_model(data)\n",
    "        \n",
    "    def initialize_model(self, data):\n",
    "        # hackety fucking hack\n",
    "        self.model_xs = [t_model_xs]\n",
    "        self.model_ys = [t_model_ys]"
   ]
  },
  {
   "cell_type": "code",
   "execution_count": 14,
   "metadata": {},
   "outputs": [
    {
     "name": "stdout",
     "output_type": "stream",
     "text": [
      "CPU times: user 4 µs, sys: 1e+03 ns, total: 5 µs\n",
      "Wall time: 9.06 µs\n"
     ]
    }
   ],
   "source": [
    "%time\n",
    "model = Model(data)\n",
    "model.add_star('a')\n",
    "model.add_telluric('t')\n",
    "for c in model.components:\n",
    "    c.make_tensors()"
   ]
  },
  {
   "cell_type": "code",
   "execution_count": 15,
   "metadata": {},
   "outputs": [],
   "source": [
    "r = 0\n",
    "shifted_xs_star = xs_tensor + tf.log(doppler(model.components[0].rvs_block_tensor[r][:, None]))\n",
    "models_star = interp(shifted_xs_star, model.components[0].model_xs_tensor[r], model.components[0].model_ys_tensor[r])\n",
    "shifted_xs_t = xs_tensor + tf.log(doppler(model.components[1].rvs_block_tensor[r][:, None]))\n",
    "models_t = interp(shifted_xs_t, model.components[1].model_xs_tensor[r], model.components[1].model_ys_tensor[r])\n",
    "models = models_star + models_t\n",
    "nll = 0.5*tf.reduce_sum(tf.square(data_tensor - models) * ivars_tensor)"
   ]
  },
  {
   "cell_type": "code",
   "execution_count": 16,
   "metadata": {},
   "outputs": [],
   "source": [
    "grad_model_star = tf.gradients(nll, model.components[0].model_ys_tensor[r])\n",
    "grad_rvs_star = tf.gradients(nll, model.components[0].rvs_block_tensor[r])\n",
    "grad_model_t = tf.gradients(nll, model.components[1].model_ys_tensor[r])\n",
    "grad_rvs_t = tf.gradients(nll, model.components[1].rvs_block_tensor[r])"
   ]
  },
  {
   "cell_type": "markdown",
   "metadata": {},
   "source": [
    "## Check some gradients"
   ]
  },
  {
   "cell_type": "code",
   "execution_count": 17,
   "metadata": {},
   "outputs": [],
   "source": [
    "session = tf.Session()\n",
    "session.run(tf.global_variables_initializer())\n",
    "tf_grad = session.run(grad_rvs_star)[0]"
   ]
  },
  {
   "cell_type": "code",
   "execution_count": 18,
   "metadata": {},
   "outputs": [
    {
     "name": "stdout",
     "output_type": "stream",
     "text": [
      "Optimizer gradients - TF.gradient():\n",
      "[0. 0. 0. 0. 0. 0. 0. 0. 0. 0. 0. 0. 0. 0. 0. 0. 0. 0. 0. 0. 0. 0. 0. 0.\n",
      " 0. 0. 0. 0. 0. 0. 0. 0. 0. 0. 0. 0. 0. 0. 0. 0. 0. 0. 0. 0. 0. 0. 0. 0.\n",
      " 0. 0. 0. 0. 0. 0. 0. 0. 0. 0. 0. 0. 0. 0. 0. 0. 0. 0. 0. 0. 0. 0. 0. 0.\n",
      " 0. 0. 0.]\n"
     ]
    }
   ],
   "source": [
    "opt_grad_rvs_star = tf.train.AdamOptimizer(10.).compute_gradients(nll, var_list=[model.components[0].rvs_block_tensor[r]])\n",
    "opt_grad = session.run(opt_grad_rvs_star)[0][0]\n",
    "print(\"Optimizer gradients - TF.gradient():\")\n",
    "print(opt_grad - tf_grad)"
   ]
  },
  {
   "cell_type": "code",
   "execution_count": 19,
   "metadata": {},
   "outputs": [],
   "source": [
    "rvs = tf.placeholder(T, (75,))\n",
    "shifted_xs_star2 = xs_tensor + tf.log(doppler(rvs[:,None]))\n",
    "models_star2 = interp(shifted_xs_star2, model.components[0].model_xs_tensor[r], model.components[0].model_ys_tensor[r])\n",
    "models2 = models_star2 + models_t\n",
    "nll2 = 0.5*tf.reduce_sum(tf.square(data_tensor - models2) * ivars_tensor)"
   ]
  },
  {
   "cell_type": "code",
   "execution_count": 20,
   "metadata": {},
   "outputs": [
    {
     "name": "stdout",
     "output_type": "stream",
     "text": [
      "Fractional difference between numerical gradients & TF gradient at each RV_star:\n",
      "[ 2.58873641e-04  1.60810540e-05 -1.00708529e-03 -1.94761939e-04\n",
      "  1.13835860e-03 -5.05911441e-05  8.57270968e-05  3.09570456e-05\n",
      " -3.43069223e-05 -3.00080264e-04  9.73355367e-06  1.50887559e-04\n",
      " -1.81582217e-04  5.95068405e-05 -6.56431012e-05  7.90588093e-04\n",
      " -2.38990264e-04  5.08946118e-05 -9.19559016e-06 -1.07174931e-04\n",
      " -1.79894558e-04  1.28584445e-04 -9.29771196e-06 -9.87008834e-05\n",
      "  2.00479554e-05 -6.01665103e-05 -9.57230377e-05 -1.52360034e-04\n",
      "  8.12631288e-04 -1.42285306e-04  5.58401991e-04 -7.50708533e-05\n",
      "  7.48153851e-05 -3.73039526e-04  2.68515389e-04 -5.25130893e-07\n",
      " -1.13717971e-04  1.90634014e-04  3.14954419e-04  1.04252047e-04\n",
      " -1.77860937e-04 -8.68382250e-05 -1.52383036e-04 -6.83570463e-05\n",
      " -7.88886148e-04 -1.15322354e-04  4.54309572e-06  7.51266439e-05\n",
      "  3.80303349e-04  5.02414181e-04 -1.66444061e-04 -2.19942295e-04\n",
      "  7.35113256e-05  2.38305955e-04 -2.16684025e-05 -2.67099403e-04\n",
      " -2.31568943e-04  1.59780767e-04  2.54314388e-04 -6.94981237e-04\n",
      " -1.37923740e-05  6.16867504e-04  1.42631909e-05 -1.91500034e-04\n",
      "  4.37676491e-04 -1.47246929e-05 -6.03646150e-05  7.28604909e-05\n",
      "  8.47972978e-05  9.83826647e-04 -3.90387746e-05  2.75300955e-04\n",
      " -1.40245541e-04 -7.79898087e-04  3.94838877e-04]\n"
     ]
    }
   ],
   "source": [
    "num_grads = np.zeros_like(tf_grad)\n",
    "rvs0 = model.components[0].rvs_block[r]\n",
    "#print(rvs0 - session.run(model.components[0].rvs_block_tensor[r]))\n",
    "nll_0 = session.run(nll2, feed_dict={rvs:rvs0})\n",
    "d_rvs = 0.001\n",
    "for n in range(75):\n",
    "    rvs1 = np.copy(rvs0)\n",
    "    rvs1[n] += d_rvs\n",
    "    nll_1 = session.run(nll2, feed_dict={rvs:rvs1})\n",
    "    num_grads[n] = np.copy((nll_1 - nll_0)/d_rvs)\n",
    "print(\"Fractional difference between numerical gradients & TF gradient at each RV_star:\")\n",
    "print((num_grads - tf_grad) / np.median(np.abs(tf_grad)))"
   ]
  },
  {
   "cell_type": "markdown",
   "metadata": {},
   "source": [
    "## Optimize"
   ]
  },
  {
   "cell_type": "code",
   "execution_count": 21,
   "metadata": {},
   "outputs": [],
   "source": [
    "opt_model_star = tf.train.AdamOptimizer(0.01).minimize(nll, var_list=[model.components[0].model_ys_tensor[r]])\n",
    "opt_rvs_star = tf.train.AdamOptimizer(10.).minimize(nll, var_list=model.components[0].rvs_block_tensor[r])\n",
    "opt_model_t = tf.train.AdamOptimizer(0.1).minimize(nll, var_list=[model.components[1].model_ys_tensor[r]])\n",
    "opt_rvs_t = tf.train.AdamOptimizer(10.).minimize(nll, var_list=model.components[1].rvs_block_tensor[r])"
   ]
  },
  {
   "cell_type": "code",
   "execution_count": 22,
   "metadata": {},
   "outputs": [
    {
     "name": "stderr",
     "output_type": "stream",
     "text": [
      "100%|██████████| 80/80 [00:19<00:00,  4.17it/s]"
     ]
    },
    {
     "name": "stdout",
     "output_type": "stream",
     "text": [
      "CPU times: user 44.7 s, sys: 5.97 s, total: 50.6 s\n",
      "Wall time: 19.5 s\n"
     ]
    },
    {
     "name": "stderr",
     "output_type": "stream",
     "text": [
      "\n"
     ]
    }
   ],
   "source": [
    "%%time\n",
    "session = tf.Session()\n",
    "session.run(tf.global_variables_initializer())\n",
    "\n",
    "nll_history = []\n",
    "for i in tqdm(range(80)):\n",
    "    session.run(opt_rvs_star)\n",
    "    nll_history.append(session.run(nll))\n",
    "    session.run(opt_rvs_t)\n",
    "    nll_history.append(session.run(nll))\n",
    "    session.run(opt_model_star)\n",
    "    nll_history.append(session.run(nll))\n",
    "    session.run(opt_model_t)\n",
    "    nll_history.append(session.run(nll))          \n",
    "\n",
    "soln_model_star = session.run(model.components[0].model_ys_tensor[r])\n",
    "soln_rvs_star = session.run(model.components[0].rvs_block_tensor[r])\n",
    "soln_model_t = session.run(model.components[1].model_ys_tensor[r])\n",
    "soln_rvs_t = session.run(model.components[1].rvs_block_tensor[r])"
   ]
  },
  {
   "cell_type": "code",
   "execution_count": 23,
   "metadata": {},
   "outputs": [
    {
     "data": {
      "image/png": "[encoded data removed]",
      "text/plain": [
       "<Figure size 432x288 with 1 Axes>"
      ]
     },
     "metadata": {},
     "output_type": "display_data"
    }
   ],
   "source": [
    "plt.scatter(np.arange(len(nll_history)), nll_history)\n",
    "ax = plt.gca()\n",
    "ax.set_yscale('log')"
   ]
  },
  {
   "cell_type": "code",
   "execution_count": 24,
   "metadata": {},
   "outputs": [
    {
     "name": "stdout",
     "output_type": "stream",
     "text": [
      "22.942539145903357\n"
     ]
    },
    {
     "data": {
      "image/png": "[encoded data removed]",
      "text/plain": [
       "<Figure size 432x288 with 1 Axes>"
      ]
     },
     "metadata": {},
     "output_type": "display_data"
    }
   ],
   "source": [
    "plt.scatter(pipeline_rvs, starting_rvs - pipeline_rvs)\n",
    "plt.scatter(pipeline_rvs, soln_rvs_star - pipeline_rvs)\n",
    "print(np.std(soln_rvs_star - bervs))"
   ]
  },
  {
   "cell_type": "code",
   "execution_count": 25,
   "metadata": {},
   "outputs": [
    {
     "data": {
      "text/plain": [
       "[<matplotlib.lines.Line2D at 0x1264ee048>]"
      ]
     },
     "execution_count": 25,
     "metadata": {},
     "output_type": "execute_result"
    },
    {
     "data": {
      "image/png": "[encoded data removed]",
      "text/plain": [
       "<Figure size 432x288 with 1 Axes>"
      ]
     },
     "metadata": {},
     "output_type": "display_data"
    }
   ],
   "source": [
    "plt.step(np.exp(star_model_xs), soln_model_star, color='k')\n",
    "plt.step(np.exp(t_model_xs), soln_model_t, color='r')"
   ]
  },
  {
   "cell_type": "markdown",
   "metadata": {},
   "source": [
    "## Compare to tellurics from HITRAN"
   ]
  },
  {
   "cell_type": "code",
   "execution_count": 36,
   "metadata": {},
   "outputs": [
    {
     "name": "stdout",
     "output_type": "stream",
     "text": [
      "HAPI VERSION: 1.0\n"
     ]
    }
   ],
   "source": [
    "from hapi import hapi"
   ]
  },
  {
   "cell_type": "code",
   "execution_count": 37,
   "metadata": {},
   "outputs": [
    {
     "name": "stdout",
     "output_type": "stream",
     "text": [
      "Using .\n",
      "\n"
     ]
    }
   ],
   "source": [
    "hapi.db_begin('.')"
   ]
  },
  {
   "cell_type": "code",
   "execution_count": 39,
   "metadata": {},
   "outputs": [
    {
     "name": "stdout",
     "output_type": "stream",
     "text": [
      "16738.93895532065 16930.515926555374\n"
     ]
    }
   ],
   "source": [
    "wavenumbers = 1.e8/np.exp(star_model_xs) # cm^-1\n",
    "nu_min = np.min(wavenumbers)\n",
    "nu_max = np.max(wavenumbers)\n",
    "print(nu_min, nu_max)"
   ]
  },
  {
   "cell_type": "code",
   "execution_count": null,
   "metadata": {},
   "outputs": [],
   "source": []
  }
 ],
 "metadata": {
  "kernelspec": {
   "display_name": "Python 3",
   "language": "python",
   "name": "python3"
  },
  "language_info": {
   "codemirror_mode": {
    "name": "ipython",
    "version": 3
   },
   "file_extension": ".py",
   "mimetype": "text/x-python",
   "name": "python",
   "nbconvert_exporter": "python",
   "pygments_lexer": "ipython3",
   "version": "3.6.0"
  }
 },
 "nbformat": 4,
 "nbformat_minor": 2
}
