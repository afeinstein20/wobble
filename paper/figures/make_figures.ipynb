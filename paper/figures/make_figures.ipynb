{
 "cells": [
  {
   "cell_type": "code",
   "execution_count": null,
   "metadata": {},
   "outputs": [],
   "source": [
    "import wobble\n",
    "import matplotlib as mpl\n",
    "import matplotlib.pyplot as plt\n",
    "import numpy as np"
   ]
  },
  {
   "cell_type": "code",
   "execution_count": null,
   "metadata": {},
   "outputs": [],
   "source": [
    "mpl.rcParams['xtick.top'] = True\n",
    "mpl.rcParams['xtick.direction'] = 'in'\n",
    "mpl.rcParams['ytick.direction'] = 'in'\n",
    "mpl.rcParams['xtick.labelsize'] = 12\n",
    "mpl.rcParams['ytick.labelsize'] = 12\n",
    "mpl.rcParams['ytick.major.size'] = 5\n",
    "mpl.rcParams['xtick.major.size'] = 5\n",
    "mpl.rcParams['ytick.minor.size'] = 3\n",
    "mpl.rcParams['xtick.minor.size'] = 3"
   ]
  },
  {
   "cell_type": "code",
   "execution_count": null,
   "metadata": {},
   "outputs": [],
   "source": [
    "MODEL_T_COLOR = '#1f77b4'\n",
    "MODEL_STAR_COLOR = '#d62728'\n",
    "DATA_COLOR = 'k'"
   ]
  },
  {
   "cell_type": "code",
   "execution_count": null,
   "metadata": {},
   "outputs": [],
   "source": [
    "speed_of_light = 2.99792458e8   # m/s\n",
    "\n",
    "def doppler(v):\n",
    "    frac = (1. - v/speed_of_light) / (1. + v/speed_of_light)\n",
    "    return np.sqrt(frac)"
   ]
  },
  {
   "cell_type": "markdown",
   "metadata": {},
   "source": [
    "## 51 Peg:"
   ]
  },
  {
   "cell_type": "code",
   "execution_count": null,
   "metadata": {},
   "outputs": [],
   "source": [
    "results_51peg = wobble.Results(filename='/Users/mbedell/python/wobble/results/results_51peg_Kstar0_Kt3.hdf5')"
   ]
  },
  {
   "cell_type": "markdown",
   "metadata": {},
   "source": [
    "### FIGURE: data and models for random epoch"
   ]
  },
  {
   "cell_type": "code",
   "execution_count": null,
   "metadata": {},
   "outputs": [],
   "source": [
    "o = 67 # order\n",
    "r = np.where(results_51peg.orders == o)[0][0] # index into results to get desired order\n",
    "e = 7 # epoch\n",
    "n = np.where(results_51peg.epochs == e)[0][0] # index into results to get desired epoch"
   ]
  },
  {
   "cell_type": "code",
   "execution_count": null,
   "metadata": {},
   "outputs": [],
   "source": [
    "data_51peg = wobble.Data(results_51peg.origin_file, filepath='/Users/mbedell/python/wobble/', \n",
    "                   orders=[o], epochs=[e])"
   ]
  },
  {
   "cell_type": "code",
   "execution_count": null,
   "metadata": {},
   "outputs": [],
   "source": [
    "xs = np.exp(data_51peg.xs[0][0])\n",
    "ys = np.exp(data_51peg.ys[0][0])\n",
    "mask = data_51peg.ivars[0][0] <= 1.e-8\n",
    "resids = ys - np.exp(results_51peg.star_ys_predicted[r][n] \n",
    "                            + results_51peg.tellurics_ys_predicted[r][n])"
   ]
  },
  {
   "cell_type": "code",
   "execution_count": null,
   "metadata": {},
   "outputs": [],
   "source": [
    "fig, (ax, ax2) = plt.subplots(2, 1, gridspec_kw = {'height_ratios':[4, 1]}, figsize=(12,5), sharex=True)\n",
    "ax.scatter(xs, ys, marker=\".\", alpha=0.5, c=DATA_COLOR, label='data', s=40)\n",
    "ax.scatter(xs[mask], ys[mask], marker=\".\", alpha=1., c='white', s=20)\n",
    "ax.plot(xs, np.exp(results_51peg.star_ys_predicted[r][n]), \n",
    "                color=MODEL_STAR_COLOR, label='star model', lw=1.5, alpha=0.8)\n",
    "ax.plot(xs, np.exp(results_51peg.tellurics_ys_predicted[r][n]), \n",
    "                color=MODEL_T_COLOR, label='tellurics model', lw=1.5, alpha=0.8)\n",
    "ax.set_ylabel('Normalized Flux', fontsize=14)\n",
    "\n",
    "ax2.scatter(xs, resids, marker=\".\", alpha=0.5, c=DATA_COLOR, s=40)\n",
    "ax2.scatter(xs[mask], resids[mask], marker=\".\", alpha=1., c='white', s=20)\n",
    "ax2.set_xlabel(r'Wavelength ($\\AA$)', fontsize=14)\n",
    "ax2.set_ylabel('Residuals', fontsize=14)\n",
    "\n",
    "ax.set_ylim([0.1,1.1])\n",
    "ax.set_yticks(np.arange(0.2,1.1,0.2))\n",
    "ax.set_yticks(np.arange(0.1,1.15,0.05), minor=True)\n",
    "ax.set_xlim([6541,6616])\n",
    "ax.set_xticks(np.arange(6550, 6611, 10))\n",
    "ax.set_xticks(np.arange(6541, 6617, 1), minor=True)\n",
    "ax2.set_ylim([-0.02, 0.02])\n",
    "ax2.set_yticks(np.arange(-0.02,0.03,0.02))\n",
    "ax2.set_yticks(np.arange(-0.02,0.02,0.01), minor=True)\n",
    "\n",
    "ax.legend(fontsize=12)\n",
    "fig.tight_layout()\n",
    "fig.subplots_adjust(hspace=0.05)\n",
    "plt.savefig('51peg_spectrum.png')\n",
    "plt.savefig('51peg_spectrum.pdf')"
   ]
  },
  {
   "cell_type": "markdown",
   "metadata": {},
   "source": [
    "### FIGURE: tellurics zoom-in"
   ]
  },
  {
   "cell_type": "code",
   "execution_count": null,
   "metadata": {},
   "outputs": [],
   "source": [
    "o = 63 # order\n",
    "r = np.where(results_51peg.orders == o)[0][0] # index into results to get desired order\n",
    "e = 7 # epoch\n",
    "n = np.where(results_51peg.epochs == e)[0][0] # index into results to get desired epoch\n",
    "\n",
    "data_51peg = wobble.Data(results_51peg.origin_file, filepath='/Users/mbedell/python/wobble/', \n",
    "                   orders=[o], epochs=[e])\n",
    "\n",
    "xs = np.exp(data_51peg.xs[0][0])\n",
    "ys = np.exp(data_51peg.ys[0][0])\n",
    "mask = data_51peg.ivars[0][0] <= 1.e-8\n",
    "resids = ys - np.exp(results_51peg.star_ys_predicted[r][n] \n",
    "                            + results_51peg.tellurics_ys_predicted[r][n])"
   ]
  },
  {
   "cell_type": "code",
   "execution_count": null,
   "metadata": {},
   "outputs": [],
   "source": [
    "fig, (ax, ax2) = plt.subplots(2, 1, gridspec_kw = {'height_ratios':[4, 1]}, figsize=(12,5), sharex=True)\n",
    "ax.scatter(xs, ys, marker=\".\", alpha=0.5, c=DATA_COLOR, label='data', s=40)\n",
    "ax.scatter(xs[mask], ys[mask], marker=\".\", alpha=1., c='white', s=20)\n",
    "ax.plot(xs, np.exp(results_51peg.star_ys_predicted[r][n]), \n",
    "                color=MODEL_STAR_COLOR, label='star model', lw=1.5, alpha=0.8)\n",
    "ax.plot(xs, np.exp(results_51peg.tellurics_ys_predicted[r][n]), \n",
    "                color=MODEL_T_COLOR, label='tellurics model', lw=1.5, alpha=0.8)\n",
    "ax.set_ylabel('Normalized Flux', fontsize=14)\n",
    "\n",
    "ax2.scatter(xs, resids, marker=\".\", alpha=0.5, c=DATA_COLOR, s=40)\n",
    "ax2.scatter(xs[mask], resids[mask], marker=\".\", alpha=1., c='white', s=20)\n",
    "ax2.set_xlabel(r'Wavelength ($\\AA$)', fontsize=14)\n",
    "ax2.set_ylabel('Residuals', fontsize=14)\n",
    "\n",
    "ax.set_ylim([0.35,1.1])\n",
    "ax.set_yticks(np.arange(0.4,1.1,0.2))\n",
    "ax.set_yticks(np.arange(0.35,1.15,0.05), minor=True)\n",
    "\n",
    "ax2.set_ylim([-0.02, 0.02])\n",
    "ax2.set_yticks(np.arange(-0.02,0.03,0.02))\n",
    "ax2.set_yticks(np.arange(-0.02,0.02,0.01), minor=True)\n",
    "\n",
    "ax.set_xlim([6301,6315])\n",
    "ax.set_xticks(np.arange(6302, 6315, 2))\n",
    "ax.set_xticks(np.arange(6301, 6315, 0.5), minor=True)\n",
    "\n",
    "ax.legend(fontsize=12)\n",
    "fig.tight_layout()\n",
    "fig.subplots_adjust(hspace=0.05)\n",
    "plt.savefig('51peg_telluriczoom.png')\n",
    "plt.savefig('51peg_telluriczoom.pdf')"
   ]
  },
  {
   "cell_type": "markdown",
   "metadata": {},
   "source": [
    "### FIGURE: orbit fit"
   ]
  },
  {
   "cell_type": "code",
   "execution_count": null,
   "metadata": {},
   "outputs": [],
   "source": [
    "from numpy import log, exp, pi, sqrt, sin, cos, tan, arctan\n",
    "\n",
    "def calc_ma(T0, t, period):\n",
    "    # calculate mean anomaly\n",
    "    days = t - T0\n",
    "    phase = days/period % 1.0\n",
    "    ma = phase * 2.0 * pi\n",
    "    return ma\n",
    "    \n",
    "def calc_ea(ma, ecc):\n",
    "    # calculate eccentric anomaly from mean anomaly, eccentricity\n",
    "    tolerance = 1e-3\n",
    "    ea = np.copy(ma)\n",
    "    while True:\n",
    "        diff = ea - ecc * sin(ea) - ma\n",
    "        ea -= diff / (1. - ecc * cos(ea))\n",
    "        if abs(diff).all() <= tolerance:\n",
    "            break\n",
    "    return ea\n",
    " \n",
    "    \n",
    "def calc_rvs(t,par):\n",
    "    '''\n",
    "    Calculate RV(t) given par\n",
    "    par: [period, K, ecc, omega, M0, offset]\n",
    "    where omega is the argument of periastron\n",
    "    and Tp is time at periastron\n",
    "    '''\n",
    "    P,K,ecc,omega,tp,offset = par\n",
    "    \n",
    "    # enforce boundaries on parameters:\n",
    "    #if (P < 0.0 or K < 0.0 or ecc < 0.0 or ecc > 0.999 or omega < 0. or omega > 2.*pi or M0 < 0. or M0 > 2.*pi):\n",
    "    #    return np.zeros_like(t)\n",
    "    #P = max([0.0, P])\n",
    "    #K = max([0.0, K])\n",
    "    #ecc = min([max([0.0, ecc]), 0.99])\n",
    "    #omega = min([max([-pi, omega]), pi])\n",
    "    #M0 = min([max([-pi, M0]), pi])\n",
    "    \n",
    "    ma = 2. * pi / P * (t - tp)  # mean anomaly\n",
    "    ea = calc_ea(ma, ecc)  # eccentric anomaly\n",
    "\n",
    "    f = 2.0 * np.arctan2(sqrt(1+ecc)*sin(ea/2.0), sqrt(1-ecc)*cos(ea/2.0)) # true anomaly\n",
    "    rvs = - K * (cos(omega + f) + ecc*cos(omega))\n",
    "    return rvs + offset\n",
    "\n",
    "def calc_msini(P, K, ecc, Mstar=1.0):\n",
    "    '''\n",
    "    works in the limit that msini << Mstar\n",
    "    takes:\n",
    "    K - RV semi-amplitude in m/s\n",
    "    P - period in days\n",
    "    ecc - eccentricity (dimensionless)\n",
    "    Mstar - host star mass in solar masses (default 1)\n",
    "    returns:\n",
    "    msini - minimum mass in Jupiters\n",
    "    '''\n",
    "    scaled_k = np.abs(K) / 28.4329 * np.sqrt(1. - ecc**2)\n",
    "    msini = scaled_k * (P / 365.)**(1./3.) * Mstar**(2./3.)\n",
    "    return msini\n",
    "\n",
    "    \n",
    "def keplerian(par,x):\n",
    "    return calc_rvs(x, par)\n",
    "\n",
    "def resid(par,fn,x,y,yerr):\n",
    "    model = fn(par,x)\n",
    "    return (y - model)/yerr "
   ]
  },
  {
   "cell_type": "code",
   "execution_count": null,
   "metadata": {},
   "outputs": [],
   "source": [
    "rvs = results_51peg.star_time_rvs + results_51peg.bervs\n",
    "sigs = np.ones_like(rvs) # HACK!!!!\n",
    "dates = results_51peg.dates - 2450000"
   ]
  },
  {
   "cell_type": "code",
   "execution_count": null,
   "metadata": {},
   "outputs": [],
   "source": [
    "from scipy.optimize import leastsq\n",
    "par0 = np.asarray([4.2308, 55.65, 0.001, 90 * np.pi/180., 0., 0.])  # [period, K, ecc, omega, tp, offset]\n",
    "soln = leastsq(resid, par0, args=(keplerian, dates, rvs, sigs))"
   ]
  },
  {
   "cell_type": "code",
   "execution_count": null,
   "metadata": {},
   "outputs": [],
   "source": [
    "par = soln[0]\n",
    "period = par[0]\n",
    "date_fold = dates % period\n",
    "fig, (ax1, ax2) = plt.subplots(2, 1, gridspec_kw = {'height_ratios':[4, 1]}, figsize=(8,5), sharex=True)\n",
    "\n",
    "ax1.errorbar(date_fold/period, rvs - par[-1], sigs, fmt='o')\n",
    "xs = np.arange(0.,period+0.1,0.1)\n",
    "ax1.plot(xs/period, calc_rvs(xs, par) - par[-1], color='k')\n",
    "ax1.set_ylabel(r'RV (m s$^{-1}$)', fontsize=16)\n",
    "\n",
    "ax2.set_ylim([-4, 4])\n",
    "ax2.set_xlim([0,1.0])\n",
    "\n",
    "resids = resid(par,keplerian,dates,rvs,sigs)\n",
    "ax2.errorbar(date_fold/period, resids, sigs, fmt='o')\n",
    "ax2.plot(xs/period, np.zeros_like(xs), color='k')\n",
    "print('chisq = {0:.2f}'.format(np.sum(resids**2/sigs**2)))\n",
    "print('resids RMS = {0:.2f} m/s'.format(np.std(resids)))\n",
    "print('planet period = {0:.4f} days'.format(period))\n",
    "print('planet msini = {0:.2f} MJup'.format(calc_msini(*par[:3])))\n",
    "ax2.set_ylabel('Resids', fontsize=16)\n",
    "ax2.set_xlabel('Orbital Phase', fontsize=16)\n",
    "fig.tight_layout()\n",
    "fig.subplots_adjust(hspace=.05)\n",
    "plt.savefig('51peg_planet.png')"
   ]
  },
  {
   "cell_type": "markdown",
   "metadata": {},
   "source": [
    "## tellurics model \n",
    "#### (still using 51 Peg data)"
   ]
  },
  {
   "cell_type": "markdown",
   "metadata": {},
   "source": [
    "### FIGURE: telluric basis vectors"
   ]
  },
  {
   "cell_type": "code",
   "execution_count": null,
   "metadata": {},
   "outputs": [],
   "source": [
    "r = 63\n",
    "xlim = [6275,6295]\n",
    "fig, (ax1, ax2) = plt.subplots(2, 1, gridspec_kw = {'height_ratios':[1, 1]}, \n",
    "                               figsize=(8,5), sharex=True)\n",
    "ax1.plot(np.exp(results_51peg.tellurics_template_xs[r]),\n",
    "       np.exp(results_51peg.tellurics_template_ys[r]), c='k')\n",
    "for k in range(results_51peg.tellurics_K[r]):\n",
    "    ax2.plot(np.exp(results_51peg.tellurics_template_xs[r]), \n",
    "            np.exp(results_51peg.tellurics_basis_vectors[r][k]) - 0.005*k)\n",
    "ax1.set_xlim(xlim)\n",
    "ax1.set_ylim([0.65,1.05])\n",
    "ax2.set_xlim(xlim)\n",
    "ax1.set_ylabel('Template Spectrum', fontsize=14)\n",
    "ax2.set_xlabel(r'Wavelength ($\\AA$)', fontsize=14)\n",
    "ax2.set_ylabel(r'Basis Vectors + $\\Delta$', fontsize=14)\n",
    "ax2.set_yticks(np.arange(0.990,1.005,0.005))\n",
    "ax2.set_yticks(np.arange(0.987,1.005,0.001), minor=True)\n",
    "ax2.set_xticks(np.arange(xlim[0],xlim[1]+1,5))\n",
    "ax2.set_xticks(np.arange(xlim[0],xlim[1],1), minor=True)\n",
    "fig.tight_layout()\n",
    "fig.subplots_adjust(hspace=.05)\n",
    "plt.savefig('telluric_basis.png')"
   ]
  },
  {
   "cell_type": "code",
   "execution_count": null,
   "metadata": {},
   "outputs": [],
   "source": [
    "r = 56\n",
    "xlim = [5880,5910]\n",
    "fig, (ax1, ax2) = plt.subplots(2, 1, gridspec_kw = {'height_ratios':[1, 1]}, \n",
    "                               figsize=(8,5), sharex=True)\n",
    "ax1.plot(np.exp(results_51peg.tellurics_template_xs[r]),\n",
    "       np.exp(results_51peg.tellurics_template_ys[r]), c='k')\n",
    "for k in range(results_51peg.tellurics_K[r]):\n",
    "    ax2.plot(np.exp(results_51peg.tellurics_template_xs[r]), \n",
    "            np.exp(results_51peg.tellurics_basis_vectors[r][k]) - 0.1*k)\n",
    "ax1.set_xlim(xlim)\n",
    "ax1.set_ylim([0.9,1.02])\n",
    "ax2.set_xlim(xlim)\n",
    "ax1.set_ylabel('Template Spectrum', fontsize=14)\n",
    "ax2.set_xlabel(r'Wavelength ($\\AA$)', fontsize=14)\n",
    "ax2.set_ylabel(r'Basis Vectors + $\\Delta$', fontsize=14)\n",
    "ax2.set_yticks(np.arange(0.7,1.1,0.1))\n",
    "ax2.set_yticks(np.arange(0.7,1.1,0.02), minor=True)\n",
    "ax2.set_xticks(np.arange(xlim[0],xlim[1]+1,5))\n",
    "ax2.set_xticks(np.arange(xlim[0],xlim[1],1), minor=True)\n",
    "fig.tight_layout()\n",
    "fig.subplots_adjust(hspace=.05)\n",
    "plt.savefig('telluric_basis2.png')"
   ]
  },
  {
   "cell_type": "markdown",
   "metadata": {},
   "source": [
    "### FIGURE: tellurics compared to standard star"
   ]
  },
  {
   "cell_type": "code",
   "execution_count": null,
   "metadata": {},
   "outputs": [],
   "source": [
    "from wobble.utils import fit_continuum\n",
    "from astropy.io import fits\n",
    "r = 63\n",
    "xlim = [6275,6295]"
   ]
  },
  {
   "cell_type": "code",
   "execution_count": null,
   "metadata": {},
   "outputs": [],
   "source": [
    "spec_file = '/Users/mbedell/python/wobble/data/telluric/HARPS.2009-05-09T23_40_43.280_e2ds_A.fits'\n",
    "wave_file = '/Users/mbedell/python/wobble/data/telluric/HARPS.2009-05-09T20_24_26.952_wave_A.fits'\n",
    "sp = fits.open(spec_file)\n",
    "flux = sp[0].data\n",
    "sp2 = fits.open(wave_file)\n",
    "wave = sp2[0].data\n",
    "snr = sp[0].header['HIERARCH ESO DRS SPE EXT SN{0}'.format(str(int(r)))]"
   ]
  },
  {
   "cell_type": "code",
   "execution_count": null,
   "metadata": {},
   "outputs": [],
   "source": [
    "o = 57\n",
    "wave2,flux2 = np.exp(results_51peg.tellurics_template_xs[r]), \\\n",
    "              np.exp(results_51peg.tellurics_template_ys[r])\n",
    "wave1,flux1 = wave[r], flux[r]\n",
    "ivars1 = np.zeros_like(flux1) + snr**2 # HACK\n",
    "flux1 = np.exp(np.log(flux1) - fit_continuum(np.log(wave1), np.log(flux1), ivars1))"
   ]
  },
  {
   "cell_type": "code",
   "execution_count": null,
   "metadata": {},
   "outputs": [],
   "source": [
    "fig = plt.figure(figsize=(8,6))\n",
    "ax = fig.add_subplot(111)\n",
    "ax.plot(wave1,flux1,color=DATA_COLOR,alpha=0.8,label='telluric standard star')\n",
    "ax.plot(wave2,flux2,color=MODEL_T_COLOR,alpha=0.8,label='wobble telluric model')\n",
    "ax.set_xlim(xlim)\n",
    "ax.set_xlabel(r'Wavelength ($\\AA$)', fontsize=16)\n",
    "ax.set_ylabel('Normalized Flux', fontsize=16)\n",
    "ax.legend(loc='lower right', fontsize=14)\n",
    "ax.set_xticks(np.arange(xlim[0],xlim[1]+1,5))\n",
    "ax.set_xticks(np.arange(xlim[0],xlim[1],1), minor=True)\n",
    "fig.tight_layout()\n",
    "fig.savefig('telluric_standard.png')\n",
    "fig.savefig('telluric_standard.pdf')"
   ]
  },
  {
   "cell_type": "markdown",
   "metadata": {},
   "source": [
    "## quiet M star:"
   ]
  },
  {
   "cell_type": "code",
   "execution_count": null,
   "metadata": {},
   "outputs": [],
   "source": [
    "results_barnards = wobble.Results(filename='/Users/mbedell/python/wobble/results/results_barnards_Kstar0_Kt0.hdf5')"
   ]
  },
  {
   "cell_type": "markdown",
   "metadata": {},
   "source": [
    "### FIGURE: data and models for random epoch"
   ]
  },
  {
   "cell_type": "code",
   "execution_count": null,
   "metadata": {},
   "outputs": [],
   "source": [
    "o = 67 # order\n",
    "r = np.where(results_barnards.orders == o)[0][0] # index into results to get desired order\n",
    "e = 155 # epoch\n",
    "n = np.where(results_barnards.epochs == e)[0][0] # index into results to get desired epoch"
   ]
  },
  {
   "cell_type": "code",
   "execution_count": null,
   "metadata": {},
   "outputs": [],
   "source": [
    "data_barnards = wobble.Data(results_barnards.origin_file, filepath='/Users/mbedell/python/wobble/', \n",
    "                   orders=[o], epochs=[e])"
   ]
  },
  {
   "cell_type": "code",
   "execution_count": null,
   "metadata": {},
   "outputs": [],
   "source": [
    "xs = np.exp(data_barnards.xs[0][0])\n",
    "ys = np.exp(data_barnards.ys[0][0])\n",
    "mask = data_barnards.ivars[0][0] <= 1.e-8\n",
    "resids = ys - np.exp(results_barnards.star_ys_predicted[r][n] \n",
    "                            + results_barnards.tellurics_ys_predicted[r][n])"
   ]
  },
  {
   "cell_type": "code",
   "execution_count": null,
   "metadata": {},
   "outputs": [],
   "source": [
    "fig, (ax, ax2) = plt.subplots(2, 1, gridspec_kw = {'height_ratios':[4, 1]}, figsize=(12,5), sharex=True)\n",
    "ax.scatter(xs, ys, marker=\".\", alpha=0.5, c=DATA_COLOR, label='data', s=40)\n",
    "ax.scatter(xs[mask], ys[mask], marker=\".\", alpha=1., c='white', s=20)\n",
    "ax.plot(xs, np.exp(results_barnards.star_ys_predicted[r][n]), \n",
    "                color=MODEL_STAR_COLOR, label='star model', lw=1.5, alpha=0.8)\n",
    "ax.plot(xs, np.exp(results_barnards.tellurics_ys_predicted[r][n]), \n",
    "                color=MODEL_T_COLOR, label='tellurics model', lw=1.5, alpha=0.8)\n",
    "ax.set_ylabel('Normalized Flux', fontsize=14)\n",
    "\n",
    "ax2.scatter(xs, resids, marker=\".\", alpha=0.5, c=DATA_COLOR, s=40)\n",
    "ax2.scatter(xs[mask], resids[mask], marker=\".\", alpha=1., c='white', s=20)\n",
    "ax2.set_xlabel(r'Wavelength ($\\AA$)', fontsize=14)\n",
    "ax2.set_ylabel('Residuals', fontsize=14)\n",
    "\n",
    "ax.set_ylim([0.15,1.25])\n",
    "ax.set_yticks(np.arange(0.2,1.4,0.2))\n",
    "ax.set_yticks(np.arange(0.2,1.2,0.05), minor=True)\n",
    "\n",
    "ax2.set_ylim([-0.06, 0.06])\n",
    "ax2.set_yticks(np.arange(-0.05,0.06,0.05))\n",
    "ax2.set_yticks(np.arange(-0.06,0.06,0.01), minor=True)\n",
    "\n",
    "ax.set_xlim([6541,6616])\n",
    "ax.set_xticks(np.arange(6550, 6611, 10))\n",
    "ax.set_xticks(np.arange(6541, 6617, 1), minor=True)\n",
    "\n",
    "ax.legend(fontsize=12)\n",
    "fig.tight_layout()\n",
    "fig.subplots_adjust(hspace=0.05)\n",
    "plt.savefig('barnards_spectrum.png')\n",
    "plt.savefig('barnards_spectrum.pdf')"
   ]
  },
  {
   "cell_type": "markdown",
   "metadata": {},
   "source": [
    "### FIGURE: tellurics zoom-in"
   ]
  },
  {
   "cell_type": "code",
   "execution_count": null,
   "metadata": {},
   "outputs": [],
   "source": [
    "o = 63 # order\n",
    "r = np.where(results_barnards.orders == o)[0][0] # index into results to get desired order\n",
    "e = 155 # epoch\n",
    "n = np.where(results_barnards.epochs == e)[0][0] # index into results to get desired epoch\n",
    "\n",
    "data_barnards = wobble.Data(results_barnards.origin_file, filepath='/Users/mbedell/python/wobble/', \n",
    "                   orders=[o], epochs=[e])\n",
    "\n",
    "xs = np.exp(data_barnards.xs[0][0])\n",
    "ys = np.exp(data_barnards.ys[0][0])\n",
    "mask = data_barnards.ivars[0][0] <= 1.e-8\n",
    "resids = ys - np.exp(results_barnards.star_ys_predicted[r][n] \n",
    "                            + results_barnards.tellurics_ys_predicted[r][n])"
   ]
  },
  {
   "cell_type": "code",
   "execution_count": null,
   "metadata": {},
   "outputs": [],
   "source": [
    "fig, (ax, ax2) = plt.subplots(2, 1, gridspec_kw = {'height_ratios':[4, 1]}, figsize=(12,5), sharex=True)\n",
    "ax.scatter(xs, ys, marker=\".\", alpha=0.5, c=DATA_COLOR, label='data', s=40)\n",
    "ax.scatter(xs[mask], ys[mask], marker=\".\", alpha=1., c='white', s=20)\n",
    "ax.plot(xs, np.exp(results_barnards.star_ys_predicted[r][n]), \n",
    "                color=MODEL_STAR_COLOR, label='star model', lw=1.5, alpha=0.8)\n",
    "ax.plot(xs, np.exp(results_barnards.tellurics_ys_predicted[r][n]), \n",
    "                color=MODEL_T_COLOR, label='tellurics model', lw=1.5, alpha=0.8)\n",
    "ax.set_ylabel('Normalized Flux', fontsize=14)\n",
    "\n",
    "ax2.scatter(xs, resids, marker=\".\", alpha=0.5, c=DATA_COLOR, s=40)\n",
    "ax2.scatter(xs[mask], resids[mask], marker=\".\", alpha=1., c='white', s=20)\n",
    "ax2.set_xlabel(r'Wavelength ($\\AA$)', fontsize=14)\n",
    "ax2.set_ylabel('Residuals', fontsize=14)\n",
    "\n",
    "ax.set_ylim([0.25,1.3])\n",
    "ax.set_yticks(np.arange(0.4,1.4,0.2))\n",
    "ax.set_yticks(np.arange(0.25,1.35,0.05), minor=True)\n",
    "\n",
    "ax2.set_ylim([-0.06, 0.06])\n",
    "ax2.set_yticks(np.arange(-0.05,0.06,0.05))\n",
    "ax2.set_yticks(np.arange(-0.06,0.06,0.01), minor=True)\n",
    "\n",
    "ax.set_xlim([6301,6315])\n",
    "ax.set_xticks(np.arange(6302, 6315, 2))\n",
    "ax.set_xticks(np.arange(6301, 6315, 0.5), minor=True)\n",
    "\n",
    "ax.legend(fontsize=12)\n",
    "fig.tight_layout()\n",
    "fig.subplots_adjust(hspace=0.05)\n",
    "plt.savefig('barnards_telluriczoom.png')\n",
    "plt.savefig('barnards_telluriczoom.pdf')"
   ]
  },
  {
   "cell_type": "markdown",
   "metadata": {},
   "source": [
    "### FIGURE: comparison to PHOENIX model"
   ]
  },
  {
   "cell_type": "code",
   "execution_count": null,
   "metadata": {},
   "outputs": [],
   "source": [
    "from astropy.io import fits\n",
    "hdul = fits.open('/Users/mbedell/python/wobble/data/lte03300-5.00-0.0.PHOENIX-ACES-AGSS-COND-2011-HiRes.fits')\n",
    "model_ys = np.copy(hdul[0].data)\n",
    "hdul = fits.open('/Users/mbedell/python/wobble/data/WAVE_PHOENIX-ACES-AGSS-COND-2011.fits')\n",
    "model_xs = np.copy(hdul[0].data)"
   ]
  },
  {
   "cell_type": "code",
   "execution_count": null,
   "metadata": {},
   "outputs": [],
   "source": [
    "o = 24 # order\n",
    "r = np.where(results_barnards.orders == o)[0][0] # index into results to get desired order\n",
    "e = 155 # epoch\n",
    "n = np.where(results_barnards.epochs == e)[0][0] # index into results to get desired epoch\n",
    "\n",
    "data_barnards = wobble.Data(results_barnards.origin_file, filepath='/Users/mbedell/python/wobble/', \n",
    "                   orders=[o], epochs=[e])\n",
    "\n",
    "xs = np.exp(data_barnards.xs[0][0])\n",
    "ys = np.exp(data_barnards.ys[0][0])\n",
    "mask = data_barnards.ivars[0][0] <= 1.e-8\n",
    "resids = ys - np.exp(results_barnards.star_ys_predicted[r][n] \n",
    "                            + results_barnards.tellurics_ys_predicted[r][n])"
   ]
  },
  {
   "cell_type": "code",
   "execution_count": null,
   "metadata": {},
   "outputs": [],
   "source": [
    "v_sys = 208.e3 # from eyeballing the Balmer region (4020-4050A)"
   ]
  },
  {
   "cell_type": "code",
   "execution_count": null,
   "metadata": {},
   "outputs": [],
   "source": [
    "fig = plt.figure(figsize=(12,5))\n",
    "ax = fig.add_subplot(111)\n",
    "ax.plot(model_xs, model_ys/1e13, c='k', ls='--', alpha=0.8, label='PHOENIX model')\n",
    "ax.plot(xs / doppler(v_sys), np.exp(results_barnards.star_ys_predicted[r][n]), \n",
    "                color=MODEL_STAR_COLOR, lw=1.5, alpha=0.8, label='wobble star model')\n",
    "ax.set_xlim([4450,4465])\n",
    "ax.set_xticks(np.arange(4450, 4466, 5))\n",
    "ax.set_xticks(np.arange(4450, 4465, 0.5), minor=True)\n",
    "ax.set_ylim([0.0,1.45])\n",
    "ax.set_yticks(np.arange(0.0,1.6,0.2))\n",
    "ax.set_yticks(np.arange(0.0,1.5,0.05), minor=True)\n",
    "ax.legend(fontsize=14)\n",
    "\n",
    "ax.set_xlabel(r'Wavelength ($\\AA$)', fontsize=14)\n",
    "ax.set_ylabel('Normalized Flux', fontsize=14)\n",
    "plt.savefig('barnards_model.png')\n",
    "plt.savefig('barnards_model.pdf');"
   ]
  },
  {
   "cell_type": "markdown",
   "metadata": {},
   "source": [
    "### FIGURE: time series"
   ]
  },
  {
   "cell_type": "code",
   "execution_count": null,
   "metadata": {},
   "outputs": [],
   "source": [
    "fig, (ax, ax2) = plt.subplots(2, 1, gridspec_kw = {'height_ratios':[4, 1]}, figsize=(8,6))\n",
    "rvs = results_barnards.star_time_rvs + results_barnards.bervs\n",
    "pipeline_rvs = results_barnards.pipeline_rvs + results_barnards.bervs\n",
    "ax.plot(results_barnards.dates, pipeline_rvs, 'r.', alpha=0.5, label='HARPS pipeline')\n",
    "ax.plot(results_barnards.dates, rvs, 'k.', alpha=0.6, label='wobble')\n",
    "ax.set_ylabel(r'RV (m s$^{-1}$)', fontsize=16)\n",
    "ax.set_xticklabels([])\n",
    "\n",
    "ax2.plot(results_barnards.dates - 2450000, rvs - pipeline_rvs, 'k.', alpha=0.5)\n",
    "ax2.set_xlabel('MJD', fontsize=16)\n",
    "ax2.set_ylabel('Residuals', fontsize=16)\n",
    "\n",
    "ax.legend(fontsize=14)\n",
    "fig.tight_layout()\n",
    "fig.subplots_adjust(hspace=0.05)\n",
    "plt.savefig('barnards_rvs.png')\n",
    "plt.savefig('barnards_rvs.pdf');"
   ]
  },
  {
   "cell_type": "code",
   "execution_count": null,
   "metadata": {},
   "outputs": [],
   "source": []
  }
 ],
 "metadata": {
  "kernelspec": {
   "display_name": "Python 3",
   "language": "python",
   "name": "python3"
  },
  "language_info": {
   "codemirror_mode": {
    "name": "ipython",
    "version": 3
   },
   "file_extension": ".py",
   "mimetype": "text/x-python",
   "name": "python",
   "nbconvert_exporter": "python",
   "pygments_lexer": "ipython3",
   "version": "3.6.4"
  }
 },
 "nbformat": 4,
 "nbformat_minor": 2
}
