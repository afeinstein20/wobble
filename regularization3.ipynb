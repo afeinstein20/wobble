{
 "cells": [
  {
   "cell_type": "markdown",
   "metadata": {},
   "source": [
    "## automating the regularization parameter tuning"
   ]
  },
  {
   "cell_type": "code",
   "execution_count": null,
   "metadata": {},
   "outputs": [],
   "source": [
    "import numpy as np\n",
    "import matplotlib.pyplot as plt\n",
    "import copy\n",
    "import wobble\n",
    "import tensorflow as tf\n",
    "from tqdm import tqdm"
   ]
  },
  {
   "cell_type": "code",
   "execution_count": null,
   "metadata": {},
   "outputs": [],
   "source": [
    "starname = '51peg'\n",
    "data = wobble.Data(starname+'_e2ds.hdf5', filepath='data/', orders=[10])"
   ]
  },
  {
   "cell_type": "code",
   "execution_count": null,
   "metadata": {},
   "outputs": [],
   "source": [
    "model = wobble.Model(data)\n",
    "model.add_star('star')\n",
    "K = 3\n",
    "model.add_telluric('tellurics', rvs_fixed=True, variable_bases=K)\n",
    "print(model)"
   ]
  },
  {
   "cell_type": "code",
   "execution_count": null,
   "metadata": {},
   "outputs": [],
   "source": [
    "# from hand-tuning\n",
    "model.components[1].L2_template = 1.e7\n",
    "model.components[1].L2_basis_vectors = 1.e7\n",
    "model.components[0].L1_template = 1.e1\n",
    "model.components[0].L2_template = 1.e1"
   ]
  },
  {
   "cell_type": "code",
   "execution_count": null,
   "metadata": {},
   "outputs": [],
   "source": [
    "def fit_rvs_only(model, data, r):\n",
    "    synth = model.synthesize(r)\n",
    "    nll = 0.5*tf.reduce_sum(tf.square(tf.boolean_mask(data.ys[r], data.epoch_mask) \n",
    "                                      - tf.boolean_mask(synth, data.epoch_mask)) \n",
    "                            * tf.boolean_mask(data.ivars[r], data.epoch_mask)) \n",
    "    \n",
    "    # set up optimizers: \n",
    "    session = wobble.get_session()\n",
    "\n",
    "    for c in model.components:\n",
    "        if not c.rvs_fixed:\n",
    "            c.gradients_rvs = tf.gradients(nll, c.rvs_block[r])\n",
    "            optimizer = tf.train.AdamOptimizer(c.learning_rate_rvs)\n",
    "            c.opt_rvs = optimizer.minimize(nll, \n",
    "                            var_list=[c.rvs_block[r]])\n",
    "            session.run(tf.variables_initializer(optimizer.variables()))\n",
    "        if c.K > 0:\n",
    "            c.gradients_basis = tf.gradients(nll, c.basis_weights[r])\n",
    "            optimizer = tf.train.AdamOptimizer(c.learning_rate_basis)\n",
    "            c.opt_basis = optimizer.minimize(nll, \n",
    "                            var_list=c.basis_weights[r])\n",
    "            session.run(tf.variables_initializer(optimizer.variables()))\n",
    "    \n",
    "    results = wobble.Results(model=model, data=data)\n",
    "\n",
    "    # optimize:\n",
    "    for i in tqdm(range(100)):         \n",
    "        for c in model.components:\n",
    "            if not c.rvs_fixed:            \n",
    "                session.run(c.opt_rvs) # optimize RVs\n",
    "            if c.K > 0:\n",
    "                session.run(c.opt_basis) # optimize variable components\n",
    "    results.copy_model(model) # update\n",
    "    return results\n",
    "   "
   ]
  },
  {
   "cell_type": "code",
   "execution_count": null,
   "metadata": {},
   "outputs": [],
   "source": [
    "def improve_regularization(c, model, data, r, names=None, verbose=True, plot=False, basename=''):\n",
    "    if names is None:\n",
    "        names = ['L1_template', 'L2_template']\n",
    "        if c.K > 0:\n",
    "            names.append(['L1_basis_vectors', 'L2_basis_vectors', 'L2_basis_weights'])\n",
    "            \n",
    "    validation_epochs = np.random.choice(data.N, data.N//10, replace=False)\n",
    "    training_epochs = np.delete(np.arange(data.N), validation_epochs)\n",
    "    \n",
    "    training_data = copy.copy(data)\n",
    "    training_data.epoch_mask = np.isin(np.arange(data.N), training_epochs)\n",
    "    validation_mask = np.isin(np.arange(data.N), validation_epochs)\n",
    "    validation_data = copy.copy(data)\n",
    "    validation_data.epoch_mask = validation_mask\n",
    "    \n",
    "    for name in names:\n",
    "        current_value = getattr(c, name)\n",
    "        grid = np.logspace(-3.0, 3.0, num=7) * current_value\n",
    "        chisqs_grid = np.zeros_like(grid)\n",
    "        for i,val in enumerate(grid):\n",
    "            setattr(c, name, val)\n",
    "            for co in model.components:\n",
    "                co.template_exists[r] = False # force reinitialization at each iteration\n",
    "                \n",
    "            results_train = wobble.optimize_order(model, training_data, r)\n",
    "            \n",
    "            results = fit_rvs_only(model, validation_data, r)\n",
    "            \n",
    "            chisqs = (results.ys[r][validation_mask] \n",
    "                      - results.ys_predicted[r][validation_mask])**2 * (results.ivars[r][validation_mask])\n",
    "            chisqs_grid[i] = np.sum(chisqs)\n",
    "            \n",
    "            if plot:\n",
    "                e = validation_epochs[0] # random epoch\n",
    "                plt.plot(np.exp(results.xs[0][e]), np.exp(results.ys[0][e]), label='data')\n",
    "                plt.plot(np.exp(results.xs[0][e]), np.exp(results.ys_predicted[0][e]), \n",
    "                     label='best-fit model')\n",
    "                plt.legend()\n",
    "                plt.title('{0}: value {1:.0e}, chisq {2:.0f}'.format(name, val, chisqs_grid[i]), \n",
    "                     fontsize=12)\n",
    "                plt.savefig('{0}_{1}_val{2:.0e}.png'.format(basename, name, val))\n",
    "            if verbose:\n",
    "                print('{0}: value {1:.0e}, chisq {2:.0f}'.format(name, val, chisqs_grid[i]))\n",
    "            \n",
    "        if plot:\n",
    "            plt.scatter(grid, chisqs_grid)\n",
    "            plt.xscale('log')\n",
    "            plt.yscale('log')\n",
    "            plt.xlabel('{0} values'.format(name))\n",
    "            plt.ylabel(r'$\\chi^2$')\n",
    "            plt.savefig('{0}_{1}_chis.png'.format(basename, name))\n",
    "        \n",
    "        best = grid[np.argmin(chisqs_grid)]\n",
    "        if verbose:\n",
    "            print(\"{0} optimized; setting to {1:.0e}\".format(name, best))\n",
    "        setattr(c, name, best)"
   ]
  },
  {
   "cell_type": "code",
   "execution_count": null,
   "metadata": {},
   "outputs": [],
   "source": [
    "%%time\n",
    "improve_regularization(model.components[0], model, data, 0, names=None, \n",
    "                       plot=True, basename='regularization/o10_star')"
   ]
  },
  {
   "cell_type": "code",
   "execution_count": null,
   "metadata": {},
   "outputs": [],
   "source": [
    "%%time\n",
    "improve_regularization(model.components[1], model, data, 0, names=None, \n",
    "                       plot=True, basename='regularization/o10_tellurics')"
   ]
  },
  {
   "cell_type": "code",
   "execution_count": null,
   "metadata": {},
   "outputs": [],
   "source": []
  }
 ],
 "metadata": {
  "kernelspec": {
   "display_name": "Python 3",
   "language": "python",
   "name": "python3"
  },
  "language_info": {
   "codemirror_mode": {
    "name": "ipython",
    "version": 3
   },
   "file_extension": ".py",
   "mimetype": "text/x-python",
   "name": "python",
   "nbconvert_exporter": "python",
   "pygments_lexer": "ipython3",
   "version": "3.6.0"
  }
 },
 "nbformat": 4,
 "nbformat_minor": 2
}
