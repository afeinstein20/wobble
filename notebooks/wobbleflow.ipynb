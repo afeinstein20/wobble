{
 "cells": [
  {
   "cell_type": "code",
   "execution_count": 1,
   "metadata": {
    "collapsed": false
   },
   "outputs": [
    {
     "name": "stderr",
     "output_type": "stream",
     "text": [
      "/usr/local/lib/python2.7/site-packages/h5py/__init__.py:36: FutureWarning: Conversion of the second argument of issubdtype from `float` to `np.floating` is deprecated. In future, it will be treated as `np.float64 == np.dtype(float).type`.\n",
      "  from ._conv import register_converters as _register_converters\n"
     ]
    },
    {
     "ename": "NotFoundError",
     "evalue": "dlopen(/usr/local/lib/python2.7/site-packages/wobble-0.0.0-py2.7-macosx-10.10-x86_64.egg/wobble/interp/interp_op.so, 6): no suitable image found.  Did find:\n\t/usr/local/lib/python2.7/site-packages/wobble-0.0.0-py2.7-macosx-10.10-x86_64.egg/wobble/interp/interp_op.so: stat() failed with errno=20",
     "output_type": "error",
     "traceback": [
      "\u001b[0;31m---------------------------------------------------------------------------\u001b[0m",
      "\u001b[0;31mNotFoundError\u001b[0m                             Traceback (most recent call last)",
      "\u001b[0;32m<ipython-input-1-90471ac2ffad>\u001b[0m in \u001b[0;36m<module>\u001b[0;34m()\u001b[0m\n\u001b[0;32m----> 1\u001b[0;31m \u001b[0;32mfrom\u001b[0m \u001b[0mwobble\u001b[0m\u001b[0;34m.\u001b[0m\u001b[0minterp\u001b[0m \u001b[0;32mimport\u001b[0m \u001b[0minterp\u001b[0m\u001b[0;34m\u001b[0m\u001b[0m\n\u001b[0m\u001b[1;32m      2\u001b[0m \u001b[0;32mimport\u001b[0m \u001b[0mh5py\u001b[0m\u001b[0;34m\u001b[0m\u001b[0m\n\u001b[1;32m      3\u001b[0m \u001b[0;32mimport\u001b[0m \u001b[0mwobble\u001b[0m\u001b[0;34m\u001b[0m\u001b[0m\n\u001b[1;32m      4\u001b[0m \u001b[0;32mimport\u001b[0m \u001b[0mnumpy\u001b[0m \u001b[0;32mas\u001b[0m \u001b[0mnp\u001b[0m\u001b[0;34m\u001b[0m\u001b[0m\n\u001b[1;32m      5\u001b[0m \u001b[0;32mimport\u001b[0m \u001b[0mmatplotlib\u001b[0m\u001b[0;34m.\u001b[0m\u001b[0mpyplot\u001b[0m \u001b[0;32mas\u001b[0m \u001b[0mplt\u001b[0m\u001b[0;34m\u001b[0m\u001b[0m\n",
      "\u001b[0;32m/usr/local/lib/python2.7/site-packages/wobble-0.0.0-py2.7-macosx-10.10-x86_64.egg/wobble/interp/__init__.py\u001b[0m in \u001b[0;36m<module>\u001b[0;34m()\u001b[0m\n\u001b[1;32m      8\u001b[0m \u001b[0;32mfrom\u001b[0m \u001b[0;34m.\u001b[0m\u001b[0;34m.\u001b[0m\u001b[0mtf_utils\u001b[0m \u001b[0;32mimport\u001b[0m \u001b[0mload_op_library\u001b[0m\u001b[0;34m\u001b[0m\u001b[0m\n\u001b[1;32m      9\u001b[0m \u001b[0;34m\u001b[0m\u001b[0m\n\u001b[0;32m---> 10\u001b[0;31m \u001b[0mmod\u001b[0m \u001b[0;34m=\u001b[0m \u001b[0mload_op_library\u001b[0m\u001b[0;34m(\u001b[0m\u001b[0m__file__\u001b[0m\u001b[0;34m,\u001b[0m \u001b[0;34m\"interp_op\"\u001b[0m\u001b[0;34m)\u001b[0m\u001b[0;34m\u001b[0m\u001b[0m\n\u001b[0m\u001b[1;32m     11\u001b[0m \u001b[0msearchsorted\u001b[0m \u001b[0;34m=\u001b[0m \u001b[0mmod\u001b[0m\u001b[0;34m.\u001b[0m\u001b[0msearchsorted\u001b[0m\u001b[0;34m\u001b[0m\u001b[0m\n\u001b[1;32m     12\u001b[0m \u001b[0;34m\u001b[0m\u001b[0m\n",
      "\u001b[0;32m/usr/local/lib/python2.7/site-packages/wobble-0.0.0-py2.7-macosx-10.10-x86_64.egg/wobble/tf_utils.py\u001b[0m in \u001b[0;36mload_op_library\u001b[0;34m(module_file, name)\u001b[0m\n\u001b[1;32m     18\u001b[0m     \u001b[0;32melse\u001b[0m\u001b[0;34m:\u001b[0m\u001b[0;34m\u001b[0m\u001b[0m\n\u001b[1;32m     19\u001b[0m         \u001b[0mlibfile\u001b[0m \u001b[0;34m+=\u001b[0m \u001b[0;34m\".so\"\u001b[0m\u001b[0;34m\u001b[0m\u001b[0m\n\u001b[0;32m---> 20\u001b[0;31m     \u001b[0;32mreturn\u001b[0m \u001b[0mtf\u001b[0m\u001b[0;34m.\u001b[0m\u001b[0mload_op_library\u001b[0m\u001b[0;34m(\u001b[0m\u001b[0mlibfile\u001b[0m\u001b[0;34m)\u001b[0m\u001b[0;34m\u001b[0m\u001b[0m\n\u001b[0m",
      "\u001b[0;32m/usr/local/lib/python2.7/site-packages/tensorflow/python/framework/load_library.pyc\u001b[0m in \u001b[0;36mload_op_library\u001b[0;34m(library_filename)\u001b[0m\n\u001b[1;32m     54\u001b[0m   \"\"\"\n\u001b[1;32m     55\u001b[0m   \u001b[0;32mwith\u001b[0m \u001b[0merrors_impl\u001b[0m\u001b[0;34m.\u001b[0m\u001b[0mraise_exception_on_not_ok_status\u001b[0m\u001b[0;34m(\u001b[0m\u001b[0;34m)\u001b[0m \u001b[0;32mas\u001b[0m \u001b[0mstatus\u001b[0m\u001b[0;34m:\u001b[0m\u001b[0;34m\u001b[0m\u001b[0m\n\u001b[0;32m---> 56\u001b[0;31m     \u001b[0mlib_handle\u001b[0m \u001b[0;34m=\u001b[0m \u001b[0mpy_tf\u001b[0m\u001b[0;34m.\u001b[0m\u001b[0mTF_LoadLibrary\u001b[0m\u001b[0;34m(\u001b[0m\u001b[0mlibrary_filename\u001b[0m\u001b[0;34m,\u001b[0m \u001b[0mstatus\u001b[0m\u001b[0;34m)\u001b[0m\u001b[0;34m\u001b[0m\u001b[0m\n\u001b[0m\u001b[1;32m     57\u001b[0m \u001b[0;34m\u001b[0m\u001b[0m\n\u001b[1;32m     58\u001b[0m   \u001b[0mop_list_str\u001b[0m \u001b[0;34m=\u001b[0m \u001b[0mpy_tf\u001b[0m\u001b[0;34m.\u001b[0m\u001b[0mTF_GetOpList\u001b[0m\u001b[0;34m(\u001b[0m\u001b[0mlib_handle\u001b[0m\u001b[0;34m)\u001b[0m\u001b[0;34m\u001b[0m\u001b[0m\n",
      "\u001b[0;32m/usr/local/lib/python2.7/site-packages/tensorflow/python/framework/errors_impl.pyc\u001b[0m in \u001b[0;36m__exit__\u001b[0;34m(self, type_arg, value_arg, traceback_arg)\u001b[0m\n\u001b[1;32m    471\u001b[0m             \u001b[0mNone\u001b[0m\u001b[0;34m,\u001b[0m \u001b[0mNone\u001b[0m\u001b[0;34m,\u001b[0m\u001b[0;34m\u001b[0m\u001b[0m\n\u001b[1;32m    472\u001b[0m             \u001b[0mcompat\u001b[0m\u001b[0;34m.\u001b[0m\u001b[0mas_text\u001b[0m\u001b[0;34m(\u001b[0m\u001b[0mc_api\u001b[0m\u001b[0;34m.\u001b[0m\u001b[0mTF_Message\u001b[0m\u001b[0;34m(\u001b[0m\u001b[0mself\u001b[0m\u001b[0;34m.\u001b[0m\u001b[0mstatus\u001b[0m\u001b[0;34m.\u001b[0m\u001b[0mstatus\u001b[0m\u001b[0;34m)\u001b[0m\u001b[0;34m)\u001b[0m\u001b[0;34m,\u001b[0m\u001b[0;34m\u001b[0m\u001b[0m\n\u001b[0;32m--> 473\u001b[0;31m             c_api.TF_GetCode(self.status.status))\n\u001b[0m\u001b[1;32m    474\u001b[0m     \u001b[0;31m# Delete the underlying status object from memory otherwise it stays alive\u001b[0m\u001b[0;34m\u001b[0m\u001b[0;34m\u001b[0m\u001b[0m\n\u001b[1;32m    475\u001b[0m     \u001b[0;31m# as there is a reference to status from this from the traceback due to\u001b[0m\u001b[0;34m\u001b[0m\u001b[0;34m\u001b[0m\u001b[0m\n",
      "\u001b[0;31mNotFoundError\u001b[0m: dlopen(/usr/local/lib/python2.7/site-packages/wobble-0.0.0-py2.7-macosx-10.10-x86_64.egg/wobble/interp/interp_op.so, 6): no suitable image found.  Did find:\n\t/usr/local/lib/python2.7/site-packages/wobble-0.0.0-py2.7-macosx-10.10-x86_64.egg/wobble/interp/interp_op.so: stat() failed with errno=20"
     ]
    }
   ],
   "source": [
    "from wobble.interp import interp\n",
    "import h5py\n",
    "import wobble\n",
    "import numpy as np\n",
    "import matplotlib.pyplot as plt"
   ]
  },
  {
   "cell_type": "code",
   "execution_count": null,
   "metadata": {
    "collapsed": true
   },
   "outputs": [],
   "source": [
    "starid = 'hip54287'\n",
    "filename = '../data/'+starid+'_e2ds.hdf5'"
   ]
  },
  {
   "cell_type": "code",
   "execution_count": null,
   "metadata": {
    "collapsed": false
   },
   "outputs": [],
   "source": [
    "with h5py.File(filename) as f:\n",
    "    data = np.log(f['data'][30])\n",
    "    data_xs = np.log(f['xs'][30])\n",
    "    ivars = np.copy(f['ivars'][30])\n",
    "    pipeline_rvs = -1. * np.copy(f['pipeline_rvs'])\n",
    "    bervs = np.copy(f['bervs']) * -1.e3\n",
    "    airms = np.copy(f['airms'])"
   ]
  },
  {
   "cell_type": "code",
   "execution_count": null,
   "metadata": {
    "collapsed": false
   },
   "outputs": [],
   "source": [
    "for n in range(len(data)):\n",
    "    data[n] -= wobble.fit_continuum(data_xs[n], data[n], ivars[n])"
   ]
  },
  {
   "cell_type": "code",
   "execution_count": null,
   "metadata": {
    "collapsed": false
   },
   "outputs": [],
   "source": [
    "plt.plot(data_xs[0], data[0])\n",
    "plt.plot(data_xs[5], data[5])"
   ]
  },
  {
   "cell_type": "code",
   "execution_count": null,
   "metadata": {
    "collapsed": false
   },
   "outputs": [],
   "source": [
    "len(data)"
   ]
  },
  {
   "cell_type": "code",
   "execution_count": 2,
   "metadata": {
    "collapsed": false
   },
   "outputs": [
    {
     "ename": "NameError",
     "evalue": "name 'wobble' is not defined",
     "output_type": "error",
     "traceback": [
      "\u001b[0;31m---------------------------------------------------------------------------\u001b[0m",
      "\u001b[0;31mNameError\u001b[0m                                 Traceback (most recent call last)",
      "\u001b[0;32m<ipython-input-2-ad3d12df0e76>\u001b[0m in \u001b[0;36m<module>\u001b[0;34m()\u001b[0m\n\u001b[0;32m----> 1\u001b[0;31m \u001b[0ma\u001b[0m \u001b[0;34m=\u001b[0m \u001b[0mwobble\u001b[0m\u001b[0;34m.\u001b[0m\u001b[0mstar\u001b[0m\u001b[0;34m(\u001b[0m\u001b[0mstarid\u001b[0m\u001b[0;34m+\u001b[0m\u001b[0;34m'_e2ds.hdf5'\u001b[0m\u001b[0;34m,\u001b[0m \u001b[0morders\u001b[0m\u001b[0;34m=\u001b[0m\u001b[0;34m[\u001b[0m\u001b[0;36m30\u001b[0m\u001b[0;34m]\u001b[0m\u001b[0;34m)\u001b[0m\u001b[0;34m\u001b[0m\u001b[0m\n\u001b[0m\u001b[1;32m      2\u001b[0m \u001b[0ma\u001b[0m\u001b[0;34m.\u001b[0m\u001b[0minitialize_model\u001b[0m\u001b[0;34m(\u001b[0m\u001b[0;36m0\u001b[0m\u001b[0;34m,\u001b[0m \u001b[0;34m'star'\u001b[0m\u001b[0;34m)\u001b[0m\u001b[0;34m\u001b[0m\u001b[0m\n\u001b[1;32m      3\u001b[0m \u001b[0mstar_model_xs\u001b[0m\u001b[0;34m,\u001b[0m \u001b[0mstar_model_ys\u001b[0m \u001b[0;34m=\u001b[0m \u001b[0ma\u001b[0m\u001b[0;34m.\u001b[0m\u001b[0mmodel_xs_star\u001b[0m\u001b[0;34m[\u001b[0m\u001b[0;36m0\u001b[0m\u001b[0;34m]\u001b[0m\u001b[0;34m,\u001b[0m \u001b[0ma\u001b[0m\u001b[0;34m.\u001b[0m\u001b[0mmodel_ys_star\u001b[0m\u001b[0;34m[\u001b[0m\u001b[0;36m0\u001b[0m\u001b[0;34m]\u001b[0m\u001b[0;34m\u001b[0m\u001b[0m\n\u001b[1;32m      4\u001b[0m \u001b[0ma\u001b[0m\u001b[0;34m.\u001b[0m\u001b[0minitialize_model\u001b[0m\u001b[0;34m(\u001b[0m\u001b[0;36m0\u001b[0m\u001b[0;34m,\u001b[0m \u001b[0;34m't'\u001b[0m\u001b[0;34m)\u001b[0m\u001b[0;34m\u001b[0m\u001b[0m\n\u001b[1;32m      5\u001b[0m \u001b[0mt_model_xs\u001b[0m\u001b[0;34m,\u001b[0m \u001b[0mt_model_ys\u001b[0m \u001b[0;34m=\u001b[0m \u001b[0ma\u001b[0m\u001b[0;34m.\u001b[0m\u001b[0mmodel_xs_t\u001b[0m\u001b[0;34m[\u001b[0m\u001b[0;36m0\u001b[0m\u001b[0;34m]\u001b[0m\u001b[0;34m,\u001b[0m \u001b[0ma\u001b[0m\u001b[0;34m.\u001b[0m\u001b[0mmodel_ys_t\u001b[0m\u001b[0;34m[\u001b[0m\u001b[0;36m0\u001b[0m\u001b[0;34m]\u001b[0m\u001b[0;34m\u001b[0m\u001b[0m\n",
      "\u001b[0;31mNameError\u001b[0m: name 'wobble' is not defined"
     ]
    }
   ],
   "source": [
    "a = wobble.star(starid+'_e2ds.hdf5', orders=[30])\n",
    "a.initialize_model(0, 'star')\n",
    "star_model_xs, star_model_ys = a.model_xs_star[0], a.model_ys_star[0]\n",
    "a.initialize_model(0, 't')\n",
    "t_model_xs, t_model_ys = a.model_xs_t[0], a.model_ys_t[0]"
   ]
  },
  {
   "cell_type": "code",
   "execution_count": 8,
   "metadata": {
    "collapsed": false
   },
   "outputs": [
    {
     "data": {
      "text/plain": [
       "(6815,)"
      ]
     },
     "execution_count": 8,
     "metadata": {},
     "output_type": "execute_result"
    }
   ],
   "source": [
    "np.shape(star_model_xs)"
   ]
  },
  {
   "cell_type": "code",
   "execution_count": 9,
   "metadata": {
    "collapsed": true
   },
   "outputs": [],
   "source": [
    "import tensorflow as tf"
   ]
  },
  {
   "cell_type": "code",
   "execution_count": 10,
   "metadata": {
    "collapsed": false
   },
   "outputs": [],
   "source": [
    "T = tf.float64\n",
    "star_model_xs_tensor = tf.constant(star_model_xs, dtype=T)\n",
    "star_model_ys_tensor = tf.Variable(star_model_ys, dtype=T)\n",
    "t_model_xs_tensor = tf.constant(t_model_xs, dtype=T)\n",
    "t_model_ys_tensor = tf.Variable(t_model_ys, dtype=T)\n",
    "data_tensor = tf.constant(data, dtype=T)\n",
    "xs_tensor = tf.constant(data_xs, dtype=T)\n",
    "ivars_tensor = tf.constant(ivars, dtype=T)"
   ]
  },
  {
   "cell_type": "code",
   "execution_count": 11,
   "metadata": {
    "collapsed": true
   },
   "outputs": [],
   "source": [
    "starting_rvs = pipeline_rvs + np.random.normal(0., 100., len(pipeline_rvs))\n",
    "star_rvs_tensor = tf.Variable(starting_rvs, dtype=T)\n",
    "t_rvs_tensor = tf.Variable(np.zeros_like(starting_rvs), dtype=T)"
   ]
  },
  {
   "cell_type": "code",
   "execution_count": 12,
   "metadata": {
    "collapsed": true
   },
   "outputs": [],
   "source": [
    "c = 2.99792458e8   # m/s\n",
    "\n",
    "def doppler(v):\n",
    "    frac = (1. - v/c) / (1. + v/c)\n",
    "    return tf.sqrt(frac)"
   ]
  },
  {
   "cell_type": "code",
   "execution_count": null,
   "metadata": {
    "collapsed": false
   },
   "outputs": [],
   "source": [
    "nll = tf.constant(0.0, dtype=T)\n",
    "for n in range(len(data)):\n",
    "    shifted_xs_star = xs_tensor[n] + tf.log(doppler(star_rvs_tensor[n]))\n",
    "    star_model = interp(shifted_xs_star, star_model_xs_tensor, star_model_ys_tensor)\n",
    "    shifted_xs_t = xs_tensor[n] + tf.log(doppler(t_rvs_tensor[n]))\n",
    "    t_model = interp(shifted_xs_t, t_model_xs_tensor, t_model_ys_tensor)\n",
    "    model = star_model + t_model\n",
    "    nll += 0.5*tf.reduce_sum((data_tensor[n] - model)**2 * ivars_tensor[n])\n",
    "    \n",
    "grad_model_star = tf.gradients(nll, [star_model_ys_tensor])[0] + tf.zeros_like(star_model_ys_tensor)\n",
    "grad_rvs_star = tf.gradients(nll, [star_rvs_tensor])[0] + tf.zeros_like(star_rvs_tensor)\n",
    "grad_model_t = tf.gradients(nll, [t_model_ys_tensor])[0] + tf.zeros_like(t_model_ys_tensor)\n",
    "grad_rvs_t = tf.gradients(nll, [t_rvs_tensor])[0] + tf.zeros_like(t_rvs_tensor)"
   ]
  },
  {
   "cell_type": "code",
   "execution_count": null,
   "metadata": {},
   "outputs": [],
   "source": [
    "opt_model_star = tf.train.AdagradOptimizer(0.01).minimize(nll, var_list=star_model_ys_tensor)\n",
    "opt_rvs_star = tf.train.AdagradOptimizer(10.).minimize(nll, var_list=star_rvs_tensor)\n",
    "opt_model_t = tf.train.AdagradOptimizer(0.01).minimize(nll, var_list=t_model_ys_tensor)\n",
    "opt_rvs_t = tf.train.AdagradOptimizer(10.).minimize(nll, var_list=t_rvs_tensor)"
   ]
  },
  {
   "cell_type": "code",
   "execution_count": null,
   "metadata": {},
   "outputs": [],
   "source": [
    "with tf.Session() as session:\n",
    "    session.run(tf.global_variables_initializer())\n",
    "    \n",
    "    nll_history = []\n",
    "    for i in range(100):\n",
    "        session.run(opt_rvs_star)\n",
    "        nll_history.append(session.run(nll))\n",
    "        #if (i % 10) == 0:\n",
    "        #    print \"iter {0}: optimizing star RVs\".format(i)\n",
    "        #    print \"nll: {0:.2e}\".format(nll_history[-1])\n",
    "        session.run(opt_rvs_t)\n",
    "        nll_history.append(session.run(nll))\n",
    "        #if (i % 10) == 0:\n",
    "        #    print \"iter {0}: optimizing telluric RVs\".format(i)\n",
    "        #    print \"nll: {0:.2e}\".format(nll_history[-1])            \n",
    "        session.run(opt_model_star)\n",
    "        nll_history.append(session.run(nll)) \n",
    "        #if (i % 10) == 0:\n",
    "        #    print \"iter {0}: optimizing star model\".format(i)\n",
    "        #    print \"nll: {0:.2e}\".format(nll_history[-1])\n",
    "        session.run(opt_model_t)\n",
    "        nll_history.append(session.run(nll)) \n",
    "        if (i % 10) == 0:\n",
    "        #    print \"iter {0}: optimizing telluric model\".format(i)\n",
    "            print \"nll: {0:.2e}\".format(nll_history[-1])\n",
    "\n",
    "            \n",
    "    #hess_result = session.run(hess)\n",
    "    params_model_star = session.run(star_model_ys_tensor)\n",
    "    params_rvs_star = session.run(star_rvs_tensor)\n",
    "    params_model_t = session.run(t_model_ys_tensor)\n",
    "    params_rvs_t = session.run(t_rvs_tensor)"
   ]
  },
  {
   "cell_type": "code",
   "execution_count": null,
   "metadata": {},
   "outputs": [],
   "source": [
    "plt.scatter(np.arange(len(nll_history)), nll_history)\n",
    "ax = plt.gca()\n",
    "ax.set_yscale('log')"
   ]
  },
  {
   "cell_type": "code",
   "execution_count": null,
   "metadata": {},
   "outputs": [],
   "source": [
    "plt.step(np.exp(star_model_xs), params_model_star, color='k')\n",
    "plt.step(np.exp(t_model_xs), params_model_t, color='r')"
   ]
  },
  {
   "cell_type": "code",
   "execution_count": null,
   "metadata": {
    "collapsed": true
   },
   "outputs": [],
   "source": [
    "plt.scatter(pipeline_rvs, starting_rvs - pipeline_rvs)\n",
    "plt.scatter(pipeline_rvs, params_rvs_star - pipeline_rvs)"
   ]
  },
  {
   "cell_type": "code",
   "execution_count": null,
   "metadata": {},
   "outputs": [],
   "source": [
    "np.std(params_rvs_star - pipeline_rvs)"
   ]
  },
  {
   "cell_type": "code",
   "execution_count": null,
   "metadata": {},
   "outputs": [],
   "source": [
    "np.std(pipeline_rvs - a.bervs)"
   ]
  },
  {
   "cell_type": "code",
   "execution_count": null,
   "metadata": {},
   "outputs": [],
   "source": [
    "plt.scatter(pipeline_rvs, params_rvs_t)"
   ]
  },
  {
   "cell_type": "code",
   "execution_count": null,
   "metadata": {},
   "outputs": [],
   "source": [
    "opt_models = tf.train.AdagradOptimizer(0.01).minimize(nll, var_list=(star_model_ys_tensor, t_model_ys_tensor))\n",
    "opt_rvs = tf.train.AdagradOptimizer(10.).minimize(nll, var_list=(star_rvs_tensor, t_rvs_tensor))"
   ]
  },
  {
   "cell_type": "code",
   "execution_count": null,
   "metadata": {},
   "outputs": [],
   "source": [
    "with tf.Session() as session:\n",
    "    session.run(tf.global_variables_initializer())\n",
    "    \n",
    "    nll_history = []\n",
    "    for i in range(100):\n",
    "        session.run(opt_rvs)\n",
    "        nll_history.append(session.run(nll))\n",
    "        if (i % 10) == 0:\n",
    "            print \"iter {0}: optimizing RVs\".format(i)\n",
    "            print \"nll: {0:.2e}\".format(nll_history[-1])\n",
    "        session.run(opt_models)\n",
    "        nll_history.append(session.run(nll))\n",
    "        if (i % 10) == 0:\n",
    "            print \"iter {0}: optimizing models\".format(i)\n",
    "            print \"nll: {0:.2e}\".format(nll_history[-1])            \n",
    "\n",
    "\n",
    "            \n",
    "    #hess_result = session.run(hess)\n",
    "    params_model_star = session.run(star_model_ys_tensor)\n",
    "    params_rvs_star = session.run(star_rvs_tensor)\n",
    "    params_model_t = session.run(t_model_ys_tensor)\n",
    "    params_rvs_t = session.run(t_rvs_tensor)"
   ]
  },
  {
   "cell_type": "code",
   "execution_count": null,
   "metadata": {},
   "outputs": [],
   "source": [
    "plt.scatter(pipeline_rvs, starting_rvs - pipeline_rvs)\n",
    "plt.scatter(pipeline_rvs, params_rvs_star - pipeline_rvs)"
   ]
  },
  {
   "cell_type": "code",
   "execution_count": 13,
   "metadata": {},
   "outputs": [],
   "source": [
    "model_xs_tensor = [tf.constant(model, dtype=T) for model in [star_model_xs, t_model_xs]]\n",
    "model_ys_tensor = [tf.Variable(model, dtype=T) for model in [star_model_ys, t_model_ys]]\n",
    "rvs_tensor = [tf.Variable(rvs, dtype=T) for rvs in [starting_rvs, np.zeros_like(starting_rvs)]]\n",
    "\n",
    "nll = tf.constant(0.0, dtype=T)\n",
    "for n in range(len(data)):\n",
    "    for c in []\n",
    "    shifted_xs_star = xs_tensor[n] + tf.log(doppler(rvs_tensor[0][n]))\n",
    "    star_model = interp(shifted_xs_star, model_xs_tensor[0], model_ys_tensor[0])\n",
    "    shifted_xs_t = xs_tensor[n] + tf.log(doppler(rvs_tensor[1][n]))\n",
    "    t_model = interp(shifted_xs_t, model_xs_tensor[1], model_ys_tensor[1])\n",
    "    model = star_model + t_model\n",
    "    nll += 0.5*tf.reduce_sum((data_tensor[n] - model)**2 * ivars_tensor[n])"
   ]
  },
  {
   "cell_type": "code",
   "execution_count": 14,
   "metadata": {},
   "outputs": [],
   "source": [
    "grad_model = tf.gradients(nll, model_ys_tensor)\n",
    "grad_rvs = tf.gradients(nll, rvs_tensor)"
   ]
  },
  {
   "cell_type": "code",
   "execution_count": 15,
   "metadata": {},
   "outputs": [],
   "source": [
    "opt_models = tf.train.AdagradOptimizer(0.01).minimize(nll, var_list=model_ys_tensor)\n",
    "opt_rvs = tf.train.AdagradOptimizer(10.).minimize(nll, var_list=rvs_tensor)"
   ]
  },
  {
   "cell_type": "code",
   "execution_count": 16,
   "metadata": {},
   "outputs": [
    {
     "name": "stdout",
     "output_type": "stream",
     "text": [
      "iter 0: optimizing RVs\n",
      "nll: 5.77e+05\n",
      "iter 0: optimizing models\n",
      "nll: 1.09e+06\n",
      "iter 10: optimizing RVs\n",
      "nll: 4.62e+05\n",
      "iter 10: optimizing models\n",
      "nll: 4.57e+05\n",
      "iter 20: optimizing RVs\n",
      "nll: 4.20e+05\n",
      "iter 20: optimizing models\n",
      "nll: 4.19e+05\n",
      "iter 30: optimizing RVs\n",
      "nll: 4.02e+05\n",
      "iter 30: optimizing models\n",
      "nll: 4.02e+05\n",
      "iter 40: optimizing RVs\n",
      "nll: 3.91e+05\n",
      "iter 40: optimizing models\n",
      "nll: 3.91e+05\n",
      "iter 50: optimizing RVs\n",
      "nll: 3.83e+05\n",
      "iter 50: optimizing models\n",
      "nll: 3.83e+05\n",
      "iter 60: optimizing RVs\n",
      "nll: 3.77e+05\n",
      "iter 60: optimizing models\n",
      "nll: 3.77e+05\n",
      "iter 70: optimizing RVs\n",
      "nll: 3.73e+05\n",
      "iter 70: optimizing models\n",
      "nll: 3.72e+05\n",
      "iter 80: optimizing RVs\n",
      "nll: 3.69e+05\n",
      "iter 80: optimizing models\n",
      "nll: 3.69e+05\n",
      "iter 90: optimizing RVs\n",
      "nll: 3.66e+05\n",
      "iter 90: optimizing models\n",
      "nll: 3.66e+05\n"
     ]
    }
   ],
   "source": [
    "with tf.Session() as session:\n",
    "    session.run(tf.global_variables_initializer())\n",
    "    \n",
    "    nll_history = []\n",
    "    for i in range(100):\n",
    "        session.run(opt_rvs)\n",
    "        nll_history.append(session.run(nll))\n",
    "        if (i % 10) == 0:\n",
    "            print \"iter {0}: optimizing RVs\".format(i)\n",
    "            print \"nll: {0:.2e}\".format(nll_history[-1])\n",
    "        session.run(opt_models)\n",
    "        nll_history.append(session.run(nll))\n",
    "        if (i % 10) == 0:\n",
    "            print \"iter {0}: optimizing models\".format(i)\n",
    "            print \"nll: {0:.2e}\".format(nll_history[-1])            \n",
    "\n",
    "\n",
    "    params_model = session.run(model_ys_tensor)\n",
    "    params_rvs = session.run(rvs_tensor)"
   ]
  },
  {
   "cell_type": "code",
   "execution_count": 17,
   "metadata": {},
   "outputs": [
    {
     "data": {
      "image/png": "[encoded data removed]",
      "text/plain": [
       "<Figure size 432x288 with 1 Axes>"
      ]
     },
     "metadata": {},
     "output_type": "display_data"
    }
   ],
   "source": [
    "plt.scatter(np.arange(len(nll_history)), nll_history)\n",
    "ax = plt.gca()\n",
    "ax.set_yscale('log')"
   ]
  },
  {
   "cell_type": "code",
   "execution_count": 19,
   "metadata": {},
   "outputs": [
    {
     "data": {
      "text/plain": [
       "<matplotlib.collections.PathCollection at 0x12eb44090>"
      ]
     },
     "execution_count": 19,
     "metadata": {},
     "output_type": "execute_result"
    },
    {
     "data": {
      "image/png": "[encoded data removed]",
      "text/plain": [
       "<Figure size 432x288 with 1 Axes>"
      ]
     },
     "metadata": {},
     "output_type": "display_data"
    }
   ],
   "source": [
    "plt.scatter(pipeline_rvs, starting_rvs - pipeline_rvs)\n",
    "plt.scatter(pipeline_rvs, params_rvs[0] - pipeline_rvs)"
   ]
  },
  {
   "cell_type": "code",
   "execution_count": 21,
   "metadata": {},
   "outputs": [
    {
     "data": {
      "text/plain": [
       "[<matplotlib.lines.Line2D at 0x12ed4dad0>]"
      ]
     },
     "execution_count": 21,
     "metadata": {},
     "output_type": "execute_result"
    },
    {
     "data": {
      "image/png": "[encoded data removed]",
      "text/plain": [
       "<Figure size 432x288 with 1 Axes>"
      ]
     },
     "metadata": {},
     "output_type": "display_data"
    }
   ],
   "source": [
    "plt.step(np.exp(star_model_xs), params_model[0], color='k')\n",
    "plt.step(np.exp(t_model_xs), params_model[1], color='r')"
   ]
  },
  {
   "cell_type": "code",
   "execution_count": null,
   "metadata": {},
   "outputs": [],
   "source": []
  }
 ],
 "metadata": {
  "kernelspec": {
   "display_name": "Python 2",
   "language": "python",
   "name": "python2"
  },
  "language_info": {
   "codemirror_mode": {
    "name": "ipython",
    "version": 2
   },
   "file_extension": ".py",
   "mimetype": "text/x-python",
   "name": "python",
   "nbconvert_exporter": "python",
   "pygments_lexer": "ipython2",
   "version": "2.7.13"
  }
 },
 "nbformat": 4,
 "nbformat_minor": 2
}
