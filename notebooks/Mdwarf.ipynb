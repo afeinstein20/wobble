{
 "cells": [
  {
   "cell_type": "markdown",
   "metadata": {},
   "source": [
    "# Barnard's Star"
   ]
  },
  {
   "cell_type": "code",
   "execution_count": null,
   "metadata": {},
   "outputs": [],
   "source": [
    "import wobble\n",
    "import matplotlib.pyplot as plt\n",
    "import numpy as np"
   ]
  },
  {
   "cell_type": "code",
   "execution_count": null,
   "metadata": {},
   "outputs": [],
   "source": [
    "starid = 'barnards'\n",
    "results = wobble.Results(filename='../results/results_'+starid+'_Kstar0_Kt0.hdf5')"
   ]
  },
  {
   "cell_type": "code",
   "execution_count": null,
   "metadata": {},
   "outputs": [],
   "source": [
    "rvs = results.star_time_rvs + results.bervs"
   ]
  },
  {
   "cell_type": "code",
   "execution_count": null,
   "metadata": {},
   "outputs": [],
   "source": [
    "sigs = np.ones_like(rvs) # HACK"
   ]
  },
  {
   "cell_type": "code",
   "execution_count": null,
   "metadata": {},
   "outputs": [],
   "source": [
    "from astroquery.gaia import Gaia\n",
    "from astropy.coordinates import SkyCoord\n",
    "import astropy.units as u"
   ]
  },
  {
   "cell_type": "code",
   "execution_count": null,
   "metadata": {},
   "outputs": [],
   "source": [
    "coord = SkyCoord(ra=269.4486, dec=4.7379807, unit=(u.degree, u.degree), frame='icrs')\n",
    "width = u.Quantity(0.01, u.degree)\n",
    "height = u.Quantity(0.01, u.degree)\n",
    "r = Gaia.query_object_async(coordinate=coord, width=width, height=height);"
   ]
  },
  {
   "cell_type": "code",
   "execution_count": null,
   "metadata": {},
   "outputs": [],
   "source": [
    "star = r[r['source_id'] == 4472832130942575872]"
   ]
  },
  {
   "cell_type": "code",
   "execution_count": null,
   "metadata": {},
   "outputs": [],
   "source": [
    "star"
   ]
  },
  {
   "cell_type": "code",
   "execution_count": null,
   "metadata": {},
   "outputs": [],
   "source": [
    "rv_gaia = -110.51 * u.km / u.s # from Gaia DR2 docs"
   ]
  },
  {
   "cell_type": "code",
   "execution_count": null,
   "metadata": {},
   "outputs": [],
   "source": [
    "from astropy.time import Time\n",
    "coord = SkyCoord(ra=star['ra'][0] * u.degree, \n",
    "                 dec=star['dec'][0] * u.degree, \n",
    "                 distance=1./star['parallax'][0] * u.kpc,\n",
    "                 pm_ra_cosdec=star['pmra'][0] * u.mas / u.year,\n",
    "                 pm_dec=star['pmdec'][0] * u.mas / u.year,\n",
    "                 radial_velocity=rv,  \n",
    "                 obstime=Time(star['ref_epoch'][0], format='decimalyear'),\n",
    "                 frame='icrs')"
   ]
  },
  {
   "cell_type": "code",
   "execution_count": null,
   "metadata": {},
   "outputs": [],
   "source": [
    "dates = Time(results.dates, format='jd')"
   ]
  },
  {
   "cell_type": "code",
   "execution_count": null,
   "metadata": {},
   "outputs": [],
   "source": [
    "from tqdm import tqdm\n",
    "rv_predicted = [coord.apply_space_motion(d).radial_velocity.value for d in tqdm(dates)]"
   ]
  },
  {
   "cell_type": "code",
   "execution_count": null,
   "metadata": {},
   "outputs": [],
   "source": [
    "plt.plot(rv_predicted - np.median(rv_predicted))"
   ]
  },
  {
   "cell_type": "code",
   "execution_count": null,
   "metadata": {},
   "outputs": [],
   "source": [
    "pm = np.sqrt(star['pmra'][0]**2 + star['pmdec'][0]**2)\n",
    "pm = (pm * u.mas / u.yr).to(u.arcsec / u.yr)\n",
    "pm"
   ]
  },
  {
   "cell_type": "code",
   "execution_count": null,
   "metadata": {},
   "outputs": [],
   "source": [
    "dist = (1./star['parallax'][0] * u.kpc).to(u.pc)\n",
    "dist"
   ]
  },
  {
   "cell_type": "code",
   "execution_count": null,
   "metadata": {},
   "outputs": [],
   "source": [
    "vt = (4.74 * dist * pm).value * u.km / u.s # decompose doesn't work here"
   ]
  },
  {
   "cell_type": "code",
   "execution_count": null,
   "metadata": {},
   "outputs": [],
   "source": [
    "min_dist = dist/np.sqrt(1. + rv_gaia**2/vt**2)"
   ]
  },
  {
   "cell_type": "code",
   "execution_count": null,
   "metadata": {},
   "outputs": [],
   "source": [
    "min_dist"
   ]
  },
  {
   "cell_type": "code",
   "execution_count": null,
   "metadata": {},
   "outputs": [],
   "source": [
    "v = np.sqrt(rv_gaia**2 + vt**2)\n",
    "v"
   ]
  },
  {
   "cell_type": "code",
   "execution_count": null,
   "metadata": {},
   "outputs": [],
   "source": [
    "obstime = Time(star['ref_epoch'][0], format='decimalyear')\n",
    "min_dist_time = obstime + np.sqrt(dist**2 - min_dist**2)/v\n",
    "min_dist_time"
   ]
  },
  {
   "cell_type": "code",
   "execution_count": null,
   "metadata": {},
   "outputs": [],
   "source": [
    "def rv(date):\n",
    "    t = (date - min_dist_time).jd * u.day # now relative to time of closest approach\n",
    "    x = v**2 * t/np.sqrt(v**2 * t**2 + min_dist**2)\n",
    "    return x.to(u.m / u.s)\n",
    "\n",
    "def drv_dt(date):\n",
    "    t = (date - min_dist_time).jd * u.day # now relative to time of closest approach\n",
    "    x = v**2/np.sqrt(v**2 * t**2 + min_dist**2) - v**4 * t**2/(v**2 * t**2 + min_dist**2)**(3./2)\n",
    "    return x.to(u.m / u.s / u.yr)"
   ]
  },
  {
   "cell_type": "code",
   "execution_count": null,
   "metadata": {},
   "outputs": [],
   "source": [
    "date = dates[0]\n",
    "t = (date - min_dist_time).jd * u.day\n",
    "x = v**2 * t/np.sqrt(v**2 * t**2 + min_dist**2)\n",
    "x.to(u.m / u.s)\n",
    "rv(dates[20])"
   ]
  },
  {
   "cell_type": "code",
   "execution_count": null,
   "metadata": {},
   "outputs": [],
   "source": [
    "predicted_rvs = np.array([rv(d).value for d in dates])"
   ]
  },
  {
   "cell_type": "code",
   "execution_count": null,
   "metadata": {},
   "outputs": [],
   "source": [
    "pipeline_rvs = results.pipeline_rvs + results.bervs"
   ]
  },
  {
   "cell_type": "code",
   "execution_count": null,
   "metadata": {},
   "outputs": [],
   "source": [
    "post_upgrade = results.dates >= 2457174.5 # June 2015\n",
    "pre_upgrade = results.dates < 2457174.5"
   ]
  },
  {
   "cell_type": "code",
   "execution_count": null,
   "metadata": {},
   "outputs": [],
   "source": [
    "plt.plot(results.dates[pre_upgrade], predicted_rvs[pre_upgrade] - np.mean(predicted_rvs[pre_upgrade]), c='b')\n",
    "plt.plot(results.dates[pre_upgrade], rvs[pre_upgrade] - np.mean(rvs[pre_upgrade]), 'k.', alpha=0.5)\n",
    "plt.xlabel('JD', fontsize=14)\n",
    "plt.ylabel('RV (m/s)', fontsize=14);\n",
    "#plt.plot(results.dates[post_upgrade], rvs[post_upgrade] - np.mean(rvs[post_upgrade]), 'k.', alpha=0.5);\n",
    "#plt.plot(results.dates[pre_upgrade], pipeline_rvs[pre_upgrade] - np.mean(pipeline_rvs[pre_upgrade]), 'r.', alpha=0.5);"
   ]
  },
  {
   "cell_type": "code",
   "execution_count": null,
   "metadata": {},
   "outputs": [],
   "source": [
    "wobble_resids = rvs[pre_upgrade] - predicted_rvs[pre_upgrade]\n",
    "wobble_resids -= np.median(wobble_resids)\n",
    "pipeline_resids = pipeline_rvs[pre_upgrade] - predicted_rvs[pre_upgrade]\n",
    "pipeline_resids -= np.median(pipeline_resids)\n",
    "\n",
    "wobble_resids_post = rvs[post_upgrade] - predicted_rvs[post_upgrade]\n",
    "wobble_resids_post -= np.median(wobble_resids_post)\n",
    "pipeline_resids_post = pipeline_rvs[post_upgrade] - predicted_rvs[post_upgrade]\n",
    "pipeline_resids_post -= np.median(pipeline_resids_post)"
   ]
  },
  {
   "cell_type": "code",
   "execution_count": null,
   "metadata": {},
   "outputs": [],
   "source": [
    "wobble_rms = np.sqrt(np.std(wobble_resids)**2 + np.std(wobble_resids_post)**2)\n",
    "pipeline_rms = np.sqrt(np.std(pipeline_resids)**2 + np.std(pipeline_resids_post)**2)"
   ]
  },
  {
   "cell_type": "code",
   "execution_count": null,
   "metadata": {},
   "outputs": [],
   "source": [
    "plt.plot_date(dates.plot_date[pre_upgrade], wobble_resids, 'k.')\n",
    "plt.plot_date(dates.plot_date[post_upgrade], wobble_resids_post, 'k.');"
   ]
  },
  {
   "cell_type": "code",
   "execution_count": null,
   "metadata": {},
   "outputs": [],
   "source": [
    "fig, (ax, ax2) = plt.subplots(2, 1, gridspec_kw = {'height_ratios':[4, 1]}, figsize=(8,6), sharex=True)\n",
    "ax.plot_date(dates.plot_date[pre_upgrade], pipeline_resids, 'r.', alpha=0.6, \n",
    "             label='pipeline RV: RMS = {0:.2f} m/s'.format(pipeline_rms))\n",
    "ax.plot_date(dates.plot_date[pre_upgrade], wobble_resids, 'k.', alpha=0.6, \n",
    "             label='wobble RV: RMS = {0:.2f} m/s'.format(wobble_rms))\n",
    "ax.plot_date(dates.plot_date[post_upgrade], pipeline_resids_post, 'r.', alpha=0.6)\n",
    "ax.plot_date(dates.plot_date[post_upgrade], wobble_resids_post, 'k.', alpha=0.6)\n",
    "ax.set_title('Barnard\\'s Star corrected for secular motion', fontsize=14)\n",
    "ax.set_ylabel('RV (m/s)', fontsize=12)\n",
    "ax2.set_xlabel('JD', fontsize=12)\n",
    "ax2.plot_date(dates.plot_date[pre_upgrade], wobble_resids - pipeline_resids, 'k.')\n",
    "ax2.plot_date(dates.plot_date[post_upgrade], wobble_resids_post - pipeline_resids_post, 'k.')\n",
    "ax2.set_ylabel('Diff', fontsize=12)\n",
    "ax2.set_ylim([-6,6])\n",
    "ax.legend(fontsize=12)\n",
    "fig.tight_layout();"
   ]
  },
  {
   "cell_type": "code",
   "execution_count": null,
   "metadata": {},
   "outputs": [],
   "source": [
    "from astropy.stats import LombScargle\n",
    "ls = LombScargle(results.dates[pre_upgrade], wobble_resids)\n",
    "frequency, power = ls.autopower()"
   ]
  },
  {
   "cell_type": "code",
   "execution_count": null,
   "metadata": {},
   "outputs": [],
   "source": [
    "probabilities = [0.05, 0.01, 0.001]\n",
    "pow_5, pow_1, pow_01 = ls.false_alarm_level(probabilities) "
   ]
  },
  {
   "cell_type": "code",
   "execution_count": null,
   "metadata": {},
   "outputs": [],
   "source": [
    "plt.plot(1./frequency, power, c='k')\n",
    "#plt.axhline(pow_5, c='r', ls='-.')\n",
    "#plt.axhline(pow_1, c='r', ls=':')\n",
    "#plt.axhline(pow_01, c='r', ls='--')\n",
    "plt.xscale('log')\n",
    "plt.xlabel('Period (d)', fontsize=14);"
   ]
  },
  {
   "cell_type": "code",
   "execution_count": null,
   "metadata": {},
   "outputs": [],
   "source": []
  }
 ],
 "metadata": {
  "kernelspec": {
   "display_name": "Python 3",
   "language": "python",
   "name": "python3"
  },
  "language_info": {
   "codemirror_mode": {
    "name": "ipython",
    "version": 3
   },
   "file_extension": ".py",
   "mimetype": "text/x-python",
   "name": "python",
   "nbconvert_exporter": "python",
   "pygments_lexer": "ipython3",
   "version": "3.6.0"
  }
 },
 "nbformat": 4,
 "nbformat_minor": 2
}
