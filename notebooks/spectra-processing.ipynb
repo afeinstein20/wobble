{
 "cells": [
  {
   "cell_type": "code",
   "execution_count": 1,
   "metadata": {},
   "outputs": [],
   "source": [
    "import wobble\n",
    "import numpy as np\n",
    "import matplotlib.pyplot as plt\n",
    "from tqdm import tqdm"
   ]
  },
  {
   "cell_type": "code",
   "execution_count": 2,
   "metadata": {},
   "outputs": [],
   "source": [
    "data2 = wobble.Spectra('../data/unnormalized/51peg_e2ds.hdf5')\n",
    "data3 = wobble.Spectra()"
   ]
  },
  {
   "cell_type": "code",
   "execution_count": 3,
   "metadata": {},
   "outputs": [
    {
     "name": "stderr",
     "output_type": "stream",
     "text": [
      "100%|██████████| 91/91 [02:11<00:00,  1.50s/it]\n"
     ]
    }
   ],
   "source": [
    "for n in tqdm(range(data2.N)):\n",
    "    sp = data2.pop(0)\n",
    "    sp.mask_low_pixels()\n",
    "    sp.mask_bad_edges()   \n",
    "    sp.transform_log()  \n",
    "    sp.continuum_normalize()\n",
    "    sp.mask_high_pixels()\n",
    "    data3.append(sp)"
   ]
  },
  {
   "cell_type": "code",
   "execution_count": 5,
   "metadata": {},
   "outputs": [
    {
     "name": "stderr",
     "output_type": "stream",
     "text": [
      "/Users/mbedell/python/wobble/wobble/data.py:120: RuntimeWarning: invalid value encountered in multiply\n",
      "  self.ivars = [self.fluxes[i]**2 * self.flux_ivars[i] for i in range(self.R)] # ivars for log(fluxes)\n"
     ]
    }
   ],
   "source": [
    "data1 = wobble.Data('../data/unnormalized/51peg_e2ds.hdf5')"
   ]
  },
  {
   "cell_type": "code",
   "execution_count": 14,
   "metadata": {},
   "outputs": [
    {
     "data": {
      "image/png": "[encoded data removed]",
      "text/plain": [
       "<Figure size 432x288 with 1 Axes>"
      ]
     },
     "metadata": {
      "needs_background": "light"
     },
     "output_type": "display_data"
    }
   ],
   "source": [
    "r = 10\n",
    "for n in range(20):\n",
    "    plt.plot(data1.xs[r][n], data1.ys[r][n] - data3.ys[r][n])"
   ]
  },
  {
   "cell_type": "code",
   "execution_count": 8,
   "metadata": {},
   "outputs": [],
   "source": [
    "data3.write('../data/51peg_e2ds.hdf5')"
   ]
  },
  {
   "cell_type": "code",
   "execution_count": null,
   "metadata": {},
   "outputs": [],
   "source": []
  },
  {
   "cell_type": "code",
   "execution_count": 9,
   "metadata": {},
   "outputs": [],
   "source": [
    "data2 = wobble.Spectra('../data/unnormalized/barnards_e2ds.hdf5')\n",
    "data3 = wobble.Spectra()"
   ]
  },
  {
   "cell_type": "code",
   "execution_count": 10,
   "metadata": {},
   "outputs": [
    {
     "name": "stderr",
     "output_type": "stream",
     "text": [
      "  0%|          | 1/306 [00:15<1:16:36, 15.07s/it]"
     ]
    },
    {
     "name": "stdout",
     "output_type": "stream",
     "text": [
      "WARNING: Data: order 0 could not be continuum normalized. Setting to zero.\n"
     ]
    },
    {
     "name": "stderr",
     "output_type": "stream",
     "text": [
      "  8%|▊         | 26/306 [02:37<35:37,  7.63s/it]"
     ]
    },
    {
     "name": "stdout",
     "output_type": "stream",
     "text": [
      "WARNING: Data: order 0 could not be continuum normalized. Setting to zero.\n"
     ]
    },
    {
     "name": "stderr",
     "output_type": "stream",
     "text": [
      " 26%|██▋       | 81/306 [06:04<14:26,  3.85s/it]/Users/mbedell/python/wobble/wobble/spectra.py:404: RuntimeWarning: invalid value encountered in sqrt\n",
      "  self.ivars[r][window_start:window_end]))\n",
      "/Users/mbedell/python/wobble/wobble/spectra.py:411: RuntimeWarning: invalid value encountered in sqrt\n",
      "  self.ivars[r][window_start:window_end]))\n"
     ]
    },
    {
     "name": "stdout",
     "output_type": "stream",
     "text": [
      "WARNING: Data: order 1 could not be continuum normalized. Setting to zero.\n",
      "WARNING: Data: order 3 could not be continuum normalized. Setting to zero.\n",
      "WARNING: Data: order 4 could not be continuum normalized. Setting to zero.\n",
      "WARNING: Data: order 5 could not be continuum normalized. Setting to zero.\n"
     ]
    },
    {
     "name": "stderr",
     "output_type": "stream",
     "text": [
      " 69%|██████▉   | 211/306 [15:07<05:49,  3.68s/it]"
     ]
    },
    {
     "name": "stdout",
     "output_type": "stream",
     "text": [
      "WARNING: Data: order 0 could not be continuum normalized. Setting to zero.\n",
      "WARNING: Data: order 1 could not be continuum normalized. Setting to zero.\n",
      "WARNING: Data: order 2 could not be continuum normalized. Setting to zero.\n",
      "WARNING: Data: order 3 could not be continuum normalized. Setting to zero.\n",
      "WARNING: Data: order 4 could not be continuum normalized. Setting to zero.\n"
     ]
    },
    {
     "name": "stderr",
     "output_type": "stream",
     "text": [
      " 72%|███████▏  | 219/306 [15:34<04:56,  3.41s/it]"
     ]
    },
    {
     "name": "stdout",
     "output_type": "stream",
     "text": [
      "WARNING: Data: order 1 could not be continuum normalized. Setting to zero.\n",
      "WARNING: Data: order 3 could not be continuum normalized. Setting to zero.\n"
     ]
    },
    {
     "name": "stderr",
     "output_type": "stream",
     "text": [
      " 86%|████████▌ | 262/306 [18:14<02:44,  3.74s/it]"
     ]
    },
    {
     "name": "stdout",
     "output_type": "stream",
     "text": [
      "WARNING: Data: order 1 could not be continuum normalized. Setting to zero.\n"
     ]
    },
    {
     "name": "stderr",
     "output_type": "stream",
     "text": [
      " 91%|█████████ | 277/306 [19:30<02:02,  4.21s/it]"
     ]
    },
    {
     "name": "stdout",
     "output_type": "stream",
     "text": [
      "WARNING: Data: order 0 could not be continuum normalized. Setting to zero.\n",
      "WARNING: Data: order 1 could not be continuum normalized. Setting to zero.\n"
     ]
    },
    {
     "name": "stderr",
     "output_type": "stream",
     "text": [
      "100%|██████████| 306/306 [21:22<00:00,  4.13s/it]\n"
     ]
    },
    {
     "name": "stdout",
     "output_type": "stream",
     "text": [
      "Data: Dropping orders [ 0  1  2  3  4  5  6  7 16] because they have average SNR < 5\n"
     ]
    }
   ],
   "source": [
    "for n in tqdm(range(data2.N)):\n",
    "    sp = data2.pop(0)\n",
    "    sp.mask_low_pixels()\n",
    "    sp.mask_bad_edges()   \n",
    "    sp.transform_log()  \n",
    "    sp.continuum_normalize()\n",
    "    sp.mask_high_pixels()\n",
    "    data3.append(sp)\n",
    "data3.drop_bad_orders()\n",
    "data3.drop_bad_epochs()"
   ]
  },
  {
   "cell_type": "code",
   "execution_count": 11,
   "metadata": {},
   "outputs": [],
   "source": [
    "data3.write('../data/barnards_e2ds.hdf5')"
   ]
  },
  {
   "cell_type": "code",
   "execution_count": 12,
   "metadata": {},
   "outputs": [
    {
     "name": "stdout",
     "output_type": "stream",
     "text": [
      "Data: Dropping orders [ 0  1  2  3  4  5  6  7 16] because they have average SNR < 5\n"
     ]
    }
   ],
   "source": [
    "data1 = wobble.Data('../data/unnormalized/barnards_e2ds.hdf5', epochs=np.arange(20))"
   ]
  },
  {
   "cell_type": "code",
   "execution_count": 21,
   "metadata": {},
   "outputs": [
    {
     "data": {
      "image/png": "[encoded data removed]",
      "text/plain": [
       "<Figure size 432x288 with 1 Axes>"
      ]
     },
     "metadata": {
      "needs_background": "light"
     },
     "output_type": "display_data"
    }
   ],
   "source": [
    "#plt.plot(sp.xs[r], sp.ys[r])\n",
    "r = 50\n",
    "for n in range(20):\n",
    "    plt.plot(data1.xs[r][n], data1.ys[r][n] - data3.ys[r][n])"
   ]
  },
  {
   "cell_type": "code",
   "execution_count": null,
   "metadata": {},
   "outputs": [],
   "source": []
  }
 ],
 "metadata": {
  "kernelspec": {
   "display_name": "Python3 (wobble)",
   "language": "python",
   "name": "wobble"
  },
  "language_info": {
   "codemirror_mode": {
    "name": "ipython",
    "version": 3
   },
   "file_extension": ".py",
   "mimetype": "text/x-python",
   "name": "python",
   "nbconvert_exporter": "python",
   "pygments_lexer": "ipython3",
   "version": "3.6.8"
  }
 },
 "nbformat": 4,
 "nbformat_minor": 2
}
