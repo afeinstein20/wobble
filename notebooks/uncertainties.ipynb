{
 "cells": [
  {
   "cell_type": "markdown",
   "metadata": {},
   "source": [
    "#### deriving RV uncertainties using the Cramer-Rao bound"
   ]
  },
  {
   "cell_type": "code",
   "execution_count": 1,
   "metadata": {},
   "outputs": [
    {
     "name": "stderr",
     "output_type": "stream",
     "text": [
      "/usr/local/Cellar/python3/3.6.0/Frameworks/Python.framework/Versions/3.6/lib/python3.6/site-packages/h5py/__init__.py:36: FutureWarning: Conversion of the second argument of issubdtype from `float` to `np.floating` is deprecated. In future, it will be treated as `np.float64 == np.dtype(float).type`.\n",
      "  from ._conv import register_converters as _register_converters\n"
     ]
    }
   ],
   "source": [
    "import numpy as np\n",
    "import matplotlib.pyplot as plt\n",
    "import tensorflow as tf\n",
    "import wobble\n",
    "from tqdm import tqdm"
   ]
  },
  {
   "cell_type": "code",
   "execution_count": 2,
   "metadata": {},
   "outputs": [],
   "source": [
    "starname = '51peg'\n",
    "K_star = 0\n",
    "K_t = 3    \n",
    "star_reg_file = '../wobble/regularization/{0}_star_K{1}.hdf5'.format(starname, K_star)\n",
    "tellurics_reg_file = '../wobble/regularization/{0}_t_K{1}.hdf5'.format(starname, K_t)"
   ]
  },
  {
   "cell_type": "code",
   "execution_count": 3,
   "metadata": {},
   "outputs": [],
   "source": [
    "data = wobble.Data(starname+'_e2ds.hdf5', filepath='../data/', orders=[30])"
   ]
  },
  {
   "cell_type": "code",
   "execution_count": 4,
   "metadata": {},
   "outputs": [],
   "source": [
    "results = wobble.Results(data=data)"
   ]
  },
  {
   "cell_type": "code",
   "execution_count": 5,
   "metadata": {},
   "outputs": [],
   "source": [
    "model = wobble.Model(data, results, 0)\n",
    "model.add_star('star', variable_bases=K_star, \n",
    "                regularization_par_file=star_reg_file)\n",
    "model.add_telluric('tellurics', rvs_fixed=True, variable_bases=K_t, \n",
    "                    regularization_par_file=tellurics_reg_file)"
   ]
  },
  {
   "cell_type": "code",
   "execution_count": 6,
   "metadata": {},
   "outputs": [
    {
     "name": "stderr",
     "output_type": "stream",
     "text": [
      "100%|██████████| 80/80 [00:05<00:00, 15.02it/s]\n",
      "100%|██████████| 91/91 [01:56<00:00,  1.28s/it]\n"
     ]
    }
   ],
   "source": [
    "wobble.optimize_order(model, niter=80, save_history=False, verbose=True)"
   ]
  },
  {
   "cell_type": "code",
   "execution_count": 7,
   "metadata": {},
   "outputs": [],
   "source": [
    "n = 0 # epoch\n",
    "r = 0 # order idx"
   ]
  },
  {
   "cell_type": "code",
   "execution_count": 8,
   "metadata": {},
   "outputs": [
    {
     "data": {
      "text/plain": [
       "<tf.Tensor 'strided_slice_6:0' shape=(4096,) dtype=float64>"
      ]
     },
     "execution_count": 8,
     "metadata": {},
     "output_type": "execute_result"
    }
   ],
   "source": [
    "model.components[0].synth[n]"
   ]
  },
  {
   "cell_type": "code",
   "execution_count": 9,
   "metadata": {},
   "outputs": [
    {
     "data": {
      "text/plain": [
       "<tf.Variable 'rvs_star:0' shape=(91,) dtype=float64_ref>"
      ]
     },
     "execution_count": 9,
     "metadata": {},
     "output_type": "execute_result"
    }
   ],
   "source": [
    "model.components[0].rvs"
   ]
  },
  {
   "cell_type": "code",
   "execution_count": 10,
   "metadata": {},
   "outputs": [
    {
     "name": "stderr",
     "output_type": "stream",
     "text": [
      "100%|██████████| 50/50 [00:28<00:00,  1.79it/s]\n"
     ]
    }
   ],
   "source": [
    "session = wobble.get_session()\n",
    "#M = len(data.xs[r][n])\n",
    "M = 50 # just for testing\n",
    "\n",
    "dsynth_dv = [session.run(tf.gradients(model.components[0].synth[n][m], \n",
    "                                      model.components[0].rvs))[0][n] for m in tqdm(range(M))]"
   ]
  },
  {
   "cell_type": "code",
   "execution_count": 11,
   "metadata": {},
   "outputs": [
    {
     "data": {
      "image/png": "[encoded data removed]",
      "text/plain": [
       "<Figure size 864x432 with 2 Axes>"
      ]
     },
     "metadata": {},
     "output_type": "display_data"
    }
   ],
   "source": [
    "fig,(ax1,ax2) = plt.subplots(2,1,sharex=True,figsize=(12,6))\n",
    "ax2.plot(data.xs[r][n][:M], dsynth_dv)\n",
    "ax2.set_ylabel('Derivative', fontsize=14)\n",
    "ax1.plot(data.xs[r][n][:M], data.ys[r][n][:M])\n",
    "ax1.set_ylabel('Spectrum', fontsize=14);\n",
    "#ax1.set_xlim([8.448,8.449])"
   ]
  },
  {
   "cell_type": "code",
   "execution_count": 12,
   "metadata": {},
   "outputs": [
    {
     "name": "stdout",
     "output_type": "stream",
     "text": [
      "CRLB on RV in order 30, epoch 0: 1.04 m/s\n"
     ]
    }
   ],
   "source": [
    "crlb = np.sum(dsynth_dv * data.ivars[r][n][:M] * dsynth_dv) * 2048./M # HACK\n",
    "print(\"CRLB on RV in order {1}, epoch {2}: {0:.2f} m/s\".format(1./np.sqrt(crlb), data.orders[r], n))"
   ]
  },
  {
   "cell_type": "markdown",
   "metadata": {},
   "source": [
    "#### deriving RV uncertainties using the Hessian"
   ]
  },
  {
   "cell_type": "code",
   "execution_count": 13,
   "metadata": {},
   "outputs": [],
   "source": [
    "session = wobble.get_session()\n",
    "best_rv = results.star_rvs[r][n]"
   ]
  },
  {
   "cell_type": "code",
   "execution_count": 14,
   "metadata": {},
   "outputs": [],
   "source": [
    "N_grid = 20\n",
    "rvs_grid = np.tile(results.star_rvs, (N_grid,1))\n",
    "rvs_grid[:,n] += np.linspace(-100., 100., N_grid)\n",
    "nll_grid = [session.run(model.nll, feed_dict={model.components[0].rvs:v}) for v in rvs_grid]"
   ]
  },
  {
   "cell_type": "code",
   "execution_count": 15,
   "metadata": {},
   "outputs": [],
   "source": [
    "dnll_dv = tf.gradients(model.nll, model.components[0].rvs)\n",
    "dnll_dv_grid = [session.run(dnll_dv, feed_dict={model.components[0].rvs:v})[0][n] for v in rvs_grid]"
   ]
  },
  {
   "cell_type": "code",
   "execution_count": 16,
   "metadata": {},
   "outputs": [],
   "source": [
    "A = np.array(rvs_grid[:,n]) - best_rv\n",
    "ATA = np.dot(A, A)\n",
    "ATy = np.dot(A, np.array(dnll_dv_grid))\n",
    "hessian = ATy / ATA"
   ]
  },
  {
   "cell_type": "code",
   "execution_count": 17,
   "metadata": {},
   "outputs": [
    {
     "data": {
      "text/plain": [
       "<matplotlib.lines.Line2D at 0x214558cf8>"
      ]
     },
     "execution_count": 17,
     "metadata": {},
     "output_type": "execute_result"
    },
    {
     "data": {
      "image/png": "[encoded data removed]",
      "text/plain": [
       "<Figure size 432x720 with 2 Axes>"
      ]
     },
     "metadata": {},
     "output_type": "display_data"
    }
   ],
   "source": [
    "fig,(ax1,ax2) = plt.subplots(2,1,sharex=True,figsize=(6,10))\n",
    "ax2.set_xlabel('RV (m/s)', fontsize=16)\n",
    "ax1.set_ylabel('NLL', fontsize=16)\n",
    "ax2.set_ylabel('dNLL/dRV', fontsize=16)\n",
    "ax1.scatter(rvs_grid[:,n], nll_grid)\n",
    "ax1.axvline(best_rv, color='r')\n",
    "ax2.scatter(rvs_grid[:,n], dnll_dv_grid)\n",
    "ax2.plot(rvs_grid[:,n], hessian * A, c='g')\n",
    "ax2.axvline(best_rv, color='r')"
   ]
  },
  {
   "cell_type": "code",
   "execution_count": 18,
   "metadata": {},
   "outputs": [
    {
     "name": "stdout",
     "output_type": "stream",
     "text": [
      "1.6036523862500618\n"
     ]
    }
   ],
   "source": [
    "print(1./np.sqrt(hessian))"
   ]
  },
  {
   "cell_type": "code",
   "execution_count": 20,
   "metadata": {},
   "outputs": [
    {
     "data": {
      "text/plain": [
       "array([[1.59738434, 1.57109795, 1.32074785, 1.42099611, 1.13320135,\n",
       "        1.69788875, 2.21441024, 1.23956657, 1.13986006, 1.12439151,\n",
       "        1.12811563, 1.11858836, 1.15272288, 2.44146058, 2.53762156,\n",
       "        1.59742618, 1.7072163 , 1.61438402, 1.46755781, 1.37272059,\n",
       "        1.30940156, 1.2710557 , 1.19503652, 1.24310115, 1.22663473,\n",
       "        1.28715251, 1.24155778, 1.19109561, 1.28285374, 1.17864794,\n",
       "        1.27138383, 1.42136073, 1.34346877, 1.43037457, 1.33956798,\n",
       "        1.49868965, 1.49526087, 1.67931105, 1.89807102, 2.07697638,\n",
       "        1.77180122, 1.47893005, 1.43810644, 1.4868381 , 1.63755458,\n",
       "        1.63732929, 1.9311972 , 2.15419283, 2.40392422, 3.05040342,\n",
       "        2.33939283, 2.00865816, 1.89699118, 1.8199955 , 2.12840932,\n",
       "        1.83132051, 1.57244555, 1.42609138, 1.57999939, 1.39739073,\n",
       "        1.2805229 , 1.27808087, 1.24021863, 1.22699655, 1.25216525,\n",
       "        1.08933664, 1.15193932, 1.1796544 , 1.13927588, 1.16079732,\n",
       "        1.08603805, 1.11306441, 1.06548689, 1.08325868, 1.11463362,\n",
       "        1.03239162, 1.08980563, 1.12566316, 1.16127781, 1.06000219,\n",
       "        1.10758554, 1.00982757, 1.01209749, 0.96669983, 0.97280272,\n",
       "        0.97368489, 1.01801669, 0.99711391, 0.95810448, 0.99011503,\n",
       "        1.08110333]])"
      ]
     },
     "execution_count": 20,
     "metadata": {},
     "output_type": "execute_result"
    }
   ],
   "source": [
    "1./np.sqrt(results.star_ivars_rvs)"
   ]
  }
 ],
 "metadata": {
  "kernelspec": {
   "display_name": "Python 3",
   "language": "python",
   "name": "python3"
  },
  "language_info": {
   "codemirror_mode": {
    "name": "ipython",
    "version": 3
   },
   "file_extension": ".py",
   "mimetype": "text/x-python",
   "name": "python",
   "nbconvert_exporter": "python",
   "pygments_lexer": "ipython3",
   "version": "3.6.0"
  }
 },
 "nbformat": 4,
 "nbformat_minor": 2
}
