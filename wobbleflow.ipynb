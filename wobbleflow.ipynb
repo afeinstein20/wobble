{
 "cells": [
  {
   "cell_type": "code",
   "execution_count": 1,
   "metadata": {},
   "outputs": [
    {
     "name": "stderr",
     "output_type": "stream",
     "text": [
      "/usr/local/Cellar/python3/3.6.0/Frameworks/Python.framework/Versions/3.6/lib/python3.6/site-packages/h5py/__init__.py:36: FutureWarning: Conversion of the second argument of issubdtype from `float` to `np.floating` is deprecated. In future, it will be treated as `np.float64 == np.dtype(float).type`.\n",
      "  from ._conv import register_converters as _register_converters\n"
     ]
    }
   ],
   "source": [
    "import wobble\n",
    "import matplotlib.pyplot as plt\n",
    "import numpy as np"
   ]
  },
  {
   "cell_type": "code",
   "execution_count": 2,
   "metadata": {},
   "outputs": [],
   "source": [
    "o = [57, 58]\n",
    "starname = '51peg'\n",
    "data = wobble.Data(starname+'_e2ds.hdf5', filepath='data/', orders=o)"
   ]
  },
  {
   "cell_type": "code",
   "execution_count": 3,
   "metadata": {},
   "outputs": [
    {
     "name": "stdout",
     "output_type": "stream",
     "text": [
      "Model consisting of the following components: \n",
      "51peg: RVs variable; 0 variable basis components\n",
      "tellurics: RVs fixed; 0 variable basis components\n"
     ]
    }
   ],
   "source": [
    "model = wobble.Model(data)\n",
    "model.add_star(starname)\n",
    "model.add_telluric('tellurics')\n",
    "print(model)"
   ]
  },
  {
   "cell_type": "markdown",
   "metadata": {},
   "source": [
    "Inject some noise & try to get back to the pipeline values by optimizing:"
   ]
  },
  {
   "cell_type": "code",
   "execution_count": 4,
   "metadata": {},
   "outputs": [],
   "source": [
    "import tensorflow as tf\n",
    "session = wobble.get_session()\n",
    "session.run(tf.global_variables_initializer())\n",
    "pipeline_rvs = session.run(model.components[0].rvs_block[0])\n",
    "model.components[0].rvs_block[0].load(pipeline_rvs + np.random.normal(0., 100., data.N), session)"
   ]
  },
  {
   "cell_type": "code",
   "execution_count": 5,
   "metadata": {},
   "outputs": [
    {
     "data": {
      "text/plain": [
       "<matplotlib.collections.PathCollection at 0x10b592a90>"
      ]
     },
     "execution_count": 5,
     "metadata": {},
     "output_type": "execute_result"
    },
    {
     "data": {
      "image/png": "[encoded data removed]",
      "text/plain": [
       "<Figure size 432x288 with 1 Axes>"
      ]
     },
     "metadata": {},
     "output_type": "display_data"
    }
   ],
   "source": [
    "star_rvs = session.run(model.components[0].rvs_block[0])\n",
    "initial_rvs = np.copy(star_rvs)\n",
    "plt.scatter(pipeline_rvs, star_rvs - pipeline_rvs)"
   ]
  },
  {
   "cell_type": "code",
   "execution_count": 6,
   "metadata": {},
   "outputs": [
    {
     "name": "stdout",
     "output_type": "stream",
     "text": [
      "--- ORDER 0 ---\n"
     ]
    },
    {
     "name": "stderr",
     "output_type": "stream",
     "text": [
      "100%|██████████| 100/100 [00:24<00:00,  4.13it/s]\n"
     ]
    },
    {
     "name": "stdout",
     "output_type": "stream",
     "text": [
      "saving optimization history to 51peg_o0_history.hdf5\n",
      "--- ORDER 1 ---\n"
     ]
    },
    {
     "name": "stderr",
     "output_type": "stream",
     "text": [
      "100%|██████████| 100/100 [00:23<00:00,  4.32it/s]\n"
     ]
    },
    {
     "name": "stdout",
     "output_type": "stream",
     "text": [
      "saving optimization history to 51peg_o1_history.hdf5\n",
      "Results: writing to results.hdf5\n",
      "CPU times: user 2min 11s, sys: 17.1 s, total: 2min 28s\n",
      "Wall time: 1min 19s\n"
     ]
    }
   ],
   "source": [
    "%%time\n",
    "niter = 100\n",
    "results = wobble.optimize_orders(model, data, niter=niter, save_history=True, basename=starname)"
   ]
  },
  {
   "cell_type": "code",
   "execution_count": 7,
   "metadata": {},
   "outputs": [],
   "source": [
    "history = wobble.History(model, data, 0, niter, filename=starname+'_o1_history.hdf5')"
   ]
  },
  {
   "cell_type": "code",
   "execution_count": 8,
   "metadata": {},
   "outputs": [
    {
     "data": {
      "image/png": "[encoded data removed]",
      "text/plain": [
       "<Figure size 432x288 with 1 Axes>"
      ]
     },
     "metadata": {},
     "output_type": "display_data"
    }
   ],
   "source": [
    "plt.scatter(np.arange(len(history.nll_history)), history.nll_history)\n",
    "ax = plt.gca()\n",
    "ax.set_yscale('log')"
   ]
  },
  {
   "cell_type": "code",
   "execution_count": null,
   "metadata": {},
   "outputs": [],
   "source": [
    "star_ys = getattr(results, '{0}_ys_predicted'.format(starname))[0]\n",
    "t_ys = results.tellurics_ys_predicted[0]\n",
    "data_xs = results.xs[0]\n",
    "data_ys = results.ys[0]\n",
    "rvs_star = getattr(results, '{0}_rvs_block'.format(starname))[0]\n",
    "resids = np.exp(data_ys) - np.exp(results.ys_predicted[0])"
   ]
  },
  {
   "cell_type": "code",
   "execution_count": null,
   "metadata": {},
   "outputs": [],
   "source": [
    "epoch = 12\n",
    "fig, (ax, ax2) = plt.subplots(2, 1, gridspec_kw = {'height_ratios':[4, 1]})\n",
    "ax.plot(np.exp(data_xs[epoch]), np.exp(star_ys[epoch]), label='star model', lw=1.5)\n",
    "ax.plot(np.exp(data_xs[epoch]), np.exp(t_ys[epoch]), label='tellurics model', lw=1.5)\n",
    "ax.scatter(np.exp(data_xs[epoch]), np.exp(data_ys[epoch]), marker=\".\", alpha=0.4, c='k', label='data')\n",
    "ax.set_xlim([5940, 5945])\n",
    "ax.set_ylim([0.77, 1.03])\n",
    "ax.set_xticklabels([])\n",
    "ax.set_ylabel('Normalized Flux', fontsize=14)\n",
    "ax2.scatter(np.exp(data_xs[epoch]), resids[epoch], marker=\".\", alpha=0.4, c='k')\n",
    "ax2.set_xlim([5940, 5945])\n",
    "ax2.set_ylim([-0.05, 0.05])\n",
    "ax2.set_xlabel(r'Wavelength ($\\AA$)', fontsize=14)\n",
    "ax2.set_ylabel('Resids', fontsize=14)\n",
    "\n",
    "# Shrink current axis by 50%\n",
    "box = ax.get_position()\n",
    "ax.set_position([box.x0, box.y0, box.width * 0.5, box.height])\n",
    "ax.legend(loc='center left', bbox_to_anchor=(1, 0.5), fontsize=14)\n",
    "\n",
    "fig.tight_layout()\n",
    "fig.subplots_adjust(hspace=0.05)"
   ]
  },
  {
   "cell_type": "code",
   "execution_count": null,
   "metadata": {},
   "outputs": [],
   "source": [
    "plt.plot(np.exp(data_xs[epoch]), np.exp(t_ys[epoch]))\n",
    "plt.xlim([5940, 5945])\n",
    "plt.ylim([0.8, 1.05])\n",
    "plt.xlabel('Wavelength (A)')\n",
    "plt.title('Telluric model, order 57 zoom');"
   ]
  },
  {
   "cell_type": "code",
   "execution_count": null,
   "metadata": {},
   "outputs": [],
   "source": [
    "from harps_hacks import read_harps\n",
    "from wobble.utils import fit_continuum\n",
    "f = '/Users/mbedell/python/wobble/data/telluric/HARPS.2009-05-09T23:40:43.280_e2ds_A.fits'\n",
    "wave,flux = read_harps.read_spec_2d(f)\n",
    "snrs = read_harps.read_snr(f)"
   ]
  },
  {
   "cell_type": "code",
   "execution_count": null,
   "metadata": {},
   "outputs": [],
   "source": [
    "wave2,flux2 = np.exp(data_xs[epoch]), np.exp(t_ys[epoch])\n",
    "wave1,flux1 = wave[o[0]], flux[o[0]]\n",
    "ivars1 = np.zeros_like(flux1) + snrs[o[0]]**2 # HACK\n",
    "flux1 = np.exp(np.log(flux1) - fit_continuum(np.log(wave1), np.log(flux1), ivars1))"
   ]
  },
  {
   "cell_type": "code",
   "execution_count": null,
   "metadata": {},
   "outputs": [],
   "source": [
    "fig = plt.figure(figsize=(8,6))\n",
    "ax = fig.add_subplot(111)\n",
    "ax.plot(wave1,flux1+0.012,color='k',alpha=0.7,label='standard star')\n",
    "ax.plot(wave2,flux2,color='r',alpha=0.7,lw=1.5,label='model')\n",
    "#ax.set_xlim([min(wave2),max(wave2)])\n",
    "ax.set_xlim([5940, 5945])\n",
    "ax.set_ylabel('Normalized Flux', fontsize=18)\n",
    "ax.legend(loc='upper right', fontsize=16)\n",
    "ax.set_xlabel(r'Wavelength ($\\AA$)', fontsize=18)\n",
    "fig.tight_layout()"
   ]
  },
  {
   "cell_type": "code",
   "execution_count": null,
   "metadata": {},
   "outputs": [],
   "source": [
    "plt.plot(np.exp(data_xs[epoch]), np.exp(star_ys[epoch]))\n",
    "plt.xlim([5939, 5945])\n",
    "plt.ylim([0.8, 1.05])\n",
    "plt.xlabel('Wavelength (A)')\n",
    "plt.title('Star model, order 57 zoom');"
   ]
  },
  {
   "cell_type": "code",
   "execution_count": null,
   "metadata": {},
   "outputs": [],
   "source": [
    "template_xs[1001] - template_xs[1000]"
   ]
  },
  {
   "cell_type": "code",
   "execution_count": null,
   "metadata": {},
   "outputs": [],
   "source": [
    "session.run(data.xs[0][0][3001] - data.xs[0][0][3000])\n"
   ]
  },
  {
   "cell_type": "code",
   "execution_count": null,
   "metadata": {},
   "outputs": [],
   "source": [
    "star_rvs = session.run(model.components[0].rvs_block[0])\n",
    "plt.scatter(data.pipeline_rvs, initial_rvs - data.pipeline_rvs, color='k', alpha=0.6)\n",
    "plt.scatter(data.pipeline_rvs, star_rvs - data.pipeline_rvs, color='r', alpha=0.6)"
   ]
  },
  {
   "cell_type": "code",
   "execution_count": null,
   "metadata": {},
   "outputs": [],
   "source": [
    "t_rvs = session.run(model.components[1].rvs_block[0])\n",
    "plt.scatter(data.pipeline_rvs, t_rvs, color='k', alpha=0.6)"
   ]
  },
  {
   "cell_type": "code",
   "execution_count": null,
   "metadata": {},
   "outputs": [],
   "source": [
    "from IPython.display import HTML\n",
    "ani = history.plot_rvs(0, model, data)\n",
    "HTML(ani.to_html5_video())"
   ]
  },
  {
   "cell_type": "code",
   "execution_count": null,
   "metadata": {},
   "outputs": [],
   "source": [
    "ani = history.plot_chis(0, model, data, nframes=50)\n",
    "HTML(ani.to_html5_video())"
   ]
  },
  {
   "cell_type": "code",
   "execution_count": null,
   "metadata": {},
   "outputs": [],
   "source": [
    "ani = history.plot_template(0, model, data, nframes=50)\n",
    "HTML(ani.to_html5_video())"
   ]
  },
  {
   "cell_type": "markdown",
   "metadata": {},
   "source": [
    "Gradient checks:"
   ]
  },
  {
   "cell_type": "code",
   "execution_count": null,
   "metadata": {},
   "outputs": [],
   "source": [
    "tf_grad = session.run(model.components[0].gradients_rvs)[0]"
   ]
  },
  {
   "cell_type": "code",
   "execution_count": null,
   "metadata": {},
   "outputs": [],
   "source": [
    "r = 0\n",
    "rvs = tf.placeholder(tf.float64, (75,))\n",
    "synth = model.components[1].shift_and_interp(r, data.xs[r], model.components[1].rvs_block[r])\n",
    "synth += model.components[0].shift_and_interp(r, data.xs[r], rvs)\n",
    "nll = 0.5*tf.reduce_sum(tf.square(data.ys[r] - synth) * data.ivars[r])"
   ]
  },
  {
   "cell_type": "code",
   "execution_count": null,
   "metadata": {},
   "outputs": [],
   "source": [
    "num_grads = np.zeros_like(tf_grad)\n",
    "rvs0 = session.run(model.components[0].rvs_block[0])\n",
    "nll_0 = session.run(nll, feed_dict={rvs:rvs0})\n",
    "d_rvs = 0.001\n",
    "for n in range(75):\n",
    "    rvs1 = np.copy(rvs0)\n",
    "    rvs1[n] += d_rvs\n",
    "    nll_1 = session.run(nll, feed_dict={rvs:rvs1})\n",
    "    num_grads[n] = np.copy((nll_1 - nll_0)/d_rvs)\n",
    "print(\"Fractional difference between numerical gradients & TF gradient at each RV_star:\")\n",
    "print((num_grads - tf_grad) / np.median(np.abs(tf_grad)))"
   ]
  },
  {
   "cell_type": "code",
   "execution_count": null,
   "metadata": {},
   "outputs": [],
   "source": [
    "from wobble.interp import interp\n",
    "model_len = 6815\n",
    "\n",
    "model_ys = tf.placeholder(tf.float64, (model_len,))\n",
    "shifted_xs = data.xs[r] + tf.log(wobble.doppler((model.components[0].rvs_block[r])[:, None]))\n",
    "synth = interp(shifted_xs, model.components[0].template_xs[r], model_ys) \n",
    "synth += model.components[1].shift_and_interp(r, data.xs[r], model.components[1].rvs_block[r])\n",
    "nll = 0.5*tf.reduce_sum(tf.square(data.ys[r] - synth) * data.ivars[r])"
   ]
  },
  {
   "cell_type": "code",
   "execution_count": null,
   "metadata": {},
   "outputs": [],
   "source": [
    "tf_grad = session.run(model.components[0].gradients_model)[0]\n",
    "dense_grad = np.zeros(model_len)\n",
    "for i in range(model_len):\n",
    "    dense_grad[i] = np.sum(tf_grad.values[tf_grad.indices == i])"
   ]
  },
  {
   "cell_type": "code",
   "execution_count": null,
   "metadata": {},
   "outputs": [],
   "source": [
    "model0 = session.run(model.components[0].template_ys[0])\n",
    "nll_0 = session.run(nll, feed_dict={model_ys:model0})\n",
    "d_model = 0.001\n",
    "diff = []\n",
    "for n in np.random.randint(0, model_len, size=20):\n",
    "    model1 = np.copy(model0)\n",
    "    model1[n] += d_model\n",
    "    nll_1 = session.run(nll, feed_dict={model_ys:model1})\n",
    "    diff.append((nll_1 - nll_0)/d_rvs - dense_grad[n])\n",
    "print(\"Fractional difference between numerical gradients & TF gradient for random model pixels:\")\n",
    "print(diff / np.median(np.abs(dense_grad)))"
   ]
  }
 ],
 "metadata": {
  "kernelspec": {
   "display_name": "Python 3",
   "language": "python",
   "name": "python3"
  },
  "language_info": {
   "codemirror_mode": {
    "name": "ipython",
    "version": 3
   },
   "file_extension": ".py",
   "mimetype": "text/x-python",
   "name": "python",
   "nbconvert_exporter": "python",
   "pygments_lexer": "ipython3",
   "version": "3.6.0"
  }
 },
 "nbformat": 4,
 "nbformat_minor": 2
}
