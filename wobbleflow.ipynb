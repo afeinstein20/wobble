{
 "cells": [
  {
   "cell_type": "code",
   "execution_count": 2,
   "metadata": {},
   "outputs": [],
   "source": [
    "import wobble\n",
    "import matplotlib.pyplot as plt\n",
    "import numpy as np"
   ]
  },
  {
   "cell_type": "code",
   "execution_count": null,
   "metadata": {},
   "outputs": [],
   "source": [
    "data = wobble.Data('hip54287_e2ds.hdf5', filepath='data/', orders=[56])"
   ]
  },
  {
   "cell_type": "code",
   "execution_count": null,
   "metadata": {},
   "outputs": [],
   "source": [
    "model = wobble.Model(data)\n",
    "model.add_star('hip54287b')\n",
    "model.add_telluric('tellurics')\n",
    "print(model)"
   ]
  },
  {
   "cell_type": "markdown",
   "metadata": {},
   "source": [
    "Inject some noise & try to get back to the pipeline values by optimizing:"
   ]
  },
  {
   "cell_type": "code",
   "execution_count": null,
   "metadata": {},
   "outputs": [],
   "source": [
    "import tensorflow as tf\n",
    "session = wobble.get_session()\n",
    "session.run(tf.global_variables_initializer())\n",
    "pipeline_rvs = session.run(model.components[0].rvs_block[0])\n",
    "model.components[0].rvs_block[0].load(pipeline_rvs + np.random.normal(0., 100., data.N), session)"
   ]
  },
  {
   "cell_type": "code",
   "execution_count": null,
   "metadata": {},
   "outputs": [],
   "source": [
    "star_rvs = session.run(model.components[0].rvs_block[0])\n",
    "initial_rvs = np.copy(star_rvs)\n",
    "plt.scatter(data.pipeline_rvs, star_rvs - data.pipeline_rvs)"
   ]
  },
  {
   "cell_type": "code",
   "execution_count": null,
   "metadata": {},
   "outputs": [],
   "source": [
    "%%time\n",
    "niter = 100\n",
    "nll_history, rvs_history, model_history, chis_history = wobble.optimize_order(model, data, 0, niter=niter, output_history=True)"
   ]
  },
  {
   "cell_type": "code",
   "execution_count": null,
   "metadata": {},
   "outputs": [],
   "source": [
    "plt.scatter(np.arange(len(nll_history)), nll_history)\n",
    "ax = plt.gca()\n",
    "ax.set_yscale('log')"
   ]
  },
  {
   "cell_type": "code",
   "execution_count": null,
   "metadata": {},
   "outputs": [],
   "source": [
    "for c in model.components:\n",
    "    model_xs = session.run(c.model_xs[0])\n",
    "    model_ys = session.run(c.model_ys[0])\n",
    "    plt.plot(np.exp(model_xs), np.exp(model_ys))"
   ]
  },
  {
   "cell_type": "code",
   "execution_count": null,
   "metadata": {},
   "outputs": [],
   "source": [
    "plt.plot(np.exp(model_xs), np.exp(model_ys))\n",
    "plt.xlim([5899, 5905])\n",
    "plt.xlabel('Wavelength (A)')\n",
    "plt.title('Telluric model, order 56 zoom')"
   ]
  },
  {
   "cell_type": "code",
   "execution_count": null,
   "metadata": {},
   "outputs": [],
   "source": [
    "for c in [model.components[0]]:\n",
    "    model_xs = session.run(c.model_xs[0])\n",
    "    model_ys = session.run(c.model_ys[0])\n",
    "plt.plot(np.exp(model_xs), np.exp(model_ys))\n",
    "plt.xlim([5899, 5905])\n",
    "plt.xlabel('Wavelength (A)')\n",
    "plt.title('Star model, order 56 zoom')"
   ]
  },
  {
   "cell_type": "code",
   "execution_count": null,
   "metadata": {},
   "outputs": [],
   "source": [
    "star_rvs = session.run(model.components[0].rvs_block[0])\n",
    "plt.scatter(data.pipeline_rvs, initial_rvs - data.pipeline_rvs, color='k', alpha=0.6)\n",
    "plt.scatter(data.pipeline_rvs, star_rvs - data.pipeline_rvs, color='r', alpha=0.6)"
   ]
  },
  {
   "cell_type": "code",
   "execution_count": null,
   "metadata": {},
   "outputs": [],
   "source": [
    "t_rvs = session.run(model.components[1].rvs_block[0])\n",
    "plt.scatter(data.pipeline_rvs, t_rvs, color='k', alpha=0.6)"
   ]
  },
  {
   "cell_type": "code",
   "execution_count": null,
   "metadata": {},
   "outputs": [],
   "source": [
    "from IPython.display import HTML\n",
    "ani = wobble.plot_rv_history(data, rvs_history, niter, niter, ylims=[-100, 100])\n",
    "HTML(ani.to_html5_video())"
   ]
  },
  {
   "cell_type": "code",
   "execution_count": null,
   "metadata": {},
   "outputs": [],
   "source": [
    "data_xs = session.run(data.xs[0])\n",
    "ani = wobble.plot_chis_history(0, data_xs, chis_history, niter, 50, ylims=(-1.e2, 1.e2))\n",
    "HTML(ani.to_html5_video())"
   ]
  },
  {
   "cell_type": "code",
   "execution_count": null,
   "metadata": {},
   "outputs": [],
   "source": [
    "model_xs = session.run(model.components[0].model_xs[0])\n",
    "ani = wobble.plot_model_history(model_xs, model_history, niter, 50)\n",
    "HTML(ani.to_html5_video())"
   ]
  },
  {
   "cell_type": "markdown",
   "metadata": {},
   "source": [
    "Gradient checks:"
   ]
  },
  {
   "cell_type": "code",
   "execution_count": null,
   "metadata": {},
   "outputs": [],
   "source": [
    "tf_grad = session.run(model.components[0].gradients_rvs)[0]"
   ]
  },
  {
   "cell_type": "code",
   "execution_count": null,
   "metadata": {},
   "outputs": [],
   "source": [
    "r = 0\n",
    "rvs = tf.placeholder(tf.float64, (75,))\n",
    "synth = model.components[1].shift_and_interp(r, data.xs[r], model.components[1].rvs_block[r])\n",
    "synth += model.components[0].shift_and_interp(r, data.xs[r], rvs)\n",
    "nll = 0.5*tf.reduce_sum(tf.square(data.ys[r] - synth) * data.ivars[r])"
   ]
  },
  {
   "cell_type": "code",
   "execution_count": null,
   "metadata": {},
   "outputs": [],
   "source": [
    "num_grads = np.zeros_like(tf_grad)\n",
    "rvs0 = session.run(model.components[0].rvs_block[0])\n",
    "nll_0 = session.run(nll, feed_dict={rvs:rvs0})\n",
    "d_rvs = 0.001\n",
    "for n in range(75):\n",
    "    rvs1 = np.copy(rvs0)\n",
    "    rvs1[n] += d_rvs\n",
    "    nll_1 = session.run(nll, feed_dict={rvs:rvs1})\n",
    "    num_grads[n] = np.copy((nll_1 - nll_0)/d_rvs)\n",
    "print(\"Fractional difference between numerical gradients & TF gradient at each RV_star:\")\n",
    "print((num_grads - tf_grad) / np.median(np.abs(tf_grad)))"
   ]
  },
  {
   "cell_type": "code",
   "execution_count": null,
   "metadata": {},
   "outputs": [],
   "source": [
    "from wobble.interp import interp\n",
    "model_len = 6815\n",
    "\n",
    "model_ys = tf.placeholder(tf.float64, (model_len,))\n",
    "shifted_xs = data.xs[r] + tf.log(wobble.doppler((model.components[0].rvs_block[r])[:, None]))\n",
    "synth = interp(shifted_xs, model.components[0].model_xs[r], model_ys) \n",
    "synth += model.components[1].shift_and_interp(r, data.xs[r], model.components[1].rvs_block[r])\n",
    "nll = 0.5*tf.reduce_sum(tf.square(data.ys[r] - synth) * data.ivars[r])"
   ]
  },
  {
   "cell_type": "code",
   "execution_count": null,
   "metadata": {},
   "outputs": [],
   "source": [
    "tf_grad = session.run(model.components[0].gradients_model)[0]\n",
    "dense_grad = np.zeros(model_len)\n",
    "for i in range(model_len):\n",
    "    dense_grad[i] = np.sum(tf_grad.values[tf_grad.indices == i])"
   ]
  },
  {
   "cell_type": "code",
   "execution_count": null,
   "metadata": {},
   "outputs": [],
   "source": [
    "model0 = session.run(model.components[0].model_ys[0])\n",
    "nll_0 = session.run(nll, feed_dict={model_ys:model0})\n",
    "d_model = 0.001\n",
    "diff = []\n",
    "for n in np.random.randint(0, model_len, size=20):\n",
    "    model1 = np.copy(model0)\n",
    "    model1[n] += d_model\n",
    "    nll_1 = session.run(nll, feed_dict={model_ys:model1})\n",
    "    diff.append((nll_1 - nll_0)/d_rvs - dense_grad[n])\n",
    "print(\"Fractional difference between numerical gradients & TF gradient for random model pixels:\")\n",
    "print(diff / np.median(np.abs(dense_grad)))"
   ]
  },
  {
   "cell_type": "markdown",
   "metadata": {},
   "source": [
    "Now let's try all orders!"
   ]
  },
  {
   "cell_type": "code",
   "execution_count": 3,
   "metadata": {},
   "outputs": [
    {
     "name": "stdout",
     "output_type": "stream",
     "text": [
      "Model consisting of the following components: ['hip54287b', 'tellurics']\n"
     ]
    }
   ],
   "source": [
    "data = wobble.Data('hip54287_e2ds.hdf5', filepath='data/', orders=np.arange(72))\n",
    "model = wobble.Model(data)\n",
    "model.add_star('hip54287b')\n",
    "model.add_telluric('tellurics')\n",
    "print(model)"
   ]
  },
  {
   "cell_type": "code",
   "execution_count": 4,
   "metadata": {},
   "outputs": [
    {
     "name": "stdout",
     "output_type": "stream",
     "text": [
      "initializing star model...\n",
      "initializing star model...\n",
      "initializing star model...\n",
      "initializing star model...\n",
      "initializing star model...\n",
      "initializing star model...\n",
      "initializing star model...\n",
      "initializing star model...\n",
      "initializing star model...\n",
      "initializing star model...\n",
      "initializing star model...\n",
      "initializing star model...\n",
      "initializing star model...\n",
      "initializing star model...\n",
      "initializing star model...\n",
      "initializing star model...\n",
      "initializing star model...\n",
      "initializing star model...\n",
      "initializing star model...\n",
      "initializing star model...\n",
      "initializing star model...\n",
      "initializing star model...\n",
      "initializing star model...\n",
      "initializing star model...\n",
      "initializing star model...\n",
      "initializing star model...\n",
      "initializing star model...\n",
      "initializing star model...\n",
      "initializing star model...\n",
      "initializing star model...\n",
      "initializing star model...\n",
      "initializing star model...\n",
      "initializing star model...\n",
      "initializing star model...\n",
      "initializing star model...\n",
      "initializing star model...\n",
      "initializing star model...\n",
      "initializing star model...\n",
      "initializing star model...\n",
      "initializing star model...\n",
      "initializing star model...\n",
      "initializing star model...\n",
      "initializing star model...\n",
      "initializing star model...\n",
      "initializing star model...\n",
      "initializing star model...\n",
      "initializing star model...\n",
      "initializing star model...\n",
      "initializing star model...\n",
      "initializing star model...\n",
      "initializing star model...\n",
      "initializing star model...\n",
      "initializing star model...\n",
      "initializing star model...\n",
      "initializing star model...\n",
      "initializing star model...\n",
      "initializing star model...\n",
      "initializing star model...\n",
      "initializing star model...\n",
      "initializing star model...\n",
      "initializing star model...\n",
      "initializing star model...\n",
      "initializing star model...\n",
      "initializing star model...\n",
      "initializing star model...\n",
      "initializing star model...\n",
      "initializing star model...\n",
      "initializing star model...\n",
      "initializing star model...\n",
      "initializing star model...\n",
      "initializing star model...\n",
      "initializing star model...\n",
      "initializing tellurics model...\n",
      "initializing tellurics model...\n",
      "initializing tellurics model...\n",
      "initializing tellurics model...\n",
      "initializing tellurics model...\n",
      "initializing tellurics model...\n",
      "initializing tellurics model...\n",
      "initializing tellurics model...\n",
      "initializing tellurics model...\n",
      "initializing tellurics model...\n",
      "initializing tellurics model...\n",
      "initializing tellurics model...\n",
      "initializing tellurics model...\n",
      "initializing tellurics model...\n",
      "initializing tellurics model...\n",
      "initializing tellurics model...\n",
      "initializing tellurics model...\n",
      "initializing tellurics model...\n",
      "initializing tellurics model...\n",
      "initializing tellurics model...\n",
      "initializing tellurics model...\n",
      "initializing tellurics model...\n",
      "initializing tellurics model...\n",
      "initializing tellurics model...\n",
      "initializing tellurics model...\n",
      "initializing tellurics model...\n",
      "initializing tellurics model...\n",
      "initializing tellurics model...\n",
      "initializing tellurics model...\n",
      "initializing tellurics model...\n",
      "initializing tellurics model...\n",
      "initializing tellurics model...\n",
      "initializing tellurics model...\n",
      "initializing tellurics model...\n",
      "initializing tellurics model...\n",
      "initializing tellurics model...\n",
      "initializing tellurics model...\n",
      "initializing tellurics model...\n",
      "initializing tellurics model...\n",
      "initializing tellurics model...\n",
      "initializing tellurics model...\n",
      "initializing tellurics model...\n",
      "initializing tellurics model...\n",
      "initializing tellurics model...\n",
      "initializing tellurics model...\n",
      "initializing tellurics model...\n",
      "initializing tellurics model...\n",
      "initializing tellurics model...\n",
      "initializing tellurics model...\n",
      "initializing tellurics model...\n",
      "initializing tellurics model...\n",
      "initializing tellurics model...\n",
      "initializing tellurics model...\n",
      "initializing tellurics model...\n",
      "initializing tellurics model...\n",
      "initializing tellurics model...\n",
      "initializing tellurics model...\n",
      "initializing tellurics model...\n",
      "initializing tellurics model...\n",
      "initializing tellurics model...\n",
      "initializing tellurics model...\n",
      "initializing tellurics model...\n",
      "initializing tellurics model...\n",
      "initializing tellurics model...\n",
      "initializing tellurics model...\n",
      "initializing tellurics model...\n",
      "initializing tellurics model...\n",
      "initializing tellurics model...\n",
      "initializing tellurics model...\n",
      "initializing tellurics model...\n",
      "initializing tellurics model...\n",
      "initializing tellurics model...\n"
     ]
    },
    {
     "ename": "AttributeError",
     "evalue": "'NoneType' object has no attribute 'shape'",
     "output_type": "error",
     "traceback": [
      "\u001b[0;31m---------------------------------------------------------------------------\u001b[0m",
      "\u001b[0;31mAttributeError\u001b[0m                            Traceback (most recent call last)",
      "\u001b[0;32m<ipython-input-4-eb9ce0862b95>\u001b[0m in \u001b[0;36m<module>\u001b[0;34m()\u001b[0m\n\u001b[1;32m      3\u001b[0m \u001b[0;32mfor\u001b[0m \u001b[0mr\u001b[0m \u001b[0;32min\u001b[0m \u001b[0mrange\u001b[0m\u001b[0;34m(\u001b[0m\u001b[0mdata\u001b[0m\u001b[0;34m.\u001b[0m\u001b[0mR\u001b[0m\u001b[0;34m)\u001b[0m\u001b[0;34m:\u001b[0m\u001b[0;34m\u001b[0m\u001b[0m\n\u001b[1;32m      4\u001b[0m     nll_history, rvs_history, model_history, chis_history = wobble.optimize_order(model, data, r, \n\u001b[0;32m----> 5\u001b[0;31m                 niter=niter, output_history=True) \n\u001b[0m\u001b[1;32m      6\u001b[0m     \u001b[0mplt\u001b[0m\u001b[0;34m.\u001b[0m\u001b[0mscatter\u001b[0m\u001b[0;34m(\u001b[0m\u001b[0mnp\u001b[0m\u001b[0;34m.\u001b[0m\u001b[0marange\u001b[0m\u001b[0;34m(\u001b[0m\u001b[0mlen\u001b[0m\u001b[0;34m(\u001b[0m\u001b[0mnll_history\u001b[0m\u001b[0;34m)\u001b[0m\u001b[0;34m)\u001b[0m\u001b[0;34m,\u001b[0m \u001b[0mnll_history\u001b[0m\u001b[0;34m)\u001b[0m\u001b[0;34m\u001b[0m\u001b[0m\n\u001b[1;32m      7\u001b[0m     \u001b[0max\u001b[0m \u001b[0;34m=\u001b[0m \u001b[0mplt\u001b[0m\u001b[0;34m.\u001b[0m\u001b[0mgca\u001b[0m\u001b[0;34m(\u001b[0m\u001b[0;34m)\u001b[0m\u001b[0;34m\u001b[0m\u001b[0m\n",
      "\u001b[0;32m~/python/wobble/wobble/wobbleflow.py\u001b[0m in \u001b[0;36moptimize_order\u001b[0;34m(model, data, r, niter, save_every, output_history)\u001b[0m\n\u001b[1;32m    197\u001b[0m         \u001b[0mnll_history\u001b[0m \u001b[0;34m=\u001b[0m \u001b[0mnp\u001b[0m\u001b[0;34m.\u001b[0m\u001b[0mempty\u001b[0m\u001b[0;34m(\u001b[0m\u001b[0mniter\u001b[0m\u001b[0;34m*\u001b[0m\u001b[0;36m2\u001b[0m\u001b[0;34m)\u001b[0m\u001b[0;34m\u001b[0m\u001b[0m\n\u001b[1;32m    198\u001b[0m         \u001b[0mrvs_history\u001b[0m \u001b[0;34m=\u001b[0m \u001b[0mnp\u001b[0m\u001b[0;34m.\u001b[0m\u001b[0mempty\u001b[0m\u001b[0;34m(\u001b[0m\u001b[0;34m(\u001b[0m\u001b[0mniter\u001b[0m\u001b[0;34m,\u001b[0m \u001b[0mdata\u001b[0m\u001b[0;34m.\u001b[0m\u001b[0mN\u001b[0m\u001b[0;34m)\u001b[0m\u001b[0;34m)\u001b[0m\u001b[0;34m\u001b[0m\u001b[0m\n\u001b[0;32m--> 199\u001b[0;31m         \u001b[0mmodel_history\u001b[0m \u001b[0;34m=\u001b[0m \u001b[0mnp\u001b[0m\u001b[0;34m.\u001b[0m\u001b[0mempty\u001b[0m\u001b[0;34m(\u001b[0m\u001b[0;34m(\u001b[0m\u001b[0mniter\u001b[0m\u001b[0;34m,\u001b[0m \u001b[0mint\u001b[0m\u001b[0;34m(\u001b[0m\u001b[0mmodel\u001b[0m\u001b[0;34m.\u001b[0m\u001b[0mcomponents\u001b[0m\u001b[0;34m[\u001b[0m\u001b[0;36m0\u001b[0m\u001b[0;34m]\u001b[0m\u001b[0;34m.\u001b[0m\u001b[0mmodel_ys\u001b[0m\u001b[0;34m[\u001b[0m\u001b[0mr\u001b[0m\u001b[0;34m]\u001b[0m\u001b[0;34m.\u001b[0m\u001b[0mshape\u001b[0m\u001b[0;34m[\u001b[0m\u001b[0;36m0\u001b[0m\u001b[0;34m]\u001b[0m\u001b[0;34m)\u001b[0m\u001b[0;34m)\u001b[0m\u001b[0;34m)\u001b[0m\u001b[0;34m\u001b[0m\u001b[0m\n\u001b[0m\u001b[1;32m    200\u001b[0m         \u001b[0mchis_history\u001b[0m \u001b[0;34m=\u001b[0m \u001b[0mnp\u001b[0m\u001b[0;34m.\u001b[0m\u001b[0mempty\u001b[0m\u001b[0;34m(\u001b[0m\u001b[0;34m(\u001b[0m\u001b[0mniter\u001b[0m\u001b[0;34m,\u001b[0m \u001b[0mdata\u001b[0m\u001b[0;34m.\u001b[0m\u001b[0mN\u001b[0m\u001b[0;34m,\u001b[0m \u001b[0;36m4096\u001b[0m\u001b[0;34m)\u001b[0m\u001b[0;34m)\u001b[0m \u001b[0;31m# HACK\u001b[0m\u001b[0;34m\u001b[0m\u001b[0m\n\u001b[1;32m    201\u001b[0m \u001b[0;34m\u001b[0m\u001b[0m\n",
      "\u001b[0;31mAttributeError\u001b[0m: 'NoneType' object has no attribute 'shape'"
     ]
    }
   ],
   "source": [
    "plot_dir = 'results/plots/'\n",
    "niter = 60\n",
    "for r in range(data.R):\n",
    "    nll_history, rvs_history, model_history, chis_history = wobble.optimize_order(model, data, r, \n",
    "                niter=niter, output_history=True) \n",
    "    plt.scatter(np.arange(len(nll_history)), nll_history)\n",
    "    ax = plt.gca()\n",
    "    ax.set_yscale('log')\n",
    "    plt.savefig(plot_dir+'nll_order{0}.png'.format(r))   \n",
    "    plt.show()\n",
    "    rvs_ani = wobble.plot_rv_history(data, rvs_history, niter, 50, xlims=[-20000, 20000], ylims=[-50, 50])\n",
    "    rvs_ani.save(plot_dir+'rvs_order{0}.mp4'.format(r), fps=30, extra_args=['-vcodec', 'libx264'])\n",
    "    print('RVs animation saved')\n",
    "    session = wobble.get_session()\n",
    "    model_xs = session.run(model.components[0].model_xs[r])\n",
    "    model_ani = wobble.plot_model_history(model_xs, model_history, niter, 50)\n",
    "    model_ani.save(plot_dir+'model_order{0}.mp4'.format(r), fps=30, extra_args=['-vcodec', 'libx264'])\n",
    "    print('model animation saved')\n",
    "    data_xs = session.run(data.xs[r])\n",
    "    chis_ani = wobble.plot_chis_history(0, data_xs, chis_history, niter, 50)\n",
    "    chis_ani.save(plot_dir+'chis_order{0}_epoch0.mp4'.format(r), fps=30, extra_args=['-vcodec', 'libx264'])\n",
    "    print('chis animation saved')"
   ]
  },
  {
   "cell_type": "code",
   "execution_count": null,
   "metadata": {},
   "outputs": [],
   "source": []
  }
 ],
 "metadata": {
  "kernelspec": {
   "display_name": "Python 3",
   "language": "python",
   "name": "python3"
  },
  "language_info": {
   "codemirror_mode": {
    "name": "ipython",
    "version": 3
   },
   "file_extension": ".py",
   "mimetype": "text/x-python",
   "name": "python",
   "nbconvert_exporter": "python",
   "pygments_lexer": "ipython3",
   "version": "3.6.0"
  }
 },
 "nbformat": 4,
 "nbformat_minor": 2
}
