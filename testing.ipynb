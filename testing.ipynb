{
 "cells": [
  {
   "cell_type": "code",
   "execution_count": 1,
   "metadata": {},
   "outputs": [
    {
     "name": "stderr",
     "output_type": "stream",
     "text": [
      "/usr/local/Cellar/python3/3.6.0/Frameworks/Python.framework/Versions/3.6/lib/python3.6/site-packages/h5py/__init__.py:36: FutureWarning: Conversion of the second argument of issubdtype from `float` to `np.floating` is deprecated. In future, it will be treated as `np.float64 == np.dtype(float).type`.\n",
      "  from ._conv import register_converters as _register_converters\n"
     ]
    }
   ],
   "source": [
    "import wobble\n",
    "import numpy as np\n",
    "import matplotlib.pyplot as plt"
   ]
  },
  {
   "cell_type": "code",
   "execution_count": 2,
   "metadata": {},
   "outputs": [],
   "source": [
    "data = wobble.Data('51peg_e2ds.hdf5', filepath='data/', orders=[56])\n",
    "results = wobble.Results(data)"
   ]
  },
  {
   "cell_type": "code",
   "execution_count": 3,
   "metadata": {},
   "outputs": [],
   "source": [
    "model = wobble.Model(data, results, 0)"
   ]
  },
  {
   "cell_type": "code",
   "execution_count": 4,
   "metadata": {},
   "outputs": [],
   "source": [
    "model.add_star('star')\n",
    "model.add_telluric('tellurics', rvs_fixed=True, variable_bases=3)"
   ]
  },
  {
   "cell_type": "code",
   "execution_count": 5,
   "metadata": {},
   "outputs": [],
   "source": [
    "model.setup()"
   ]
  },
  {
   "cell_type": "code",
   "execution_count": 6,
   "metadata": {},
   "outputs": [],
   "source": [
    "for c in model.components:\n",
    "    results.add_component(c)"
   ]
  },
  {
   "cell_type": "code",
   "execution_count": null,
   "metadata": {},
   "outputs": [
    {
     "name": "stdout",
     "output_type": "stream",
     "text": [
      "iter 0\n",
      "iter 1\n",
      "iter 2\n",
      "iter 3\n",
      "iter 4\n",
      "iter 5\n",
      "iter 6\n",
      "iter 7\n",
      "iter 8\n",
      "iter 9\n",
      "iter 10\n",
      "iter 11\n",
      "iter 12\n",
      "iter 13\n",
      "iter 14\n",
      "iter 15\n",
      "iter 16\n",
      "iter 17\n",
      "iter 18\n",
      "iter 19\n",
      "iter 20\n",
      "iter 21\n",
      "iter 22\n",
      "iter 23\n",
      "iter 24\n",
      "iter 25\n",
      "iter 26\n",
      "iter 27\n",
      "iter 28\n",
      "iter 29\n",
      "iter 30\n",
      "iter 31\n",
      "iter 32\n",
      "iter 33\n",
      "iter 34\n",
      "iter 35\n",
      "iter 36\n",
      "iter 37\n",
      "iter 38\n",
      "iter 39\n",
      "iter 40\n",
      "iter 41\n",
      "iter 42\n",
      "iter 43\n",
      "iter 44\n",
      "iter 45\n",
      "iter 46\n",
      "iter 47\n",
      "iter 48\n",
      "iter 49\n",
      "iter 50\n",
      "iter 51\n",
      "iter 52\n",
      "iter 53\n",
      "iter 54\n",
      "iter 55\n",
      "iter 56\n",
      "iter 57\n",
      "iter 58\n",
      "iter 59\n",
      "iter 60\n",
      "iter 61\n",
      "iter 62\n",
      "iter 63\n",
      "iter 64\n",
      "iter 65\n",
      "iter 66\n",
      "iter 67\n",
      "iter 68\n",
      "iter 69\n",
      "iter 70\n"
     ]
    }
   ],
   "source": [
    "model.optimize()"
   ]
  },
  {
   "cell_type": "code",
   "execution_count": null,
   "metadata": {},
   "outputs": [],
   "source": [
    "plt.plot(results.star_template_xs[0], results.star_template_ys[0])"
   ]
  }
 ],
 "metadata": {
  "kernelspec": {
   "display_name": "Python 3",
   "language": "python",
   "name": "python3"
  },
  "language_info": {
   "codemirror_mode": {
    "name": "ipython",
    "version": 3
   },
   "file_extension": ".py",
   "mimetype": "text/x-python",
   "name": "python",
   "nbconvert_exporter": "python",
   "pygments_lexer": "ipython3",
   "version": "3.6.0"
  }
 },
 "nbformat": 4,
 "nbformat_minor": 2
}
