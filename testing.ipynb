{
 "cells": [
  {
   "cell_type": "code",
   "execution_count": 1,
   "metadata": {},
   "outputs": [
    {
     "name": "stderr",
     "output_type": "stream",
     "text": [
      "/usr/local/Cellar/python3/3.6.0/Frameworks/Python.framework/Versions/3.6/lib/python3.6/site-packages/h5py/__init__.py:36: FutureWarning: Conversion of the second argument of issubdtype from `float` to `np.floating` is deprecated. In future, it will be treated as `np.float64 == np.dtype(float).type`.\n",
      "  from ._conv import register_converters as _register_converters\n"
     ]
    }
   ],
   "source": [
    "import wobble\n",
    "import numpy as np\n",
    "import matplotlib.pyplot as plt\n",
    "import copy\n",
    "from tqdm import tqdm"
   ]
  },
  {
   "cell_type": "code",
   "execution_count": 3,
   "metadata": {},
   "outputs": [],
   "source": [
    "o = 56\n",
    "data = wobble.Data('51peg_e2ds.hdf5', filepath='data/', orders=[o])\n",
    "results = wobble.Results(data)"
   ]
  },
  {
   "cell_type": "code",
   "execution_count": 5,
   "metadata": {},
   "outputs": [
    {
     "data": {
      "text/plain": [
       "\"for r in range(data.R):\\n    model = wobble.Model(data, results, r)\\n\\n    model.add_star('star')\\n    model.add_telluric('tellurics', rvs_fixed=True, variable_bases=3)\\n\\n    model.setup()\\n\\n    model.optimize(niter=60)\\n\""
      ]
     },
     "execution_count": 5,
     "metadata": {},
     "output_type": "execute_result"
    }
   ],
   "source": [
    "'''for r in range(data.R):\n",
    "    model = wobble.Model(data, results, r)\n",
    "\n",
    "    model.add_star('star')\n",
    "    model.add_telluric('tellurics', rvs_fixed=True, variable_bases=3)\n",
    "\n",
    "    model.setup()\n",
    "\n",
    "    model.optimize(niter=60)\n",
    "'''"
   ]
  },
  {
   "cell_type": "code",
   "execution_count": 4,
   "metadata": {},
   "outputs": [],
   "source": [
    "validation_epochs = np.random.choice(data.N, data.N//10, replace=False)\n",
    "training_epochs = np.delete(np.arange(data.N), validation_epochs)\n",
    "    \n",
    "training_data = wobble.Data('51peg_e2ds.hdf5', filepath='data/', orders=[o], mask_epochs=validation_epochs)\n",
    "training_results = wobble.Results(training_data)\n",
    "\n",
    "validation_data = wobble.Data('51peg_e2ds.hdf5', filepath='data/', orders=[o], mask_epochs=training_epochs)\n",
    "validation_results = wobble.Results(validation_data)"
   ]
  },
  {
   "cell_type": "code",
   "execution_count": 5,
   "metadata": {},
   "outputs": [],
   "source": [
    "r = 0\n",
    "training_model = wobble.Model(training_data, training_results, r)\n",
    "training_model.add_star('star')\n",
    "training_model.add_telluric('tellurics', rvs_fixed=True, variable_bases=3)\n",
    "training_model.setup()\n",
    "\n",
    "validation_model = wobble.Model(validation_data, validation_results, r)\n",
    "validation_model.add_star('star')\n",
    "validation_model.add_telluric('tellurics', rvs_fixed=True, variable_bases=3)\n",
    "validation_model.setup()"
   ]
  },
  {
   "cell_type": "code",
   "execution_count": 6,
   "metadata": {},
   "outputs": [],
   "source": [
    "regularization_dict = {training_model.components[0].L1_template_tensor: 1.e1,\n",
    "                      training_model.components[0].L2_template_tensor: 1.e3,\n",
    "                      training_model.components[1].L1_template_tensor: 1.e3,\n",
    "                      training_model.components[1].L2_template_tensor: 1.e6,\n",
    "                      training_model.components[1].L1_basis_vectors_tensor: 1.e8,\n",
    "                      training_model.components[1].L2_basis_vectors_tensor: 1.e0,\n",
    "                      training_model.components[1].L2_basis_weights_tensor: 1.0,}"
   ]
  },
  {
   "cell_type": "code",
   "execution_count": 7,
   "metadata": {},
   "outputs": [
    {
     "name": "stderr",
     "output_type": "stream",
     "text": [
      "100%|██████████| 60/60 [00:04<00:00, 14.85it/s]\n"
     ]
    }
   ],
   "source": [
    "training_model.optimize(niter=60, feed_dict=regularization_dict)"
   ]
  },
  {
   "cell_type": "code",
   "execution_count": 8,
   "metadata": {},
   "outputs": [],
   "source": [
    "validation_dict = {**regularization_dict}\n",
    "for c in validation_model.components:\n",
    "    validation_dict[getattr(c, 'template_xs')] = getattr(training_model.results, c.name+'_template_xs')[r]\n",
    "    validation_dict[getattr(c, 'template_ys')] = getattr(training_model.results, c.name+'_template_ys')[r]"
   ]
  },
  {
   "cell_type": "code",
   "execution_count": 9,
   "metadata": {},
   "outputs": [
    {
     "name": "stderr",
     "output_type": "stream",
     "text": [
      "100%|██████████| 60/60 [00:02<00:00, 21.74it/s]\n"
     ]
    },
    {
     "data": {
      "text/plain": [
       "319687.2985067851"
      ]
     },
     "execution_count": 9,
     "metadata": {},
     "output_type": "execute_result"
    }
   ],
   "source": [
    "session = wobble.utils.get_session()\n",
    "for i in tqdm(range(60)):\n",
    "    session.run(validation_model.components[0].opt_rvs, feed_dict=validation_dict)\n",
    "session.run(validation_model.nll)"
   ]
  },
  {
   "cell_type": "code",
   "execution_count": 10,
   "metadata": {},
   "outputs": [],
   "source": [
    "for c in validation_model.components:\n",
    "    validation_model.results.update(c)"
   ]
  },
  {
   "cell_type": "code",
   "execution_count": 11,
   "metadata": {},
   "outputs": [
    {
     "data": {
      "text/plain": [
       "[<matplotlib.lines.Line2D at 0x10e2d7e10>]"
      ]
     },
     "execution_count": 11,
     "metadata": {},
     "output_type": "execute_result"
    },
    {
     "data": {
      "image/png": "[encoded data removed]",
      "text/plain": [
       "<Figure size 432x288 with 1 Axes>"
      ]
     },
     "metadata": {},
     "output_type": "display_data"
    }
   ],
   "source": [
    "n = validation_epochs[0]\n",
    "plt.plot(data.xs[r][n], data.ys[r][n], color='k')\n",
    "plt.plot(data.xs[r][n], validation_results.star_ys_predicted[r][n], color='r', alpha=0.5)\n",
    "plt.plot(data.xs[r][n], validation_results.tellurics_ys_predicted[r][n], color='b', alpha=0.5)\n",
    "#plt.xlim([8.252, 8.255])"
   ]
  },
  {
   "cell_type": "code",
   "execution_count": 12,
   "metadata": {},
   "outputs": [],
   "source": [
    "#results.write('results.hdf5')"
   ]
  },
  {
   "cell_type": "code",
   "execution_count": null,
   "metadata": {},
   "outputs": [],
   "source": []
  }
 ],
 "metadata": {
  "kernelspec": {
   "display_name": "Python 3",
   "language": "python",
   "name": "python3"
  },
  "language_info": {
   "codemirror_mode": {
    "name": "ipython",
    "version": 3
   },
   "file_extension": ".py",
   "mimetype": "text/x-python",
   "name": "python",
   "nbconvert_exporter": "python",
   "pygments_lexer": "ipython3",
   "version": "3.6.0"
  }
 },
 "nbformat": 4,
 "nbformat_minor": 2
}
