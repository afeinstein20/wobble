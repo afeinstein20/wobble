{
 "cells": [
  {
   "cell_type": "code",
   "execution_count": 1,
   "metadata": {
    "collapsed": false
   },
   "outputs": [
    {
     "name": "stderr",
     "output_type": "stream",
     "text": [
      "/usr/local/lib/python3.6/site-packages/h5py/__init__.py:36: FutureWarning: Conversion of the second argument of issubdtype from `float` to `np.floating` is deprecated. In future, it will be treated as `np.float64 == np.dtype(float).type`.\n",
      "  from ._conv import register_converters as _register_converters\n"
     ]
    }
   ],
   "source": [
    "from wobble.interp import interp\n",
    "import h5py\n",
    "import wobble\n",
    "import numpy as np\n",
    "import matplotlib.pyplot as plt\n",
    "from tqdm import tqdm"
   ]
  },
  {
   "cell_type": "markdown",
   "metadata": {},
   "source": [
    "## Read in data"
   ]
  },
  {
   "cell_type": "code",
   "execution_count": 2,
   "metadata": {
    "collapsed": true
   },
   "outputs": [],
   "source": [
    "starid = 'hip54287'\n",
    "filename = 'data/'+starid+'_e2ds.hdf5'"
   ]
  },
  {
   "cell_type": "code",
   "execution_count": 3,
   "metadata": {
    "collapsed": false
   },
   "outputs": [],
   "source": [
    "with h5py.File(filename) as f:\n",
    "    order = 56\n",
    "    data = np.log(f['data'][order])\n",
    "    data_xs = np.log(f['xs'][order])\n",
    "    ivars = np.copy(f['ivars'][order])\n",
    "    pipeline_rvs = -1. * np.copy(f['pipeline_rvs'])\n",
    "    bervs = -1. * np.copy(f['bervs'])\n",
    "    airms = np.copy(f['airms'])"
   ]
  },
  {
   "cell_type": "code",
   "execution_count": 4,
   "metadata": {
    "collapsed": false
   },
   "outputs": [],
   "source": [
    "for n in range(len(data)):\n",
    "    data[n] -= wobble.fit_continuum(data_xs[n], data[n], ivars[n])"
   ]
  },
  {
   "cell_type": "code",
   "execution_count": 5,
   "metadata": {
    "collapsed": false
   },
   "outputs": [
    {
     "data": {
      "text/plain": [
       "[<matplotlib.lines.Line2D at 0x1195ea048>]"
      ]
     },
     "execution_count": 5,
     "metadata": {},
     "output_type": "execute_result"
    },
    {
     "data": {
      "image/png": "[encoded data removed]",
      "text/plain": [
       "<Figure size 432x288 with 1 Axes>"
      ]
     },
     "metadata": {},
     "output_type": "display_data"
    }
   ],
   "source": [
    "plt.plot(data_xs[0], data[0])\n",
    "plt.plot(data_xs[5], data[5])"
   ]
  },
  {
   "cell_type": "code",
   "execution_count": 6,
   "metadata": {
    "collapsed": false
   },
   "outputs": [
    {
     "data": {
      "text/plain": [
       "75"
      ]
     },
     "execution_count": 6,
     "metadata": {},
     "output_type": "execute_result"
    }
   ],
   "source": [
    "len(data)"
   ]
  },
  {
   "cell_type": "code",
   "execution_count": 7,
   "metadata": {
    "collapsed": false
   },
   "outputs": [
    {
     "name": "stdout",
     "output_type": "stream",
     "text": [
      "initializing star model...\n",
      "initializing tellurics model...\n"
     ]
    }
   ],
   "source": [
    "a = wobble.star(starid+'_e2ds.hdf5', filepath='data/', orders=[order])\n",
    "a.initialize_model(0, 'star')\n",
    "star_model_xs, star_model_ys = a.model_xs_star[0], a.model_ys_star[0]\n",
    "a.initialize_model(0, 't')\n",
    "t_model_xs, t_model_ys = a.model_xs_t[0], a.model_ys_t[0]"
   ]
  },
  {
   "cell_type": "markdown",
   "metadata": {},
   "source": [
    "## Build wobbleflow framework"
   ]
  },
  {
   "cell_type": "code",
   "execution_count": 8,
   "metadata": {
    "collapsed": true
   },
   "outputs": [],
   "source": [
    "import tensorflow as tf"
   ]
  },
  {
   "cell_type": "code",
   "execution_count": 9,
   "metadata": {
    "collapsed": false
   },
   "outputs": [
    {
     "name": "stdout",
     "output_type": "stream",
     "text": [
      "CPU times: user 5 µs, sys: 1e+03 ns, total: 6 µs\n",
      "Wall time: 12.2 µs\n"
     ]
    }
   ],
   "source": [
    "%time\n",
    "T = tf.float64\n",
    "data_tensor = tf.constant(data, dtype=T)\n",
    "xs_tensor = tf.constant(data_xs, dtype=T)\n",
    "ivars_tensor = tf.constant(ivars, dtype=T)"
   ]
  },
  {
   "cell_type": "code",
   "execution_count": 10,
   "metadata": {
    "collapsed": true
   },
   "outputs": [],
   "source": [
    "starting_rvs = pipeline_rvs + np.random.normal(0., 100., len(pipeline_rvs))"
   ]
  },
  {
   "cell_type": "code",
   "execution_count": 11,
   "metadata": {
    "collapsed": true
   },
   "outputs": [],
   "source": [
    "speed_of_light = 2.99792458e8   # m/s\n",
    "\n",
    "def doppler(v):\n",
    "    frac = (1. - v/speed_of_light) / (1. + v/speed_of_light)\n",
    "    return tf.sqrt(frac)"
   ]
  },
  {
   "cell_type": "code",
   "execution_count": 12,
   "metadata": {},
   "outputs": [],
   "source": [
    "#setup a data object that functions like wobble.Data:\n",
    "class Data(object):\n",
    "    def __init__(self):\n",
    "        self.N = len(pipeline_rvs)\n",
    "        self.R = 1\n",
    "        self.ys = data\n",
    "        self.xs = data_xs\n",
    "        self.ivars = ivars\n",
    "        self.pipeline_rvs = pipeline_rvs\n",
    "        self.bervs = bervs\n",
    "        \n",
    "    def make_tensors(self):\n",
    "        self.ys_tensor = [tf.constant(y, dtype=T) for y in self.ys]\n",
    "        self.xs_tensor = [tf.constant(x, dtype=T) for x in self.xs]\n",
    "        self.ivars_tensor = [tf.constant(i, dtype=T) for i in self.ivars]\n",
    "        \n",
    "data = Data()"
   ]
  },
  {
   "cell_type": "code",
   "execution_count": 13,
   "metadata": {},
   "outputs": [],
   "source": [
    "#setup a model object that functions like wobble.Model:\n",
    "class Model(object):\n",
    "    \"\"\"\n",
    "    Keeps track of all components in the model.\n",
    "    \"\"\"\n",
    "    def __init__(self, data):\n",
    "        self.components = []\n",
    "        self.data = data\n",
    "        \n",
    "    def add_star(self, name):\n",
    "        name = Star(self.data)\n",
    "        self.components.append(name)\n",
    "        \n",
    "    def add_telluric(self, name):\n",
    "        name = Telluric(self.data)\n",
    "        self.components.append(name)\n",
    "        \n",
    "class Component(object):\n",
    "    \"\"\"\n",
    "    Generic class for an additive component in the spectral model.\n",
    "    \"\"\"\n",
    "    def __init__(self, data):\n",
    "        self.rvs_block = [np.zeros(data.N) for r in range(data.R)]\n",
    "        self.model_xs = [np.zeros(100) for r in range(data.R)]\n",
    "        self.model_ys = [np.zeros(100) for r in range(data.R)]\n",
    "        \n",
    "        \n",
    "    def make_tensors(self):\n",
    "        \"\"\"\n",
    "        Convert attributes to TensorFlow variables in preparation for optimizing.\n",
    "        \"\"\"\n",
    "        self.rvs_block_tensor = [tf.Variable(v, dtype=T) for v in self.rvs_block]\n",
    "        self.model_ys_tensor = [tf.Variable(m, dtype=T) for m in self.model_ys]\n",
    "        self.model_xs_tensor = [tf.Variable(m, dtype=T) for m in self.model_xs]\n",
    "        \n",
    "    def shift_and_interp(self, r, xs, rv):\n",
    "        \"\"\"\n",
    "        Apply a Doppler shift to the model at order r and output interpolated values at xs.\n",
    "        \"\"\"\n",
    "        shifted_xs = xs + tf.log(doppler(rv))\n",
    "        return interp(shifted_xs, self.model_xs_tensor[r], self.model_ys_tensor[r])        \n",
    "\n",
    "class Star(Component):\n",
    "    \"\"\"\n",
    "    A star (or generic celestial object)\n",
    "    \"\"\"\n",
    "    def __init__(self, data):\n",
    "        Component.__init__(self, data)\n",
    "        self.rvs_block = [starting_rvs for r in range(data.R)]\n",
    "        self.initialize_model(data)\n",
    "    \n",
    "    def initialize_model(self, data):\n",
    "        # hackety fucking hack\n",
    "        self.model_xs = [star_model_xs]\n",
    "        self.model_ys = [star_model_ys]       \n",
    "\n",
    "class Telluric(Component):\n",
    "    \"\"\"\n",
    "    Sky absorption\n",
    "    \"\"\"\n",
    "    def __init__(self, data):\n",
    "        Component.__init__(self, data)\n",
    "        self.initialize_model(data)\n",
    "        \n",
    "    def initialize_model(self, data):\n",
    "        # hackety fucking hack\n",
    "        self.model_xs = [t_model_xs]\n",
    "        self.model_ys = [t_model_ys]"
   ]
  },
  {
   "cell_type": "code",
   "execution_count": 14,
   "metadata": {},
   "outputs": [
    {
     "name": "stdout",
     "output_type": "stream",
     "text": [
      "CPU times: user 3 µs, sys: 0 ns, total: 3 µs\n",
      "Wall time: 8.82 µs\n"
     ]
    }
   ],
   "source": [
    "%time\n",
    "model = Model(data)\n",
    "model.add_star('a')\n",
    "model.add_telluric('t')\n",
    "for c in model.components:\n",
    "    c.make_tensors()"
   ]
  },
  {
   "cell_type": "code",
   "execution_count": 15,
   "metadata": {},
   "outputs": [],
   "source": [
    "r = 0\n",
    "shifted_xs_star = xs_tensor + tf.log(doppler(model.components[0].rvs_block_tensor[r][:, None]))\n",
    "models_star = interp(shifted_xs_star, model.components[0].model_xs_tensor[r], model.components[0].model_ys_tensor[r])\n",
    "shifted_xs_t = xs_tensor + tf.log(doppler(model.components[1].rvs_block_tensor[r][:, None]))\n",
    "models_t = interp(shifted_xs_t, model.components[1].model_xs_tensor[r], model.components[1].model_ys_tensor[r])\n",
    "models = models_star + models_t\n",
    "nll = 0.5*tf.reduce_sum(tf.square(data_tensor - models) * ivars_tensor)"
   ]
  },
  {
   "cell_type": "code",
   "execution_count": 16,
   "metadata": {},
   "outputs": [],
   "source": [
    "grad_model_star = tf.gradients(nll, model.components[0].model_ys_tensor[r])\n",
    "grad_rvs_star = tf.gradients(nll, model.components[0].rvs_block_tensor[r])\n",
    "grad_model_t = tf.gradients(nll, model.components[1].model_ys_tensor[r])\n",
    "grad_rvs_t = tf.gradients(nll, model.components[1].rvs_block_tensor[r])"
   ]
  },
  {
   "cell_type": "markdown",
   "metadata": {},
   "source": [
    "## Check some gradients"
   ]
  },
  {
   "cell_type": "code",
   "execution_count": 17,
   "metadata": {},
   "outputs": [],
   "source": [
    "session = tf.Session()\n",
    "session.run(tf.global_variables_initializer())\n",
    "tf_grad = session.run(grad_rvs_star)[0]"
   ]
  },
  {
   "cell_type": "code",
   "execution_count": 18,
   "metadata": {},
   "outputs": [
    {
     "name": "stdout",
     "output_type": "stream",
     "text": [
      "Optimizer gradients - TF.gradient():\n",
      "[0. 0. 0. 0. 0. 0. 0. 0. 0. 0. 0. 0. 0. 0. 0. 0. 0. 0. 0. 0. 0. 0. 0. 0.\n",
      " 0. 0. 0. 0. 0. 0. 0. 0. 0. 0. 0. 0. 0. 0. 0. 0. 0. 0. 0. 0. 0. 0. 0. 0.\n",
      " 0. 0. 0. 0. 0. 0. 0. 0. 0. 0. 0. 0. 0. 0. 0. 0. 0. 0. 0. 0. 0. 0. 0. 0.\n",
      " 0. 0. 0.]\n"
     ]
    }
   ],
   "source": [
    "opt_grad_rvs_star = tf.train.AdamOptimizer(10.).compute_gradients(nll, var_list=[model.components[0].rvs_block_tensor[r]])\n",
    "opt_grad = session.run(opt_grad_rvs_star)[0][0]\n",
    "print(\"Optimizer gradients - TF.gradient():\")\n",
    "print(opt_grad - tf_grad)"
   ]
  },
  {
   "cell_type": "code",
   "execution_count": 19,
   "metadata": {},
   "outputs": [],
   "source": [
    "rvs = tf.placeholder(T, (75,))\n",
    "shifted_xs_star2 = xs_tensor + tf.log(doppler(rvs[:,None]))\n",
    "models_star2 = interp(shifted_xs_star2, model.components[0].model_xs_tensor[r], model.components[0].model_ys_tensor[r])\n",
    "models2 = models_star2 + models_t\n",
    "nll2 = 0.5*tf.reduce_sum(tf.square(data_tensor - models2) * ivars_tensor)"
   ]
  },
  {
   "cell_type": "code",
   "execution_count": 20,
   "metadata": {},
   "outputs": [
    {
     "name": "stdout",
     "output_type": "stream",
     "text": [
      "Fractional difference between numerical gradients & TF gradient at each RV_star:\n",
      "[ 4.28200768e-05 -1.43484618e-05  4.46799764e-04  1.46691706e-05\n",
      " -2.11162422e-04  1.24143576e-04 -2.98207315e-04 -4.37132387e-04\n",
      "  1.14500521e-04 -1.77053620e-04 -5.61272516e-04 -7.54084499e-05\n",
      "  6.45479456e-04 -4.65913839e-05 -7.34994323e-05  1.63979149e-04\n",
      " -8.45420135e-05 -8.41107201e-05  1.03836820e-04  3.29061166e-04\n",
      "  1.62642959e-04  5.35738012e-04 -1.25375025e-04  5.15559960e-05\n",
      " -9.36175438e-04  1.08289002e-04  6.45372625e-05  6.62112315e-05\n",
      " -1.73478769e-04 -5.29878868e-05  1.17255602e-04  2.80005248e-04\n",
      "  4.11023743e-04 -2.05895963e-04 -5.95754052e-05  4.09016405e-04\n",
      "  1.20199756e-04 -7.61534267e-05  1.51928753e-04  3.11806626e-04\n",
      "  2.18294785e-04  7.78778274e-05  3.31482444e-04  1.35112741e-04\n",
      "  3.92725031e-04 -1.10799018e-04  1.12016154e-03 -6.70438470e-05\n",
      "  2.06275934e-05  3.29189530e-05 -4.74770992e-06  1.77353656e-05\n",
      " -7.12973857e-05 -1.28919307e-03 -7.13552449e-05 -2.55441014e-04\n",
      " -8.13296359e-05 -3.31077816e-06  3.27367445e-05  3.25347966e-04\n",
      "  2.19407881e-05 -2.37567594e-04  9.93328711e-06 -3.51693963e-05\n",
      "  1.17802921e-04  2.59088444e-04  6.64891935e-05  3.67965014e-05\n",
      "  7.61700006e-05  2.10236840e-04  1.86393608e-05 -2.16072070e-04\n",
      "  6.15435337e-04  1.59248135e-04 -3.21840070e-04]\n"
     ]
    }
   ],
   "source": [
    "num_grads = np.zeros_like(tf_grad)\n",
    "rvs0 = model.components[0].rvs_block[r]\n",
    "#print(rvs0 - session.run(model.components[0].rvs_block_tensor[r]))\n",
    "nll_0 = session.run(nll2, feed_dict={rvs:rvs0})\n",
    "d_rvs = 0.001\n",
    "for n in range(75):\n",
    "    rvs1 = np.copy(rvs0)\n",
    "    rvs1[n] += d_rvs\n",
    "    nll_1 = session.run(nll2, feed_dict={rvs:rvs1})\n",
    "    num_grads[n] = np.copy((nll_1 - nll_0)/d_rvs)\n",
    "print(\"Fractional difference between numerical gradients & TF gradient at each RV_star:\")\n",
    "print((num_grads - tf_grad) / np.median(np.abs(tf_grad)))"
   ]
  },
  {
   "cell_type": "markdown",
   "metadata": {},
   "source": [
    "## Optimize"
   ]
  },
  {
   "cell_type": "code",
   "execution_count": 21,
   "metadata": {},
   "outputs": [],
   "source": [
    "opt_model_star = tf.train.AdamOptimizer(0.01).minimize(nll, var_list=[model.components[0].model_ys_tensor[r]])\n",
    "opt_rvs_star = tf.train.AdamOptimizer(10.).minimize(nll, var_list=model.components[0].rvs_block_tensor[r])\n",
    "opt_model_t = tf.train.AdamOptimizer(0.1).minimize(nll, var_list=[model.components[1].model_ys_tensor[r]])\n",
    "opt_rvs_t = tf.train.AdamOptimizer(10.).minimize(nll, var_list=model.components[1].rvs_block_tensor[r])"
   ]
  },
  {
   "cell_type": "code",
   "execution_count": 22,
   "metadata": {},
   "outputs": [
    {
     "name": "stderr",
     "output_type": "stream",
     "text": [
      "100%|██████████| 80/80 [00:36<00:00,  2.17it/s]"
     ]
    },
    {
     "name": "stdout",
     "output_type": "stream",
     "text": [
      "CPU times: user 46.7 s, sys: 6.96 s, total: 53.7 s\n",
      "Wall time: 37.3 s\n"
     ]
    },
    {
     "name": "stderr",
     "output_type": "stream",
     "text": [
      "\n"
     ]
    }
   ],
   "source": [
    "%%time\n",
    "session = tf.Session()\n",
    "session.run(tf.global_variables_initializer())\n",
    "\n",
    "nll_history = []\n",
    "for i in tqdm(range(80)):\n",
    "    session.run(opt_rvs_star)\n",
    "    nll_history.append(session.run(nll))\n",
    "    session.run(opt_rvs_t)\n",
    "    nll_history.append(session.run(nll))\n",
    "    session.run(opt_model_star)\n",
    "    nll_history.append(session.run(nll))\n",
    "    session.run(opt_model_t)\n",
    "    nll_history.append(session.run(nll))          \n",
    "\n",
    "soln_model_star = session.run(model.components[0].model_ys_tensor[r])\n",
    "soln_rvs_star = session.run(model.components[0].rvs_block_tensor[r])\n",
    "soln_model_t = session.run(model.components[1].model_ys_tensor[r])\n",
    "soln_rvs_t = session.run(model.components[1].rvs_block_tensor[r])"
   ]
  },
  {
   "cell_type": "code",
   "execution_count": 23,
   "metadata": {},
   "outputs": [
    {
     "data": {
      "image/png": "[encoded data removed]",
      "text/plain": [
       "<Figure size 432x288 with 1 Axes>"
      ]
     },
     "metadata": {},
     "output_type": "display_data"
    }
   ],
   "source": [
    "plt.scatter(np.arange(len(nll_history)), nll_history)\n",
    "ax = plt.gca()\n",
    "ax.set_yscale('log')"
   ]
  },
  {
   "cell_type": "code",
   "execution_count": 24,
   "metadata": {},
   "outputs": [
    {
     "name": "stdout",
     "output_type": "stream",
     "text": [
      "8.535875484800851\n"
     ]
    },
    {
     "data": {
      "image/png": "[encoded data removed]",
      "text/plain": [
       "<Figure size 432x288 with 1 Axes>"
      ]
     },
     "metadata": {},
     "output_type": "display_data"
    }
   ],
   "source": [
    "plt.scatter(pipeline_rvs, starting_rvs - pipeline_rvs)\n",
    "plt.scatter(pipeline_rvs, soln_rvs_star - pipeline_rvs)\n",
    "print(np.std(soln_rvs_star - bervs))"
   ]
  },
  {
   "cell_type": "code",
   "execution_count": 25,
   "metadata": {},
   "outputs": [
    {
     "data": {
      "text/plain": [
       "[<matplotlib.lines.Line2D at 0x126e3f518>]"
      ]
     },
     "execution_count": 25,
     "metadata": {},
     "output_type": "execute_result"
    },
    {
     "data": {
      "image/png": "[encoded data removed]",
      "text/plain": [
       "<Figure size 432x288 with 1 Axes>"
      ]
     },
     "metadata": {},
     "output_type": "display_data"
    }
   ],
   "source": [
    "plt.step(np.exp(star_model_xs), soln_model_star, color='k')\n",
    "plt.step(np.exp(t_model_xs), soln_model_t, color='r')"
   ]
  },
  {
   "cell_type": "code",
   "execution_count": null,
   "metadata": {},
   "outputs": [],
   "source": []
  }
 ],
 "metadata": {
  "kernelspec": {
   "display_name": "Python 3",
   "language": "python",
   "name": "python3"
  },
  "language_info": {
   "codemirror_mode": {
    "name": "ipython",
    "version": 3
   },
   "file_extension": ".py",
   "mimetype": "text/x-python",
   "name": "python",
   "nbconvert_exporter": "python",
   "pygments_lexer": "ipython3",
   "version": "3.6.0"
  }
 },
 "nbformat": 4,
 "nbformat_minor": 2
}
